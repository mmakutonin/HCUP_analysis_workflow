{
 "cells": [
  {
   "cell_type": "code",
   "execution_count": 1,
   "id": "federal-console",
   "metadata": {},
   "outputs": [],
   "source": [
    "from utility_functions import load_file, pickle_file, starting_run, finished_run\n",
    "from data_reading_functions import data_dir, read_data, died_reference\n",
    "import pandas as pd\n",
    "import numpy as np"
   ]
  },
  {
   "cell_type": "code",
   "execution_count": 2,
   "id": "olive-pathology",
   "metadata": {},
   "outputs": [],
   "source": [
    "summary_table = load_file(\"filtered_dataset.pickle\")\n",
    "codes_table = load_file(\"filtered_dataset_codes.pickle\")\n",
    "index = summary_table[\"max_year\"].astype(\"int\")\n",
    "death_records = []"
   ]
  },
  {
   "cell_type": "code",
   "execution_count": 3,
   "id": "ecological-madness",
   "metadata": {
    "scrolled": false
   },
   "outputs": [
    {
     "name": "stdout",
     "output_type": "stream",
     "text": [
      "Starting sedd2016 20:58:00.276124\n",
      "Starting sedd2017 20:58:24.438037\n",
      "Starting sedd2018 20:58:47.738795\n",
      "Starting sid2016 20:59:10.983326\n",
      "Starting sid2017 20:59:16.862246\n",
      "Starting sid2018 20:59:22.774629\n",
      "Starting sasd2016 20:59:30.842946\n",
      "Starting sasd2017 21:00:08.060825\n",
      "Starting sasd2018 21:00:41.291958\n"
     ]
    }
   ],
   "source": [
    "for dataset in [\"sedd\", \"sid\", \"sasd\"]:\n",
    "    for year in [\"2016\", \"2017\", \"2018\"]:\n",
    "        starting_run(dataset + year)\n",
    "        data_file = read_data(died_reference[dataset][year], f\"MD_{dataset.upper()}_{year}_CORE.asc\")\n",
    "        deaths = data_file.astype({\"died\": \"int\"}).join(index, how=\"inner\", on=\"visit_link\").query(f\"max_year >={year} and died == 1\")\n",
    "        death_records.append(deaths)\n",
    "        del data_file\n",
    "        del deaths"
   ]
  },
  {
   "cell_type": "code",
   "execution_count": 4,
   "id": "authentic-advisory",
   "metadata": {},
   "outputs": [],
   "source": [
    "deaths = pd.concat(death_records).set_index(\"visit_link\").join(summary_table, how=\"right\", lsuffix=\"_died\")\n",
    "deaths[\"died\"] = deaths[\"died\"].fillna(0)"
   ]
  },
  {
   "cell_type": "code",
   "execution_count": 5,
   "id": "matched-tourism",
   "metadata": {},
   "outputs": [],
   "source": [
    "sedd_core_filtered = load_file(\"sedd_core_filtered.pickle\")\n",
    "sasd_core_filtered = load_file(\"sasd_core_filtered.pickle\")\n",
    "sid_core_filtered = load_file(\"sid_core_filtered.pickle\")"
   ]
  },
  {
   "cell_type": "code",
   "execution_count": 6,
   "id": "opponent-motor",
   "metadata": {},
   "outputs": [],
   "source": [
    "enriched_deaths = deaths.query(\"died == 1\").join(\n",
    "    sedd_core_filtered, on=\"record_id\", how=\"left\", rsuffix=\"_sedd\").join(\n",
    "    sasd_core_filtered, on=\"record_id\", how=\"left\", rsuffix=\"_sasd\").join(\n",
    "    sid_core_filtered, on=\"record_id\", how=\"left\", rsuffix=\"_sid\")"
   ]
  },
  {
   "cell_type": "code",
   "execution_count": 7,
   "id": "norman-launch",
   "metadata": {},
   "outputs": [],
   "source": [
    "enriched_valid_deaths = enriched_deaths[\n",
    "    enriched_deaths[[\"ICD-10\", \"ICD-10_sasd\", \"ICD-10_sid\"]\n",
    "    ].any(axis=1)].query(\"record_id != initial_record_id\")"
   ]
  },
  {
   "cell_type": "code",
   "execution_count": 8,
   "id": "suburban-integral",
   "metadata": {},
   "outputs": [],
   "source": [
    "fully_filtered_summary = deaths.drop(\n",
    "    enriched_deaths.drop(enriched_valid_deaths.index).index\n",
    ").drop(columns=[\"record_id\", \"max_year_died\"])"
   ]
  },
  {
   "cell_type": "code",
   "execution_count": 9,
   "id": "specified-oxygen",
   "metadata": {
    "scrolled": true
   },
   "outputs": [
    {
     "data": {
      "text/plain": [
       "(8,)"
      ]
     },
     "execution_count": 9,
     "metadata": {},
     "output_type": "execute_result"
    }
   ],
   "source": [
    "enriched_deaths.drop(enriched_valid_deaths.index).index.shape # count number of dropped patients"
   ]
  },
  {
   "cell_type": "code",
   "execution_count": 10,
   "id": "wrapped-spouse",
   "metadata": {
    "scrolled": true
   },
   "outputs": [],
   "source": [
    "pickle_file(\"fully_filtered_summary.pickle\", fully_filtered_summary)\n",
    "pickle_file(\"fully_filtered_codes.pickle\", codes_table.loc[fully_filtered_summary.index])"
   ]
  }
 ],
 "metadata": {
  "kernelspec": {
   "display_name": "Python 3",
   "language": "python",
   "name": "python3"
  },
  "language_info": {
   "codemirror_mode": {
    "name": "ipython",
    "version": 3
   },
   "file_extension": ".py",
   "mimetype": "text/x-python",
   "name": "python",
   "nbconvert_exporter": "python",
   "pygments_lexer": "ipython3",
   "version": "3.8.5"
  }
 },
 "nbformat": 4,
 "nbformat_minor": 5
}
