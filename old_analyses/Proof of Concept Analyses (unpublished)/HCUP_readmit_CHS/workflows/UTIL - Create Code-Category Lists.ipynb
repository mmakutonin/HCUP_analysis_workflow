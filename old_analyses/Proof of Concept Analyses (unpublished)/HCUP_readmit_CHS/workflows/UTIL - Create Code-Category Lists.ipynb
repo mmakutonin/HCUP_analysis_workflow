{
 "cells": [
  {
   "cell_type": "markdown",
   "id": "comfortable-province",
   "metadata": {},
   "source": [
    "### These lists are used in step 3+"
   ]
  },
  {
   "cell_type": "code",
   "execution_count": 1,
   "id": "accepted-fisher",
   "metadata": {},
   "outputs": [],
   "source": [
    "from utility_functions import pickle_file"
   ]
  },
  {
   "cell_type": "code",
   "execution_count": 2,
   "id": "valuable-infrared",
   "metadata": {},
   "outputs": [],
   "source": [
    "pickle_file(\"code-category-dict.pickle\", {\n",
    "    \"systemic hypertension\":[\"I10\", \"I11\", \"I12\", \"I13\", \"I14\", \"I15\", \"I16\", \"O10\", \"O11\", \"O13\", \"O14\", \"O15\", \"O16\"],\n",
    "    \"obesity\": [\"O9921\", \"O66\", \"Z683\", \"Z684\"],\n",
    "    \"aspirin\": [\"Z7982\"],\n",
    "    \"nicotine dependence\": [\"F17\", \"T652\", \"Z87891\", \"Z720\"],\n",
    "    \"hyperlipidemia\": [\"E780\", \"E781\", \"E782\", \"E783\", \"E784\", \"E785\"],\n",
    "    \"diabetes mellitus\": [\"E08\", \"E09\", \"E10\", \"E11\", \"E13\", \"O24\", \"Z8632\"],\n",
    "    \"ischemic heart disease\": [\"I20\", \"I21\", \"I22\", \"I23\", \"I24\", \"I25\"],\n",
    "    \"alcohol-related disorders\": [\"F10\"],\n",
    "    \"biliary colic with inflammation\": [\"K800\", \"K801\", \"K803\", \"K804\", \"K806\"],\n",
    "    \"mood disorders\": [\"F2\", \"F3\", \"F4\"]\n",
    "})"
   ]
  },
  {
   "cell_type": "code",
   "execution_count": null,
   "id": "indonesian-edward",
   "metadata": {},
   "outputs": [],
   "source": []
  }
 ],
 "metadata": {
  "kernelspec": {
   "display_name": "Python 3",
   "language": "python",
   "name": "python3"
  },
  "language_info": {
   "codemirror_mode": {
    "name": "ipython",
    "version": 3
   },
   "file_extension": ".py",
   "mimetype": "text/x-python",
   "name": "python",
   "nbconvert_exporter": "python",
   "pygments_lexer": "ipython3",
   "version": "3.8.5"
  }
 },
 "nbformat": 4,
 "nbformat_minor": 5
}
