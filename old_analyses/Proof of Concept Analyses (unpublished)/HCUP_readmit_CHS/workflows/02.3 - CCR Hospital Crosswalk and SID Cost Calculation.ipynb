{
 "cells": [
  {
   "cell_type": "code",
   "execution_count": 1,
   "id": "nearby-pharmacology",
   "metadata": {},
   "outputs": [],
   "source": [
    "import pandas as pd\n",
    "import numpy as np\n",
    "from data_reading_functions import data_dir, read_data, hospital_reference\n",
    "from utility_functions import load_file, pickle_file"
   ]
  },
  {
   "cell_type": "code",
   "execution_count": 2,
   "id": "invalid-darkness",
   "metadata": {},
   "outputs": [],
   "source": [
    "hospital_files = []\n",
    "for year in [2016, 2017, 2018]:\n",
    "    data_file = read_data(hospital_reference[\"sid\"][str(year)], f\"MD_SID_{year}_AHAL.asc\")\n",
    "    data_file[\"year\"] = year\n",
    "    hospital_files.append(data_file)\n",
    "hospital_lookup = pd.concat(hospital_files).astype('int').set_index(['HOSPID', 'year'])"
   ]
  },
  {
   "cell_type": "code",
   "execution_count": 3,
   "id": "fiscal-juvenile",
   "metadata": {},
   "outputs": [],
   "source": [
    "ccr_list = []\n",
    "# uses APICC for hospitals for which it is available, and GAPICC for those which APICC is not available.\n",
    "for ccr_name in ['cc2016CD', 'cc2017CD_v2', 'cc2018CDSID_v2']:\n",
    "    ccr = pd.read_csv(f'../pickled_data/{ccr_name}.csv', index_col=\"'HOSPID'\")\n",
    "    ratios = ccr[\"'APICC'\"].str.strip().replace(\".\", np.nan)\\\n",
    "    .combine_first(ccr[\"'GAPICC'\"]).astype('float').to_frame()\n",
    "    ratios['year'] = ccr.iat[0,0]\n",
    "    ccr_list.append(ratios)\n",
    "ccr = pd.concat(ccr_list).reset_index()\n",
    "ccr['HOSPID'] = ccr[\"'HOSPID'\"].transform(lambda hospid: hospid[1:-1]).astype('int')\n",
    "ccr['year'] = ccr['year'].astype('int')\n",
    "ccr = ccr.join(hospital_lookup, on=[\"HOSPID\", \"year\"], how=\"inner\").loc[:, [\"'APICC'\", 'year', 'DSHOSPID']]"
   ]
  },
  {
   "cell_type": "code",
   "execution_count": 4,
   "id": "progressive-hierarchy",
   "metadata": {},
   "outputs": [],
   "source": [
    "sid_core_filtered = load_file(\"filtered_sid_data.pickle\")\\\n",
    "[['hospital_id', 'year', 'total_charges', 'visit_link']].astype('int')\\\n",
    ".join(ccr.set_index([\"DSHOSPID\", \"year\"]), on=['hospital_id', 'year'], how=\"left\")"
   ]
  },
  {
   "cell_type": "code",
   "execution_count": 5,
   "id": "played-generation",
   "metadata": {},
   "outputs": [],
   "source": [
    "sid_core_filtered['SID_costs'] = sid_core_filtered['total_charges'].mul(sid_core_filtered[\"'APICC'\"])"
   ]
  },
  {
   "cell_type": "code",
   "execution_count": 6,
   "id": "precious-alloy",
   "metadata": {},
   "outputs": [],
   "source": [
    "pickle_file(\"sid_costs.pickle\", sid_core_filtered.loc[:, ['visit_link', 'SID_costs']])"
   ]
  },
  {
   "cell_type": "code",
   "execution_count": null,
   "id": "liable-clark",
   "metadata": {},
   "outputs": [],
   "source": []
  }
 ],
 "metadata": {
  "kernelspec": {
   "display_name": "Python 3",
   "language": "python",
   "name": "python3"
  },
  "language_info": {
   "codemirror_mode": {
    "name": "ipython",
    "version": 3
   },
   "file_extension": ".py",
   "mimetype": "text/x-python",
   "name": "python",
   "nbconvert_exporter": "python",
   "pygments_lexer": "ipython3",
   "version": "3.8.5"
  }
 },
 "nbformat": 4,
 "nbformat_minor": 5
}
