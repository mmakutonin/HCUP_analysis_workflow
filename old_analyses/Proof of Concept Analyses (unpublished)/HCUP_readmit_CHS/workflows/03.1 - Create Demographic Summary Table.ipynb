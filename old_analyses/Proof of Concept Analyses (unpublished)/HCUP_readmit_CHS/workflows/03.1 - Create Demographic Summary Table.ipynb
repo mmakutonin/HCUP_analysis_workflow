{
 "cells": [
  {
   "cell_type": "markdown",
   "id": "demonstrated-performance",
   "metadata": {},
   "source": [
    "### Imports"
   ]
  },
  {
   "cell_type": "code",
   "execution_count": 1,
   "id": "automatic-buffer",
   "metadata": {},
   "outputs": [],
   "source": [
    "import pandas as pd\n",
    "import numpy as np\n",
    "from utility_functions import load_file, pickle_file, starting_run, finished_run\n",
    "from analysis_variables import de_col_name\n",
    "from  scipy.stats import f_oneway, sem, norm\n",
    "\n",
    "full_dataset = load_file(\"summary_costs_enhanced.pickle\")\n",
    "filtered_dataset_codes = load_file(\"fully_filtered_codes.pickle\")\n",
    "code_category_dict = load_file(\"code-category-dict.pickle\")"
   ]
  },
  {
   "cell_type": "markdown",
   "id": "israeli-flush",
   "metadata": {},
   "source": [
    "### Demographic Column Classification"
   ]
  },
  {
   "cell_type": "code",
   "execution_count": 2,
   "id": "opposite-cause",
   "metadata": {},
   "outputs": [],
   "source": [
    "full_dataset[\"is_unmarried\"] = full_dataset[\"marital_status\"].ne('Married')\n",
    "full_dataset[\"is_married\"] = full_dataset[\"marital_status\"].eq('Married')\n",
    "full_dataset[\"is_uninsured\"] = full_dataset[\"payer\"].isin(['No charge', 'Self-pay'])\n",
    "full_dataset[\"has_medicare\"] = full_dataset[\"payer\"].eq('Medicare')\n",
    "full_dataset[\"has_medicaid\"] = full_dataset[\"payer\"].eq('Medicaid')\n",
    "full_dataset[\"has_private_insurance\"] = full_dataset[\"payer\"].eq('Private insurance')\n",
    "full_dataset[\"is_white\"] = full_dataset[\"race\"].eq(\"White\")\n",
    "full_dataset[\"is_african_american_or_hispanic\"] = full_dataset[\"race\"].isin(['African-American', \"Hispanic\"])\n",
    "full_dataset[\"is_female\"] = full_dataset[\"gender\"].eq(\"Female\")\n",
    "full_dataset[\"died\"] = full_dataset[\"died\"].eq(1)\n",
    "\n",
    "dem_dataset = full_dataset[[\n",
    "    'median_zip_income', \n",
    "    'age',\n",
    "    'Cost',\n",
    "    'is_unmarried', \n",
    "    'is_married', \n",
    "    'is_uninsured', \n",
    "    'has_medicare',\n",
    "    'has_medicaid',\n",
    "    'has_private_insurance',\n",
    "    'is_female',\n",
    "    'is_white',\n",
    "    'is_african_american_or_hispanic',\n",
    "    'ED_revisits',\n",
    "    'inpatient_visits',\n",
    "    'died'\n",
    "]].copy()"
   ]
  },
  {
   "cell_type": "markdown",
   "id": "special-order",
   "metadata": {},
   "source": [
    "### ICD-10 Diagnosis Code Classification"
   ]
  },
  {
   "cell_type": "code",
   "execution_count": 3,
   "id": "combined-stadium",
   "metadata": {},
   "outputs": [],
   "source": [
    "category_list = []\n",
    "visit_codes = filtered_dataset_codes.reset_index().\\\n",
    "                groupby(\"visit_link\")[\"codes\"].unique().apply(lambda x: [st.strip() for st in x])\n",
    "for key, values in code_category_dict.items():\n",
    "    category_list.append(visit_codes.transform(\n",
    "        lambda x: any([any([code.startswith(value) for value in values]) for code in x])\n",
    "    ).rename(f\"has {key}\"))\n",
    "category_status = pd.DataFrame(category_list).astype(\"int\").T\n",
    "category_status.index = category_status.index.astype(\"int\")\n",
    "category_status = category_status.loc[dem_dataset.index, :] # to remove rows dropped in 2.4\n",
    "pickle_file(\"category_status_filtered.pickle\", category_status)"
   ]
  },
  {
   "cell_type": "markdown",
   "id": "integrated-bangkok",
   "metadata": {},
   "source": [
    "### Create Summary Table"
   ]
  },
  {
   "cell_type": "code",
   "execution_count": 4,
   "id": "standard-input",
   "metadata": {
    "scrolled": true
   },
   "outputs": [],
   "source": [
    "num_full_dataset = dem_dataset.join(category_status, how=\"outer\").astype(\"int\")\\\n",
    "    .join(full_dataset[de_col_name])\\\n",
    "    .groupby([de_col_name])\n",
    "summary_table = num_full_dataset.agg(['mean', 'sem']).set_index(\n",
    "    num_full_dataset.count().iloc[:, 0].reset_index().apply(\n",
    "        lambda row: f\"{row[0]} (N={row[1]})\",\n",
    "        axis=1\n",
    "    )\n",
    ").T"
   ]
  },
  {
   "cell_type": "code",
   "execution_count": 6,
   "id": "secondary-signal",
   "metadata": {},
   "outputs": [],
   "source": [
    "#Create table of confidence intervals\n",
    "ci_table = summary_table.reset_index().set_index(\"level_1\").groupby(\"level_0\").aggregate(\n",
    "   lambda col: norm.interval(alpha=0.95,loc=col.loc[\"mean\"],scale=col.loc[\"sem\"]) if col.loc[\"mean\"] != 0 else (np.nan, np.nan)\n",
    ").applymap(\n",
    "    lambda val: f\"({round(val[0], 2)}-{round(val[1],2)})\"\n",
    ")\n",
    "#Concat with existing table\n",
    "ci_table[\"level_1\"] = \"CI\"\n",
    "summary_table = pd.concat([\n",
    "    ci_table.reset_index().set_index([\"level_0\", \"level_1\"]),\n",
    "    summary_table\n",
    "], levels=[\"level_0\", \"level_1\"]).sort_index()\n",
    "\n",
    "# #Create ANOVA Column\n",
    "# summary_table[\"ANOVA P\"] = np.repeat([f_oneway(*[x for _, x in num_full_dataset[col]]).pvalue for col in summary_table.index.levels[0]], 3)\n",
    "\n",
    "# #Reindex table\n",
    "# summary_table = summary_table.reset_index().set_index([\"level_0\", \"ANOVA P\", \"level_1\"])"
   ]
  },
  {
   "cell_type": "code",
   "execution_count": 7,
   "id": "alternative-cursor",
   "metadata": {},
   "outputs": [
    {
     "data": {
      "text/html": [
       "<div>\n",
       "<style scoped>\n",
       "    .dataframe tbody tr th:only-of-type {\n",
       "        vertical-align: middle;\n",
       "    }\n",
       "\n",
       "    .dataframe tbody tr th {\n",
       "        vertical-align: top;\n",
       "    }\n",
       "\n",
       "    .dataframe thead th {\n",
       "        text-align: right;\n",
       "    }\n",
       "</style>\n",
       "<table border=\"1\" class=\"dataframe\">\n",
       "  <thead>\n",
       "    <tr style=\"text-align: right;\">\n",
       "      <th></th>\n",
       "      <th></th>\n",
       "      <th>No Surgery (N=706)</th>\n",
       "    </tr>\n",
       "    <tr>\n",
       "      <th>level_0</th>\n",
       "      <th>level_1</th>\n",
       "      <th></th>\n",
       "    </tr>\n",
       "  </thead>\n",
       "  <tbody>\n",
       "    <tr>\n",
       "      <th rowspan=\"4\" valign=\"top\">Cost</th>\n",
       "      <th>CI</th>\n",
       "      <td>(601.47-1153.6)</td>\n",
       "    </tr>\n",
       "    <tr>\n",
       "      <th>CI</th>\n",
       "      <td>(601.47-1153.6)</td>\n",
       "    </tr>\n",
       "    <tr>\n",
       "      <th>mean</th>\n",
       "      <td>877.537</td>\n",
       "    </tr>\n",
       "    <tr>\n",
       "      <th>sem</th>\n",
       "      <td>140.852</td>\n",
       "    </tr>\n",
       "    <tr>\n",
       "      <th>ED_revisits</th>\n",
       "      <th>CI</th>\n",
       "      <td>(0.03-0.06)</td>\n",
       "    </tr>\n",
       "    <tr>\n",
       "      <th>...</th>\n",
       "      <th>...</th>\n",
       "      <td>...</td>\n",
       "    </tr>\n",
       "    <tr>\n",
       "      <th>is_white</th>\n",
       "      <th>sem</th>\n",
       "      <td>0.0174216</td>\n",
       "    </tr>\n",
       "    <tr>\n",
       "      <th rowspan=\"4\" valign=\"top\">median_zip_income</th>\n",
       "      <th>CI</th>\n",
       "      <td>(2.54-2.71)</td>\n",
       "    </tr>\n",
       "    <tr>\n",
       "      <th>CI</th>\n",
       "      <td>(2.54-2.71)</td>\n",
       "    </tr>\n",
       "    <tr>\n",
       "      <th>mean</th>\n",
       "      <td>2.62748</td>\n",
       "    </tr>\n",
       "    <tr>\n",
       "      <th>sem</th>\n",
       "      <td>0.0444864</td>\n",
       "    </tr>\n",
       "  </tbody>\n",
       "</table>\n",
       "<p>100 rows × 1 columns</p>\n",
       "</div>"
      ],
      "text/plain": [
       "                          No Surgery (N=706)\n",
       "level_0           level_1                   \n",
       "Cost              CI         (601.47-1153.6)\n",
       "                  CI         (601.47-1153.6)\n",
       "                  mean               877.537\n",
       "                  sem                140.852\n",
       "ED_revisits       CI             (0.03-0.06)\n",
       "...                                      ...\n",
       "is_white          sem              0.0174216\n",
       "median_zip_income CI             (2.54-2.71)\n",
       "                  CI             (2.54-2.71)\n",
       "                  mean               2.62748\n",
       "                  sem              0.0444864\n",
       "\n",
       "[100 rows x 1 columns]"
      ]
     },
     "execution_count": 7,
     "metadata": {},
     "output_type": "execute_result"
    }
   ],
   "source": [
    "summary_table"
   ]
  },
  {
   "cell_type": "code",
   "execution_count": 9,
   "id": "intelligent-fireplace",
   "metadata": {},
   "outputs": [],
   "source": [
    "summary_table.to_csv(\"../tables/cross_group_demographics_comparison.csv\")"
   ]
  },
  {
   "cell_type": "code",
   "execution_count": 10,
   "id": "light-mortgage",
   "metadata": {},
   "outputs": [
    {
     "ename": "ValueError",
     "evalue": "Index contains duplicate entries, cannot reshape",
     "output_type": "error",
     "traceback": [
      "\u001b[1;31m---------------------------------------------------------------------------\u001b[0m",
      "\u001b[1;31mValueError\u001b[0m                                Traceback (most recent call last)",
      "\u001b[1;32m<ipython-input-10-d056811866d6>\u001b[0m in \u001b[0;36m<module>\u001b[1;34m\u001b[0m\n\u001b[1;32m----> 1\u001b[1;33m \u001b[0munstacked\u001b[0m \u001b[1;33m=\u001b[0m \u001b[0msummary_table\u001b[0m\u001b[1;33m.\u001b[0m\u001b[0munstack\u001b[0m\u001b[1;33m(\u001b[0m\u001b[1;34m\"level_1\"\u001b[0m\u001b[1;33m)\u001b[0m\u001b[1;33m\u001b[0m\u001b[1;33m\u001b[0m\u001b[0m\n\u001b[0m\u001b[0;32m      2\u001b[0m unstacked[\"category\"] = unstacked.index.get_level_values(0).map({\n\u001b[0;32m      3\u001b[0m     \u001b[1;34m'Cost'\u001b[0m\u001b[1;33m:\u001b[0m \u001b[1;34m'Outcome'\u001b[0m\u001b[1;33m,\u001b[0m\u001b[1;33m\u001b[0m\u001b[1;33m\u001b[0m\u001b[0m\n\u001b[0;32m      4\u001b[0m     \u001b[1;34m'ED_revisits'\u001b[0m\u001b[1;33m:\u001b[0m \u001b[1;34m'Outcome'\u001b[0m\u001b[1;33m,\u001b[0m\u001b[1;33m\u001b[0m\u001b[1;33m\u001b[0m\u001b[0m\n\u001b[0;32m      5\u001b[0m     \u001b[1;34m'inpatient_visits'\u001b[0m\u001b[1;33m:\u001b[0m \u001b[1;34m'Outcome'\u001b[0m\u001b[1;33m,\u001b[0m\u001b[1;33m\u001b[0m\u001b[1;33m\u001b[0m\u001b[0m\n",
      "\u001b[1;32m~\\anaconda3\\envs\\HCUP-study-figs\\lib\\site-packages\\pandas\\core\\frame.py\u001b[0m in \u001b[0;36munstack\u001b[1;34m(self, level, fill_value)\u001b[0m\n\u001b[0;32m   6384\u001b[0m         \u001b[1;32mfrom\u001b[0m \u001b[0mpandas\u001b[0m\u001b[1;33m.\u001b[0m\u001b[0mcore\u001b[0m\u001b[1;33m.\u001b[0m\u001b[0mreshape\u001b[0m\u001b[1;33m.\u001b[0m\u001b[0mreshape\u001b[0m \u001b[1;32mimport\u001b[0m \u001b[0munstack\u001b[0m\u001b[1;33m\u001b[0m\u001b[1;33m\u001b[0m\u001b[0m\n\u001b[0;32m   6385\u001b[0m \u001b[1;33m\u001b[0m\u001b[0m\n\u001b[1;32m-> 6386\u001b[1;33m         \u001b[1;32mreturn\u001b[0m \u001b[0munstack\u001b[0m\u001b[1;33m(\u001b[0m\u001b[0mself\u001b[0m\u001b[1;33m,\u001b[0m \u001b[0mlevel\u001b[0m\u001b[1;33m,\u001b[0m \u001b[0mfill_value\u001b[0m\u001b[1;33m)\u001b[0m\u001b[1;33m\u001b[0m\u001b[1;33m\u001b[0m\u001b[0m\n\u001b[0m\u001b[0;32m   6387\u001b[0m \u001b[1;33m\u001b[0m\u001b[0m\n\u001b[0;32m   6388\u001b[0m     _shared_docs[\n",
      "\u001b[1;32m~\\anaconda3\\envs\\HCUP-study-figs\\lib\\site-packages\\pandas\\core\\reshape\\reshape.py\u001b[0m in \u001b[0;36munstack\u001b[1;34m(obj, level, fill_value)\u001b[0m\n\u001b[0;32m    406\u001b[0m     \u001b[1;32mif\u001b[0m \u001b[0misinstance\u001b[0m\u001b[1;33m(\u001b[0m\u001b[0mobj\u001b[0m\u001b[1;33m,\u001b[0m \u001b[0mDataFrame\u001b[0m\u001b[1;33m)\u001b[0m\u001b[1;33m:\u001b[0m\u001b[1;33m\u001b[0m\u001b[1;33m\u001b[0m\u001b[0m\n\u001b[0;32m    407\u001b[0m         \u001b[1;32mif\u001b[0m \u001b[0misinstance\u001b[0m\u001b[1;33m(\u001b[0m\u001b[0mobj\u001b[0m\u001b[1;33m.\u001b[0m\u001b[0mindex\u001b[0m\u001b[1;33m,\u001b[0m \u001b[0mMultiIndex\u001b[0m\u001b[1;33m)\u001b[0m\u001b[1;33m:\u001b[0m\u001b[1;33m\u001b[0m\u001b[1;33m\u001b[0m\u001b[0m\n\u001b[1;32m--> 408\u001b[1;33m             \u001b[1;32mreturn\u001b[0m \u001b[0m_unstack_frame\u001b[0m\u001b[1;33m(\u001b[0m\u001b[0mobj\u001b[0m\u001b[1;33m,\u001b[0m \u001b[0mlevel\u001b[0m\u001b[1;33m,\u001b[0m \u001b[0mfill_value\u001b[0m\u001b[1;33m=\u001b[0m\u001b[0mfill_value\u001b[0m\u001b[1;33m)\u001b[0m\u001b[1;33m\u001b[0m\u001b[1;33m\u001b[0m\u001b[0m\n\u001b[0m\u001b[0;32m    409\u001b[0m         \u001b[1;32melse\u001b[0m\u001b[1;33m:\u001b[0m\u001b[1;33m\u001b[0m\u001b[1;33m\u001b[0m\u001b[0m\n\u001b[0;32m    410\u001b[0m             \u001b[1;32mreturn\u001b[0m \u001b[0mobj\u001b[0m\u001b[1;33m.\u001b[0m\u001b[0mT\u001b[0m\u001b[1;33m.\u001b[0m\u001b[0mstack\u001b[0m\u001b[1;33m(\u001b[0m\u001b[0mdropna\u001b[0m\u001b[1;33m=\u001b[0m\u001b[1;32mFalse\u001b[0m\u001b[1;33m)\u001b[0m\u001b[1;33m\u001b[0m\u001b[1;33m\u001b[0m\u001b[0m\n",
      "\u001b[1;32m~\\anaconda3\\envs\\HCUP-study-figs\\lib\\site-packages\\pandas\\core\\reshape\\reshape.py\u001b[0m in \u001b[0;36m_unstack_frame\u001b[1;34m(obj, level, fill_value)\u001b[0m\n\u001b[0;32m    430\u001b[0m         \u001b[1;32mreturn\u001b[0m \u001b[0mobj\u001b[0m\u001b[1;33m.\u001b[0m\u001b[0m_constructor\u001b[0m\u001b[1;33m(\u001b[0m\u001b[0mblocks\u001b[0m\u001b[1;33m)\u001b[0m\u001b[1;33m\u001b[0m\u001b[1;33m\u001b[0m\u001b[0m\n\u001b[0;32m    431\u001b[0m     \u001b[1;32melse\u001b[0m\u001b[1;33m:\u001b[0m\u001b[1;33m\u001b[0m\u001b[1;33m\u001b[0m\u001b[0m\n\u001b[1;32m--> 432\u001b[1;33m         unstacker = _Unstacker(\n\u001b[0m\u001b[0;32m    433\u001b[0m             \u001b[0mobj\u001b[0m\u001b[1;33m.\u001b[0m\u001b[0mvalues\u001b[0m\u001b[1;33m,\u001b[0m\u001b[1;33m\u001b[0m\u001b[1;33m\u001b[0m\u001b[0m\n\u001b[0;32m    434\u001b[0m             \u001b[0mobj\u001b[0m\u001b[1;33m.\u001b[0m\u001b[0mindex\u001b[0m\u001b[1;33m,\u001b[0m\u001b[1;33m\u001b[0m\u001b[1;33m\u001b[0m\u001b[0m\n",
      "\u001b[1;32m~\\anaconda3\\envs\\HCUP-study-figs\\lib\\site-packages\\pandas\\core\\reshape\\reshape.py\u001b[0m in \u001b[0;36m__init__\u001b[1;34m(self, values, index, level, value_columns, fill_value, constructor)\u001b[0m\n\u001b[0;32m    139\u001b[0m \u001b[1;33m\u001b[0m\u001b[0m\n\u001b[0;32m    140\u001b[0m         \u001b[0mself\u001b[0m\u001b[1;33m.\u001b[0m\u001b[0m_make_sorted_values_labels\u001b[0m\u001b[1;33m(\u001b[0m\u001b[1;33m)\u001b[0m\u001b[1;33m\u001b[0m\u001b[1;33m\u001b[0m\u001b[0m\n\u001b[1;32m--> 141\u001b[1;33m         \u001b[0mself\u001b[0m\u001b[1;33m.\u001b[0m\u001b[0m_make_selectors\u001b[0m\u001b[1;33m(\u001b[0m\u001b[1;33m)\u001b[0m\u001b[1;33m\u001b[0m\u001b[1;33m\u001b[0m\u001b[0m\n\u001b[0m\u001b[0;32m    142\u001b[0m \u001b[1;33m\u001b[0m\u001b[0m\n\u001b[0;32m    143\u001b[0m     \u001b[1;32mdef\u001b[0m \u001b[0m_make_sorted_values_labels\u001b[0m\u001b[1;33m(\u001b[0m\u001b[0mself\u001b[0m\u001b[1;33m)\u001b[0m\u001b[1;33m:\u001b[0m\u001b[1;33m\u001b[0m\u001b[1;33m\u001b[0m\u001b[0m\n",
      "\u001b[1;32m~\\anaconda3\\envs\\HCUP-study-figs\\lib\\site-packages\\pandas\\core\\reshape\\reshape.py\u001b[0m in \u001b[0;36m_make_selectors\u001b[1;34m(self)\u001b[0m\n\u001b[0;32m    177\u001b[0m \u001b[1;33m\u001b[0m\u001b[0m\n\u001b[0;32m    178\u001b[0m         \u001b[1;32mif\u001b[0m \u001b[0mmask\u001b[0m\u001b[1;33m.\u001b[0m\u001b[0msum\u001b[0m\u001b[1;33m(\u001b[0m\u001b[1;33m)\u001b[0m \u001b[1;33m<\u001b[0m \u001b[0mlen\u001b[0m\u001b[1;33m(\u001b[0m\u001b[0mself\u001b[0m\u001b[1;33m.\u001b[0m\u001b[0mindex\u001b[0m\u001b[1;33m)\u001b[0m\u001b[1;33m:\u001b[0m\u001b[1;33m\u001b[0m\u001b[1;33m\u001b[0m\u001b[0m\n\u001b[1;32m--> 179\u001b[1;33m             \u001b[1;32mraise\u001b[0m \u001b[0mValueError\u001b[0m\u001b[1;33m(\u001b[0m\u001b[1;34m\"Index contains duplicate entries, cannot reshape\"\u001b[0m\u001b[1;33m)\u001b[0m\u001b[1;33m\u001b[0m\u001b[1;33m\u001b[0m\u001b[0m\n\u001b[0m\u001b[0;32m    180\u001b[0m \u001b[1;33m\u001b[0m\u001b[0m\n\u001b[0;32m    181\u001b[0m         \u001b[0mself\u001b[0m\u001b[1;33m.\u001b[0m\u001b[0mgroup_index\u001b[0m \u001b[1;33m=\u001b[0m \u001b[0mcomp_index\u001b[0m\u001b[1;33m\u001b[0m\u001b[1;33m\u001b[0m\u001b[0m\n",
      "\u001b[1;31mValueError\u001b[0m: Index contains duplicate entries, cannot reshape"
     ]
    }
   ],
   "source": [
    "unstacked = summary_table.unstack(\"level_1\")\n",
    "unstacked[\"category\"] = unstacked.index.get_level_values(0).map({\n",
    "    'Cost': 'Outcome',\n",
    "    'ED_revisits': 'Outcome',\n",
    "    'inpatient_visits': 'Outcome',\n",
    "    'died': 'Outcome',\n",
    "    'has alcohol-related disorders': 'Comorbidity',\n",
    "    'has aspirin': 'Comorbidity',\n",
    "    'has biliary colic with inflammation': 'Comorbidity',\n",
    "    'has diabetes mellitus': 'Comorbidity',\n",
    "    'has hyperlipidemia': 'Comorbidity',\n",
    "    'has ischemic heart disease': 'Comorbidity',\n",
    "    'has mood disorders': 'Comorbidity',\n",
    "    'has nicotine dependence': 'Comorbidity',\n",
    "    'has obesity': 'Comorbidity',\n",
    "    'has systemic hypertension': 'Comorbidity',\n",
    "    'has_medicaid': 'Insurance Status',\n",
    "    'has_medicare': 'Insurance Status',\n",
    "    'has_private_insurance': 'Insurance Status',\n",
    "    'is_uninsured': 'Insurance Status',\n",
    "    'age': 'Demographic',\n",
    "    'is_african_american_or_hispanic': 'Demographic',\n",
    "    'is_female': 'Demographic',\n",
    "    'is_married': 'Demographic',\n",
    "    'is_unmarried': 'Demographic',\n",
    "    'is_white': 'Demographic',\n",
    "    'median_zip_income': 'Demographic'\n",
    "})\n",
    "unstacked = unstacked.reset_index().set_index(['category', 'level_0', 'ANOVA P']).sort_index()"
   ]
  },
  {
   "cell_type": "code",
   "execution_count": null,
   "id": "wireless-tract",
   "metadata": {},
   "outputs": [],
   "source": [
    "unstacked.stack('level_1').to_csv(\"../tables/cross_group_demographics_comparison.csv\")"
   ]
  },
  {
   "cell_type": "code",
   "execution_count": null,
   "id": "accepted-designer",
   "metadata": {},
   "outputs": [],
   "source": []
  }
 ],
 "metadata": {
  "kernelspec": {
   "display_name": "Python 3",
   "language": "python",
   "name": "python3"
  },
  "language_info": {
   "codemirror_mode": {
    "name": "ipython",
    "version": 3
   },
   "file_extension": ".py",
   "mimetype": "text/x-python",
   "name": "python",
   "nbconvert_exporter": "python",
   "pygments_lexer": "ipython3",
   "version": "3.8.5"
  }
 },
 "nbformat": 4,
 "nbformat_minor": 5
}
