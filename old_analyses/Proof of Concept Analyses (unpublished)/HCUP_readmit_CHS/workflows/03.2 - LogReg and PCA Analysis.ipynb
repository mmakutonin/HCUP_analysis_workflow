{
 "cells": [
  {
   "cell_type": "code",
   "execution_count": 1,
   "id": "terminal-wellington",
   "metadata": {},
   "outputs": [],
   "source": [
    "import pandas as pd\n",
    "import os\n",
    "from sklearn.preprocessing import StandardScaler, OneHotEncoder, MinMaxScaler\n",
    "from sklearn.decomposition import PCA\n",
    "from statsmodels.discrete.discrete_model import Logit\n",
    "from utility_functions import load_file, pickle_file, starting_run, finished_run\n",
    "from analysis_variables import logreg_targets"
   ]
  },
  {
   "cell_type": "code",
   "execution_count": 2,
   "id": "adapted-excellence",
   "metadata": {},
   "outputs": [],
   "source": [
    "filtered_data = load_file(\"summary_costs_enhanced.pickle\")\n",
    "category_status = load_file(\"category_status_filtered.pickle\")\n",
    "pca = PCA(n_components=10)\n",
    "enc = OneHotEncoder(sparse=False)\n",
    "scaler = StandardScaler()\n",
    "mScaler = MinMaxScaler()\n",
    "if not os.path.isdir(f\"../tables/logreg\"):\n",
    "    os.mkdir(f\"../tables/logreg\")"
   ]
  },
  {
   "cell_type": "code",
   "execution_count": 3,
   "id": "random-disaster",
   "metadata": {},
   "outputs": [],
   "source": [
    "demographic_cols = ['marital_status', 'initial_discharge_quarter', 'gender', 'race', 'payer']\n",
    "def encode_dataset(dataset):\n",
    "    encoded_dataset = pd.DataFrame(\n",
    "        enc.fit_transform(dataset), dataset.index\n",
    "    )\n",
    "    encoded_dataset.columns = enc.get_feature_names(dataset.columns)\n",
    "    return encoded_dataset\n",
    "def preprocess_dataset(dataset):\n",
    "    #encode dataset demographics\n",
    "    dem_dataset = dataset.loc[:, demographic_cols].dropna()\n",
    "    encoded_dataset = encode_dataset(dem_dataset).join(dataset[\"age\"], how='inner').join(category_status, how=\"inner\")\n",
    "    #scale columns\n",
    "    scaled_data = pd.DataFrame(\n",
    "        scaler.fit_transform(encoded_dataset),\n",
    "        index = encoded_dataset.index,\n",
    "        columns = encoded_dataset.columns\n",
    "    )\n",
    "    pca_data = pd.DataFrame(\n",
    "        mScaler.fit_transform(encoded_dataset),\n",
    "        index = encoded_dataset.index,\n",
    "        columns = encoded_dataset.columns\n",
    "    )\n",
    "    return scaled_data, pca_data"
   ]
  },
  {
   "cell_type": "code",
   "execution_count": 4,
   "id": "color-james",
   "metadata": {},
   "outputs": [],
   "source": [
    "def run_logreg(dataset, target):\n",
    "    return Logit(target, dataset).fit_regularized(maxiter=1000).summary2().tables[1].sort_values(['P>|z|', 'Coef.'])"
   ]
  },
  {
   "cell_type": "code",
   "execution_count": 5,
   "id": "complicated-albuquerque",
   "metadata": {},
   "outputs": [],
   "source": [
    "def run_PCA(dataset):\n",
    "    print(dataset.shape)\n",
    "    fitted_model = pca.fit(dataset)\n",
    "    return pd.DataFrame(scaler.fit_transform(fitted_model.transform(dataset)), index=dataset.index), fitted_model.explained_variance_ratio_, pd.DataFrame(fitted_model.components_.T, index=dataset.columns)"
   ]
  },
  {
   "cell_type": "code",
   "execution_count": 6,
   "id": "attempted-intranet",
   "metadata": {
    "scrolled": true
   },
   "outputs": [
    {
     "name": "stdout",
     "output_type": "stream",
     "text": [
      "Starting Full 14:53:18.754429\n",
      "(3965, 34)\n",
      "Starting Surgery vs No Surgery 14:53:18.839076\n",
      "False    2892\n",
      "True     1073\n",
      "Name: surgery_type, dtype: int64\n",
      "Optimization terminated successfully    (Exit mode 0)\n",
      "            Current function value: 0.5504399314371905\n",
      "            Iterations: 30\n",
      "            Function evaluations: 31\n",
      "            Gradient evaluations: 30\n",
      "Optimization terminated successfully    (Exit mode 0)\n",
      "            Current function value: 0.6134102756192087\n",
      "            Iterations: 16\n",
      "            Function evaluations: 16\n",
      "            Gradient evaluations: 16\n",
      "Starting Given Surgery - Emergency vs Delayed 14:53:18.939295\n",
      "True     2643\n",
      "False     249\n",
      "Name: surgery_type, dtype: int64\n",
      "Optimization terminated successfully    (Exit mode 0)\n",
      "            Current function value: 0.4752157310737036\n",
      "            Iterations: 33\n",
      "            Function evaluations: 33\n",
      "            Gradient evaluations: 33\n",
      "Optimization terminated successfully    (Exit mode 0)\n",
      "            Current function value: 0.6167528246015628\n",
      "            Iterations: 17\n",
      "            Function evaluations: 17\n",
      "            Gradient evaluations: 17\n",
      "Starting Emergency Surgery vs Others 14:53:19.070784\n",
      "True     2643\n",
      "False    1322\n",
      "Name: surgery_type, dtype: int64\n",
      "Optimization terminated successfully    (Exit mode 0)\n",
      "            Current function value: 0.4847732446236004\n",
      "            Iterations: 32\n",
      "            Function evaluations: 32\n",
      "            Gradient evaluations: 32\n",
      "Optimization terminated successfully    (Exit mode 0)\n",
      "            Current function value: 0.5869281270850419\n",
      "            Iterations: 17\n",
      "            Function evaluations: 17\n",
      "            Gradient evaluations: 17\n",
      "Starting Given ED Discharge - Surgery vs No Surgery 14:53:19.186650\n",
      "False    1073\n",
      "True      249\n",
      "Name: surgery_type, dtype: int64\n",
      "Optimization terminated successfully    (Exit mode 0)\n",
      "            Current function value: 0.5472393436526108\n",
      "            Iterations: 35\n",
      "            Function evaluations: 36\n",
      "            Gradient evaluations: 35\n",
      "Optimization terminated successfully    (Exit mode 0)\n",
      "            Current function value: 0.5847486258103565\n",
      "            Iterations: 21\n",
      "            Function evaluations: 21\n",
      "            Gradient evaluations: 21\n"
     ]
    }
   ],
   "source": [
    "datasets = {\n",
    "    \"Full\": filtered_data,\n",
    "#     \"Inflamed\": filtered_data.loc[category_status[\"has biliary colic with inflammation\"].eq(1)],\n",
    "#     \"Uninflamed\": filtered_data.loc[category_status[\"has biliary colic with inflammation\"].eq(0)]\n",
    "}\n",
    "explained_variance = {}\n",
    "for name, dataset in datasets.items():\n",
    "    starting_run(name)\n",
    "    scaled_data, pca_data = preprocess_dataset(dataset)\n",
    "    pca_dataset, component_importance, component_eigenvalues = run_PCA(pca_data)\n",
    "    dataset = dataset.loc[scaled_data.index]\n",
    "    explained_variance[name] = component_importance\n",
    "#     if name != \"Full\":\n",
    "#         del scaled_data[\"has biliary colic with inflammation\"]\n",
    "    for target_name, target_function in logreg_targets.items():\n",
    "        starting_run(target_name)\n",
    "        target_data = target_function(dataset)\n",
    "        print(target_data.value_counts())\n",
    "        run_logreg(scaled_data.loc[target_data.index], target_data).to_csv(f\"../tables/logreg/{name} {target_name} Feature Scores.csv\")\n",
    "        run_logreg(pca_dataset.loc[target_data.index], target_data).to_csv(f\"../tables/logreg/{name} {target_name} PCA Component Scores.csv\")\n",
    "    component_eigenvalues.to_csv(f\"../tables/logreg/{name} PCA eigenvalues.csv\")\n",
    "#     pickle_file(f\"{name}_logreg_targets.pickle\", targets)\n",
    "pd.DataFrame(explained_variance).to_csv(f\"../tables/logreg/PCA explained variance.csv\")"
   ]
  },
  {
   "cell_type": "code",
   "execution_count": null,
   "id": "legislative-contributor",
   "metadata": {},
   "outputs": [],
   "source": []
  }
 ],
 "metadata": {
  "kernelspec": {
   "display_name": "Python 3",
   "language": "python",
   "name": "python3"
  },
  "language_info": {
   "codemirror_mode": {
    "name": "ipython",
    "version": 3
   },
   "file_extension": ".py",
   "mimetype": "text/x-python",
   "name": "python",
   "nbconvert_exporter": "python",
   "pygments_lexer": "ipython3",
   "version": "3.8.5"
  }
 },
 "nbformat": 4,
 "nbformat_minor": 5
}
