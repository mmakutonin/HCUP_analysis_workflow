{
 "cells": [
  {
   "cell_type": "code",
   "execution_count": 1,
   "metadata": {},
   "outputs": [],
   "source": [
    "import pandas as pd\n",
    "import numpy as np\n",
    "from utility_functions import load_file, pickle_file, starting_run, finished_run\n",
    "from data_reading_functions import code_lengths\n",
    "from analysis_variables import procedure_codes, data_enrichment_function"
   ]
  },
  {
   "cell_type": "markdown",
   "metadata": {},
   "source": [
    "### Imports & File Loading"
   ]
  },
  {
   "cell_type": "code",
   "execution_count": 2,
   "metadata": {},
   "outputs": [],
   "source": [
    "sedd_core_filtered = load_file(\"sedd_core_filtered.pickle\")\n",
    "sasd_core_filtered = load_file(\"sasd_core_filtered.pickle\")\n",
    "sid_core_filtered = load_file(\"sid_core_filtered.pickle\")\n",
    "sid_ed_admissions = load_file(\"sedd_appendix.pickle\")\n",
    "null_codes = {name: '                       '[:length] for name, length in code_lengths.items()}"
   ]
  },
  {
   "cell_type": "markdown",
   "metadata": {},
   "source": [
    "### Utility Functions"
   ]
  },
  {
   "cell_type": "code",
   "execution_count": 3,
   "metadata": {},
   "outputs": [],
   "source": [
    "def create_linker_table(sedd, sid_ed, sid):\n",
    "    def create_linker_table(dataset, sid_flag):\n",
    "        join_dataset = sid if sid_flag else dataset\n",
    "        return dataset.reset_index().groupby(\"visit_link\")[[\"record_id\", \"year\"]].min().join(\n",
    "            join_dataset[[\"age\", \"female\", \"homeless\", \"race\", \"married\", \"median_zip_income\", \"payer\", \"discharge_quarter\"]],\n",
    "            on=\"record_id\"\n",
    "        ).rename(columns={\n",
    "            \"record_id\": \"initial_record_id\",\n",
    "            \"year\": \"initial_year\",\n",
    "            \"discharge_quarter\": \"initial_discharge_quarter\"\n",
    "        })\n",
    "    #init linker_table with year and record_id of initial ED visit\n",
    "    linker_table = create_linker_table(sedd, False).append(\n",
    "        create_linker_table(sid_ed, True)\n",
    "    ).sort_values([\"initial_year\", \"initial_discharge_quarter\"]).reset_index().drop_duplicates(\"visit_link\", keep=\"first\").set_index(\"visit_link\")\n",
    "    linker_table = linker_table[linker_table[\"initial_year\"] < \"2018\"]\n",
    "    \n",
    "    #add max_year based on initial_year (assume following for 1 year)\n",
    "    linker_table[\"max_year\"] = (linker_table[\"initial_year\"].astype(int) + 1).astype(str)\n",
    "    \n",
    "    linker_table = linker_table.astype({\n",
    "        \"age\": \"int\",\n",
    "        \"female\": \"int\",\n",
    "        \"homeless\": \"int\",\n",
    "        \"median_zip_income\": \"int\"\n",
    "    })\n",
    "    \n",
    "    \n",
    "    return linker_table.loc[linker_table.index.astype(\"int\") > 0, :]"
   ]
  },
  {
   "cell_type": "code",
   "execution_count": 4,
   "metadata": {},
   "outputs": [],
   "source": [
    "def censor_first_6_mos(linker_table):\n",
    "    min_year = linker_table[\"initial_year\"].min()\n",
    "    return linker_table.query(f\"initial_year > '{min_year}' or initial_discharge_quarter > '2'\")"
   ]
  },
  {
   "cell_type": "code",
   "execution_count": 5,
   "metadata": {},
   "outputs": [],
   "source": [
    "def filter_data_on_year(sedd, sasd, sid, sid_ed, linker_table):\n",
    "    return (\n",
    "        dataset.loc[dataset[[\"visit_link\", \"year\", \"discharge_quarter\"]].join(\n",
    "            linker_table[[\"initial_year\", \"max_year\", \"initial_discharge_quarter\"]], on=\"visit_link\"\n",
    "        ).query(\n",
    "            \"(initial_year == year and initial_discharge_quarter >= discharge_quarter) or (max_year == year and initial_discharge_quarter <= discharge_quarter)\"\n",
    "        ).index] for dataset in [sedd, sasd, sid, sid_ed]\n",
    "    )"
   ]
  },
  {
   "cell_type": "code",
   "execution_count": 6,
   "metadata": {},
   "outputs": [],
   "source": [
    "def count_followed_visits(sedd, sasd, sid, sid_ed, linker_table):\n",
    "    def count_visits(dataset, col_name):\n",
    "        return dataset.join(linker_table, on=\"visit_link\", rsuffix=\"_x\").groupby(\"visit_link\").count()[\"year\"].rename(col_name)\n",
    "    return linker_table.join(\n",
    "        count_visits(sedd, \"ED_revisits\").add(count_visits(sid_ed, \"ED_revisits\"), fill_value=0).sub(1)\n",
    "    ).join(\n",
    "        count_visits(sasd, \"surgery_visits\")).join(\n",
    "        count_visits(sid, \"inpatient_visits\")).fillna(0)"
   ]
  },
  {
   "cell_type": "code",
   "execution_count": 7,
   "metadata": {},
   "outputs": [],
   "source": [
    "def create_code_lookup_table(sedd, sasd, sid, linker_table):\n",
    "    def preprocess_dataset_on_init_chart(dataset):\n",
    "        return linker_table.join(dataset, on=\"initial_record_id\", how=\"inner\", rsuffix=\"_x\").reset_index(drop=True).groupby(\"visit_link\")\n",
    "    def preprocess_dataset(dataset):\n",
    "        return dataset.join(linker_table, on=\"visit_link\", how=\"inner\", rsuffix=\"_x\").groupby(\"visit_link\")\n",
    "    def postprocess_dataset(dataset, code_type):\n",
    "        return pd.DataFrame(dataset[code_type].agg(np.sum).explode().replace(null_codes[code_type], np.nan).dropna().rename(\"codes\").astype(\"str\"))\n",
    "    \n",
    "    cpt_codes = postprocess_dataset(preprocess_dataset(sedd), 'cpt_codes').append(\n",
    "        postprocess_dataset(preprocess_dataset(sasd), 'cpt_codes')\n",
    "    )\n",
    "    cpt_codes['cpt_flag'] = True\n",
    "    \n",
    "    icd_codes = postprocess_dataset(preprocess_dataset_on_init_chart(sedd), 'ICD-10').append(\n",
    "        postprocess_dataset(preprocess_dataset_on_init_chart(sid), 'ICD-10'))\n",
    "    icd_codes['icd_flag'] = True\n",
    "    \n",
    "    icd_proc_codes = postprocess_dataset(preprocess_dataset(sid), 'ICD-10-procedures')\n",
    "    icd_proc_codes['icd_proc_flag'] = True\n",
    "    \n",
    "    return cpt_codes.append(icd_codes).append(icd_proc_codes)"
   ]
  },
  {
   "cell_type": "code",
   "execution_count": 8,
   "metadata": {},
   "outputs": [],
   "source": [
    "def process_datasets(sedd, sasd, sid, sid_ed):\n",
    "    linker_table = create_linker_table(sedd, sid_ed, sid)\n",
    "    linker_table = censor_first_6_mos(linker_table)\n",
    "    sedd, sasd, sid, sid_ed = filter_data_on_year(sedd, sasd, sid, sid_ed, linker_table)\n",
    "    linker_table = count_followed_visits(sedd, sasd, sid, sid_ed, linker_table)\n",
    "    linker_table = data_enrichment_function(sedd, sasd, sid, sid_ed, linker_table)\n",
    "    codes = create_code_lookup_table(sedd, sasd, sid, linker_table)\n",
    "    return linker_table, codes, sid"
   ]
  },
  {
   "cell_type": "markdown",
   "metadata": {},
   "source": [
    "### Main Code"
   ]
  },
  {
   "cell_type": "code",
   "execution_count": 9,
   "metadata": {
    "scrolled": true
   },
   "outputs": [
    {
     "name": "stdout",
     "output_type": "stream",
     "text": [
      "Starting process full datasets 20:57:43.701644\n",
      "Starting store datasets 20:57:44.935515\n",
      "Finished  20:57:44.951134\n"
     ]
    }
   ],
   "source": [
    "starting_run(\"process full datasets\")\n",
    "filtered_dataset, filtered_dataset_codes, sid_filtered = process_datasets(sedd_core_filtered, sasd_core_filtered, sid_core_filtered, sid_ed_admissions)\n",
    "starting_run(\"store datasets\")\n",
    "pickle_file(\"filtered_dataset.pickle\", filtered_dataset)\n",
    "pickle_file(\"filtered_dataset_codes.pickle\", filtered_dataset_codes)\n",
    "pickle_file(\"filtered_sid_data.pickle\", sid_filtered)\n",
    "finished_run()"
   ]
  }
 ],
 "metadata": {
  "kernelspec": {
   "display_name": "Python 3",
   "language": "python",
   "name": "python3"
  },
  "language_info": {
   "codemirror_mode": {
    "name": "ipython",
    "version": 3
   },
   "file_extension": ".py",
   "mimetype": "text/x-python",
   "name": "python",
   "nbconvert_exporter": "python",
   "pygments_lexer": "ipython3",
   "version": "3.8.5"
  }
 },
 "nbformat": 4,
 "nbformat_minor": 4
}
