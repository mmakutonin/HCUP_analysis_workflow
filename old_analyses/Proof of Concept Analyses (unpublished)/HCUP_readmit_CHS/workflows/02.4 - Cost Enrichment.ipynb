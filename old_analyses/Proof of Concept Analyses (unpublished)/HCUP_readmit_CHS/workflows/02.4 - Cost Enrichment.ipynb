{
 "cells": [
  {
   "cell_type": "code",
   "execution_count": 1,
   "id": "prepared-journal",
   "metadata": {},
   "outputs": [],
   "source": [
    "import pandas as pd\n",
    "import numpy as np\n",
    "from utility_functions import load_file, pickle_file, starting_run, finished_run"
   ]
  },
  {
   "cell_type": "code",
   "execution_count": 2,
   "id": "minus-classroom",
   "metadata": {},
   "outputs": [],
   "source": [
    "codes = load_file(\"fully_filtered_codes.pickle\")\n",
    "summary_enhanced = load_file(\"summary_enhanced.pickle\")\n",
    "sid_costs = load_file(\"sid_costs.pickle\")"
   ]
  },
  {
   "cell_type": "code",
   "execution_count": 3,
   "id": "descending-assurance",
   "metadata": {},
   "outputs": [],
   "source": [
    "rvu_lookup = pd.read_csv(\n",
    "    \"../pickled_data/PPRRVU18_OCT.csv\", skiprows=9, index_col=0\n",
    ")\n",
    "conv_factor=rvu_lookup.at[\"47563\", \"FACTOR\"]\n",
    "rvu_lookup = rvu_lookup[[\"DESCRIPTION\", \"TOTAL.1\"]].dropna()\n",
    "summary_enhanced[\"CPT Costs\"] = codes.query(\"cpt_flag == True\")\\\n",
    ".join(rvu_lookup, on=\"codes\", how=\"left\")[\"TOTAL.1\"].reset_index()\\\n",
    ".groupby(\"visit_link\").sum().mul(conv_factor)\n",
    "summary_enhanced[\"CPT Costs\"].fillna(0, inplace=True)"
   ]
  },
  {
   "cell_type": "code",
   "execution_count": 4,
   "id": "heavy-wednesday",
   "metadata": {},
   "outputs": [],
   "source": [
    "summary_enhanced.index = summary_enhanced.index.astype('int')\n",
    "summary_enhanced[\"SID_costs\"] = sid_costs.groupby('visit_link').sum()\n",
    "summary_enhanced[\"SID_costs\"].fillna(0, inplace=True)\n",
    "summary_enhanced[\"Cost\"] = summary_enhanced[\"SID_costs\"].add(summary_enhanced[\"CPT Costs\"])"
   ]
  },
  {
   "cell_type": "code",
   "execution_count": 5,
   "id": "organized-blast",
   "metadata": {},
   "outputs": [
    {
     "name": "stdout",
     "output_type": "stream",
     "text": [
      "Number of rows dropped: 3\n"
     ]
    }
   ],
   "source": [
    "# Get rows that don't have an associated cost\n",
    "missing_costs = sid_costs.set_index('visit_link')[sid_costs.set_index('visit_link')['SID_costs'].isna()].index\n",
    "# Get rows that have a zero cost\n",
    "zero_cost = summary_enhanced.query('Cost == 0').index\n",
    "# If both conditions met, drop from summary table since it's a false zero\n",
    "drop_rows = [index for index in missing_costs if index in zero_cost]\n",
    "print(f\"Number of rows dropped: {len(drop_rows)}\")\n",
    "summary_enhanced.drop(drop_rows, inplace=True)"
   ]
  },
  {
   "cell_type": "code",
   "execution_count": 6,
   "id": "allied-outdoors",
   "metadata": {},
   "outputs": [],
   "source": [
    "pickle_file(\"summary_costs_enhanced.pickle\", summary_enhanced)"
   ]
  },
  {
   "cell_type": "code",
   "execution_count": null,
   "id": "collective-assignment",
   "metadata": {},
   "outputs": [],
   "source": []
  },
  {
   "cell_type": "code",
   "execution_count": null,
   "id": "reasonable-output",
   "metadata": {},
   "outputs": [],
   "source": []
  }
 ],
 "metadata": {
  "kernelspec": {
   "display_name": "Python 3",
   "language": "python",
   "name": "python3"
  },
  "language_info": {
   "codemirror_mode": {
    "name": "ipython",
    "version": 3
   },
   "file_extension": ".py",
   "mimetype": "text/x-python",
   "name": "python",
   "nbconvert_exporter": "python",
   "pygments_lexer": "ipython3",
   "version": "3.8.5"
  }
 },
 "nbformat": 4,
 "nbformat_minor": 5
}
