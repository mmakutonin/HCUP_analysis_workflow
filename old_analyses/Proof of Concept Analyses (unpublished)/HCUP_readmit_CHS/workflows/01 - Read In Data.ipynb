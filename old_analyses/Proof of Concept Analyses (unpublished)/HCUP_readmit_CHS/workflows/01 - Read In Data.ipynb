{
 "cells": [
  {
   "cell_type": "code",
   "execution_count": 1,
   "metadata": {},
   "outputs": [],
   "source": [
    "import pandas as pd\n",
    "from data_reading_functions import data_dir, read_data, core_reference, code_lengths\n",
    "from analysis_variables import procedure_codes, diagnosis_codes, dataset_filtering_function\n",
    "from utility_functions import pickle_file, starting_run, finished_run"
   ]
  },
  {
   "cell_type": "markdown",
   "metadata": {},
   "source": [
    "### Data Reading"
   ]
  },
  {
   "cell_type": "code",
   "execution_count": 2,
   "metadata": {},
   "outputs": [],
   "source": [
    "split_codes = lambda val, col_name: [val[i:i+code_lengths[col_name]] for i in range(0, len(val), code_lengths[col_name])]\n",
    "\n",
    "def process_dataset(dataset, proc_code_type):\n",
    "    starting_run(f\"{dataset} construction\")\n",
    "    dataset_core = read_data(core_reference[dataset][\"2018\"], f\"MD_{dataset.upper()}_2018_CORE.asc\").append(\n",
    "        read_data(core_reference[dataset][\"2017\"], f\"MD_{dataset.upper()}_2017_CORE.asc\")\n",
    "    ).append(\n",
    "        read_data(core_reference[dataset][\"2016\"], f\"MD_{dataset.upper()}_2016_CORE.asc\"), ignore_index=True\n",
    "    ).set_index(\"record_id\")\n",
    "    \n",
    "    starting_run(f\"{dataset} filtering\")\n",
    "    dataset_core = dataset_filtering_function(dataset_core, proc_code_type)\n",
    "    \n",
    "    starting_run(f\"{dataset} code splitting\")\n",
    "    dataset_core[\"ICD-10\"] = dataset_core[\"ICD-10\"].transform(split_codes, col_name=\"ICD-10\")\n",
    "    dataset_core[proc_code_type] = dataset_core[proc_code_type].transform(split_codes, col_name=proc_code_type)\n",
    "    \n",
    "    starting_run(f\"{dataset} storage\")\n",
    "    pickle_file(f\"{dataset}_core_filtered.pickle\", dataset_core)\n",
    "    \n",
    "    del dataset_core\n",
    "    finished_run(f\"{dataset} creation\")"
   ]
  },
  {
   "cell_type": "code",
   "execution_count": 3,
   "metadata": {},
   "outputs": [
    {
     "name": "stdout",
     "output_type": "stream",
     "text": [
      "Starting sedd construction 19:58:20.234687\n",
      "Starting sedd filtering 20:10:12.229199\n",
      "Starting sedd code splitting 20:15:07.166787\n",
      "Starting sedd storage 20:15:08.200587\n",
      "Finished sedd creation 20:15:08.429819\n",
      "Starting sasd construction 20:15:08.467588\n",
      "Starting sasd filtering 20:35:17.553379\n",
      "Starting sasd code splitting 20:41:39.400870\n",
      "Starting sasd storage 20:41:39.661421\n",
      "Finished sasd creation 20:41:39.720899\n",
      "Starting sid construction 20:41:39.735148\n",
      "Starting sid filtering 20:42:24.865537\n",
      "Starting sid code splitting 20:42:33.891101\n",
      "Starting sid storage 20:42:33.906752\n",
      "Finished sid creation 20:42:33.938005\n"
     ]
    }
   ],
   "source": [
    "process_dataset(\"sedd\", \"cpt_codes\")\n",
    "process_dataset(\"sasd\", \"cpt_codes\")\n",
    "process_dataset(\"sid\", \"ICD-10-procedures\")"
   ]
  }
 ],
 "metadata": {
  "kernelspec": {
   "display_name": "Python 3",
   "language": "python",
   "name": "python3"
  },
  "language_info": {
   "codemirror_mode": {
    "name": "ipython",
    "version": 3
   },
   "file_extension": ".py",
   "mimetype": "text/x-python",
   "name": "python",
   "nbconvert_exporter": "python",
   "pygments_lexer": "ipython3",
   "version": "3.8.5"
  }
 },
 "nbformat": 4,
 "nbformat_minor": 4
}
