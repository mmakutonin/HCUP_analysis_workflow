{
 "cells": [
  {
   "cell_type": "code",
   "execution_count": 1,
   "metadata": {},
   "outputs": [],
   "source": [
    "import pandas as pd\n",
    "import numpy as np\n",
    "from utility_functions import load_file, pickle_file, starting_run, finished_run\n",
    "\n",
    "dataset = load_file(\"summary_enhanced.pickle\")"
   ]
  },
  {
   "cell_type": "code",
   "execution_count": 2,
   "metadata": {},
   "outputs": [
    {
     "data": {
      "text/plain": [
       "Index(['initial_record_id', 'initial_year', 'age', 'female', 'homeless',\n",
       "       'race', 'married', 'median_zip_income', 'payer',\n",
       "       'initial_discharge_quarter', 'Admitted', 'max_year', 'ED Readmissions',\n",
       "       'Surgery Visits', 'Inpatient Readmissions', 'CMDF CCI', 'SEDD Charges',\n",
       "       'SID Charges', 'ED LOS', 'Inpatient LOS', 'Outpatient LOS', 'LOS',\n",
       "       'Optho Exam on Index Visit', 'Optho Consult on Index Visit', 'Died'],\n",
       "      dtype='object')"
      ]
     },
     "execution_count": 2,
     "metadata": {},
     "output_type": "execute_result"
    }
   ],
   "source": [
    "dataset.columns"
   ]
  },
  {
   "cell_type": "code",
   "execution_count": null,
   "metadata": {},
   "outputs": [],
   "source": []
  }
 ],
 "metadata": {
  "kernelspec": {
   "display_name": "Python 3.10.8 ('ed-triage')",
   "language": "python",
   "name": "python3"
  },
  "language_info": {
   "codemirror_mode": {
    "name": "ipython",
    "version": 3
   },
   "file_extension": ".py",
   "mimetype": "text/x-python",
   "name": "python",
   "nbconvert_exporter": "python",
   "pygments_lexer": "ipython3",
   "version": "3.10.8"
  },
  "orig_nbformat": 4,
  "vscode": {
   "interpreter": {
    "hash": "4a50a68a15aa581c036bddc6bfd90028e63554f70f4e8974789a9412f7bffbd9"
   }
  }
 },
 "nbformat": 4,
 "nbformat_minor": 2
}
