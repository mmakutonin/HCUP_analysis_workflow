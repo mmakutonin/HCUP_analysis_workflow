{
 "cells": [
  {
   "cell_type": "markdown",
   "id": "68036c6c",
   "metadata": {},
   "source": [
    "### Imports"
   ]
  },
  {
   "cell_type": "code",
   "execution_count": 1,
   "id": "cc06e35b",
   "metadata": {},
   "outputs": [],
   "source": [
    "import pandas as pd\n",
    "import numpy as np\n",
    "from utility_functions import load_file, pickle_file, starting_run, finished_run\n",
    "from analysis_variables import de_col_keys, de_col_values, demographic_tables, code_category_dict\n",
    "from scipy.stats import f_oneway, sem, norm, t\n",
    "from statsmodels.stats.api import DescrStatsW, CompareMeans\n",
    "\n",
    "full_dataset = load_file(\"summary_costs_enhanced.pickle\")\n",
    "filtered_dataset_codes = load_file(\"fully_filtered_codes.pickle\")\n",
    "comorbidities = load_file('comorbidities.pickle')"
   ]
  },
  {
   "cell_type": "markdown",
   "id": "dfe0b7aa",
   "metadata": {},
   "source": [
    "### Demographic Column Classification"
   ]
  },
  {
   "cell_type": "code",
   "execution_count": 2,
   "id": "67f31e0e",
   "metadata": {},
   "outputs": [],
   "source": [
    "full_dataset[\"Married\"] = full_dataset[\"marital_status\"].eq('Married')\n",
    "full_dataset[\"Uninsured\"] = full_dataset[\"payer\"].isin(['No charge', 'Self-pay'])\n",
    "full_dataset[\"Medicare\"] = full_dataset[\"payer\"].eq('Medicare')\n",
    "full_dataset[\"Medicaid\"] = full_dataset[\"payer\"].eq('Medicaid')\n",
    "full_dataset[\"Private Insurance\"] = full_dataset[\"payer\"].eq('Private insurance')\n",
    "full_dataset[\"White\"] = full_dataset[\"race\"].eq(\"White\")\n",
    "full_dataset[\"African American or Hispanic\"] = full_dataset[\"race\"].isin(['African-American', \"Hispanic\"])\n",
    "full_dataset[\"Female\"] = full_dataset[\"gender\"].eq(\"Female\")\n",
    "full_dataset[\"Died\"] = full_dataset[\"Died\"].eq(1)\n",
    "\n",
    "#rename some columns for cosmetic reasons:\n",
    "full_dataset[\"Median Zip Code Income Quartile\"] = full_dataset[\"median_zip_income\"]\n",
    "full_dataset[\"Age\"] = full_dataset[\"age\"]\n",
    "full_dataset[\"Recurrent ED Visits (number per 1000 patients)\"] = full_dataset[\"ED Readmissions\"].mul(1000)\n",
    "full_dataset[\"Repeat Hospitalizations (number per 1000 patients)\"] = full_dataset[\"Inpatient Readmissions\"].mul(1000)\n",
    "full_dataset[\"Cost (USD)\"] = full_dataset[\"Cost\"]\n",
    "\n",
    "del full_dataset[\"Admitted\"] #step needed in this analysis due to \"Admitted\" column in de_col_values\n",
    "for key in de_col_keys:\n",
    "    full_dataset = full_dataset.join([full_dataset[key].eq(val).rename(val).loc[full_dataset.index] for val in de_col_values[key]])\n",
    "# full_dataset = full_dataset.join([full_dataset[de_col_name].eq(val).rename(val) for val in de_col_values])\n",
    "\n",
    "dem_dataset = full_dataset[[\n",
    "    'Median Zip Code Income Quartile', \n",
    "    'Age',\n",
    "    'Cost',\n",
    "    \"Married\", \n",
    "    \"Uninsured\", \n",
    "    \"Medicare\",\n",
    "    \"Medicaid\",\n",
    "    \"Private Insurance\",\n",
    "    \"White\",\n",
    "    \"African American or Hispanic\",\n",
    "    \"Female\",\n",
    "    'Recurrent ED Visits (number per 1000 patients)',\n",
    "    'Repeat Hospitalizations (number per 1000 patients)',\n",
    "    'Died',\n",
    "    'CMDF CCI',\n",
    "    'LOS',\n",
    "    *pd.core.common.flatten(de_col_values.values())\n",
    "]].copy()\n",
    "\n",
    "category_dict = {\n",
    "    'Totals': 'Demographic',\n",
    "    'Age': 'Demographic',\n",
    "    'African American or Hispanic': 'Demographic',\n",
    "    'Female': 'Demographic',\n",
    "    'Married': 'Demographic',\n",
    "    'Medicaid': 'Insurance Status',\n",
    "    'Medicare': 'Insurance Status',\n",
    "    'Private Insurance': 'Insurance Status',\n",
    "    'Uninsured': 'Insurance Status',\n",
    "    'White': 'Demographic',\n",
    "    'Median Zip Code Income Quartile': 'Demographic',\n",
    "    'CMDF CCI': 'Comorbidity',\n",
    "    **{key: 'Comorbidity' for key in pd.core.common.flatten(list(code_category_dict.keys())[20:])}, #first 20 used to calculate CCI\n",
    "    'Recurrent ED Visits (number per 1000 patients)': 'Outcome',\n",
    "    'Repeat Hospitalizations (number per 1000 patients)': 'Outcome',\n",
    "    'Cost': 'Outcome',\n",
    "    'Died': 'Outcome',\n",
    "    'LOS': 'Outcome',\n",
    "    'Admitted': 'Clinical Pathway',\n",
    "    **{value: 'Clinical Pathway' for value in pd.core.common.flatten(de_col_values.values())}\n",
    "}\n",
    "\n",
    "summary_table_sum_cols = [ #these are the columns that are not aggregates of proportions of patients\n",
    "    \"Cost\", \"CMDF CCI\", \"Age\",\n",
    "    \"Median Zip Code Income Quartile\",\n",
    "    \"Recurrent ED Visits (number per 1000 patients)\",\n",
    "    \"Repeat Hospitalizations (number per 1000 patients)\",'LOS'\n",
    "]"
   ]
  },
  {
   "cell_type": "markdown",
   "id": "5f1779e0",
   "metadata": {},
   "source": [
    "### Create Summary Table"
   ]
  },
  {
   "cell_type": "code",
   "execution_count": 23,
   "id": "f56b3992",
   "metadata": {},
   "outputs": [],
   "source": [
    "def create_summary(groupby_col, filter_criteria=\"Cost >= 0\"): #cost should always be positive, making this a universal filter\n",
    "    num_full_dataset = dem_dataset.query(filter_criteria).join(comorbidities, how=\"left\")\\\n",
    "        .fillna(0).astype(\"int\").join(full_dataset[groupby_col]).groupby(groupby_col)\n",
    "    agg_table = num_full_dataset.apply(lambda x: pd.Series(\n",
    "        [DescrStatsW(x[column]) for column in x.columns],\n",
    "        index=x.columns)).T.drop(groupby_col)\n",
    "    summary_table = agg_table.transform(\n",
    "        lambda row: [f\"{round(val.mean, 2)} ({round(val.tconfint_mean(0.05)[0],2)}, {round(val.tconfint_mean(0.05)[1],2)})\" for val in row] \\\n",
    "                    if row.name in summary_table_sum_cols else \\\n",
    "                    [f\"{round(val.mean*100,0)}% ({round(val.tconfint_mean(0.05)[0]*100,0)}, {round(val.tconfint_mean(0.05)[1]*100,0)}), {round(val.sum, 0)}\" for val in row],\n",
    "        axis=1\n",
    "    )\n",
    "    summary_table.columns = [f\"{col} (%, 95% CI, N)\" for col in summary_table.columns]\n",
    "    if(len(summary_table.columns) == 2):\n",
    "        summary_table[\"Difference (95% CI)\"] = agg_table.agg(\n",
    "            lambda row: (\"({} - {})\" if row.name in summary_table_sum_cols else \"({}% - {}%)\").format(\n",
    "                *[\n",
    "                    round(val * (1 if row.name in summary_table_sum_cols else 100), 2)\\\n",
    "                    for val in CompareMeans(row[0], row[1]).tconfint_diff(0.05, usevar='unequal')\n",
    "                ]\n",
    "            ),\n",
    "            axis=1\n",
    "        )\n",
    "        summary_table.loc[\"Totals\"] = [*num_full_dataset.count().T.iloc[0], ' ']\n",
    "    elif len(summary_table.columns) > 2:\n",
    "        summary_table[\"ANOVA P\"] = [\"p < 0.01\" if f_oneway(*[x for _, x in num_full_dataset[col]]).pvalue < 0.01 else \"p > 0.01\" for col in agg_table.index]\n",
    "        summary_table.loc[\"Totals\"] = [*num_full_dataset.count().T.iloc[0], ' ']\n",
    "    else:\n",
    "        summary_table.loc[\"Totals\"] = [*num_full_dataset.count().T.iloc[0]]\n",
    "    return summary_table.reindex(category_dict.keys())"
   ]
  },
  {
   "cell_type": "code",
   "execution_count": 24,
   "id": "4e4c27dd",
   "metadata": {},
   "outputs": [],
   "source": [
    "for tb in demographic_tables:\n",
    "    create_summary(tb[\"key\"], tb[\"query_string\"]).to_csv(tb[\"save_filepath\"])"
   ]
  },
  {
   "cell_type": "code",
   "execution_count": null,
   "id": "c19488d4",
   "metadata": {},
   "outputs": [],
   "source": []
  }
 ],
 "metadata": {
  "interpreter": {
   "hash": "c566008867b8984604745a2c8b464c8cbb3b13ca4eb03c09ef659d8b6959cc99"
  },
  "kernelspec": {
   "display_name": "Python 3.8.11 64-bit ('HCUP-study-figs': conda)",
   "name": "python3"
  },
  "language_info": {
   "codemirror_mode": {
    "name": "ipython",
    "version": 3
   },
   "file_extension": ".py",
   "mimetype": "text/x-python",
   "name": "python",
   "nbconvert_exporter": "python",
   "pygments_lexer": "ipython3",
   "version": "3.8.11"
  }
 },
 "nbformat": 4,
 "nbformat_minor": 5
}
