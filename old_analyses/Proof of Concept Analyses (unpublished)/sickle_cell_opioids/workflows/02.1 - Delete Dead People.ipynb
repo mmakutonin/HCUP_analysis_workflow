{
 "cells": [
  {
   "cell_type": "code",
   "execution_count": 1,
   "id": "eeda52a9",
   "metadata": {},
   "outputs": [],
   "source": [
    "from utility_functions import load_file, pickle_file, starting_run, finished_run\n",
    "from data_reading_functions import data_dir, read_data, died_reference\n",
    "import pandas as pd\n",
    "import numpy as np"
   ]
  },
  {
   "cell_type": "code",
   "execution_count": 2,
   "id": "b6966043",
   "metadata": {},
   "outputs": [],
   "source": [
    "summary_table = load_file(\"filtered_dataset.pickle\")\n",
    "codes_table = load_file(\"filtered_dataset_codes.pickle\")\n",
    "index = summary_table[\"max_year\"].reset_index().astype('str').set_index('visit_link') #to prevent corrupt data from erroring an astype()\n",
    "death_records = []"
   ]
  },
  {
   "cell_type": "code",
   "execution_count": 3,
   "id": "46234659",
   "metadata": {
    "scrolled": false
   },
   "outputs": [
    {
     "name": "stdout",
     "output_type": "stream",
     "text": [
      "Starting sedd2016 11:42:22.656128\n",
      "Starting sedd2017 11:43:03.850393\n",
      "Starting sedd2018 11:43:52.850338\n",
      "Starting sid2016 11:44:40.506975\n",
      "Starting sid2017 11:44:54.471404\n",
      "Starting sid2018 11:45:03.306810\n",
      "Starting sasd2016 11:45:16.214202\n",
      "Starting sasd2017 11:46:19.720068\n",
      "Starting sasd2018 11:47:18.882392\n"
     ]
    }
   ],
   "source": [
    "for dataset in [\"sedd\", \"sid\", \"sasd\"]:\n",
    "    for year in [\"2016\", \"2017\", \"2018\"]:\n",
    "        starting_run(dataset + year)\n",
    "        data_file = read_data(died_reference[dataset][year], f\"MD_{dataset.upper()}_{year}_CORE.asc\")\n",
    "        data_file['visit_link'] = data_file['visit_link'].str.strip() #to prevent corrupt data from erroring an astype()\n",
    "        deaths = data_file.join(index, how=\"inner\", on=\"visit_link\").astype('int').query(f\"max_year >={year} and Died == 1\")\n",
    "        death_records.append(deaths)\n",
    "        del data_file\n",
    "        del deaths"
   ]
  },
  {
   "cell_type": "code",
   "execution_count": null,
   "id": "81de5ce5",
   "metadata": {},
   "outputs": [],
   "source": [
    "#Dropping duplicates due to some HCUP data vagaries\n",
    "deaths = pd.concat(death_records).sort_values(\"record_id\", ascending=False).drop_duplicates('visit_link').set_index('visit_link')"
   ]
  },
  {
   "cell_type": "code",
   "execution_count": null,
   "id": "260e521c",
   "metadata": {},
   "outputs": [],
   "source": [
    "invalid_deaths = deaths.join(summary_table, how=\"right\", lsuffix=\"_died\").query(\"Died == 1 and record_id == initial_record_id\")\n",
    "fully_filtered_summary = summary_table.join(deaths[\"Died\"], how=\"left\").drop(index=invalid_deaths.index)\n",
    "fully_filtered_summary[\"Died\"] = fully_filtered_summary[\"Died\"].fillna(0)\n",
    "print(f\"dropped {invalid_deaths.shape[0]} invalid patient(s) due to death on initial record.\")\n",
    "print(f\"dropped {np.logical_not(deaths.index.isin(summary_table.index)).sum()} invalid patient(s) due to death from unrelated cause.\")"
   ]
  },
  {
   "cell_type": "code",
   "execution_count": 10,
   "id": "40de7de0",
   "metadata": {
    "scrolled": true
   },
   "outputs": [],
   "source": [
    "pickle_file(\"fully_filtered_summary.pickle\", fully_filtered_summary)\n",
    "pickle_file(\"fully_filtered_codes.pickle\", codes_table.loc[fully_filtered_summary.index])"
   ]
  }
 ],
 "metadata": {
  "interpreter": {
   "hash": "c566008867b8984604745a2c8b464c8cbb3b13ca4eb03c09ef659d8b6959cc99"
  },
  "kernelspec": {
   "display_name": "Python 3 (ipykernel)",
   "language": "python",
   "name": "python3"
  },
  "language_info": {
   "codemirror_mode": {
    "name": "ipython",
    "version": 3
   },
   "file_extension": ".py",
   "mimetype": "text/x-python",
   "name": "python",
   "nbconvert_exporter": "python",
   "pygments_lexer": "ipython3",
   "version": "3.8.11"
  }
 },
 "nbformat": 4,
 "nbformat_minor": 5
}
