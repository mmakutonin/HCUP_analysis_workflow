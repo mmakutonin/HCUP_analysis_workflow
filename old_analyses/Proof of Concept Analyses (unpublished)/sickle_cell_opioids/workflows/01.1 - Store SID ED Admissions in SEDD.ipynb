{
 "cells": [
  {
   "cell_type": "code",
   "execution_count": 1,
   "metadata": {},
   "outputs": [],
   "source": [
    "import pandas as pd\n",
    "from utility_functions import load_file, pickle_file, starting_run, finished_run"
   ]
  },
  {
   "cell_type": "code",
   "execution_count": 2,
   "metadata": {},
   "outputs": [],
   "source": [
    "sid_core_filtered = load_file(\"sid_core_filtered.pickle\")"
   ]
  },
  {
   "cell_type": "code",
   "execution_count": 3,
   "metadata": {},
   "outputs": [],
   "source": [
    "sedd_appendix = sid_core_filtered.loc[sid_core_filtered[\"ed_admission\"] > 0]"
   ]
  },
  {
   "cell_type": "code",
   "execution_count": 4,
   "metadata": {},
   "outputs": [],
   "source": [
    "sedd_appendix_constrained = sedd_appendix.loc[:,[\n",
    "    'visit_link',\n",
    "    'payer',\n",
    "    'year',\n",
    "    'age',\n",
    "    'married',\n",
    "    'race',\n",
    "    'median_zip_income',\n",
    "    'discharge_quarter',\n",
    "    'female',\n",
    "    'homeless'\n",
    "]]\n",
    "sedd_appendix_constrained['total_charges'] = 0\n",
    "sedd_appendix_constrained['ICD-10'] = sedd_appendix['ICD-10'].transform(lambda x: [f\"{x[0][0:3]}-tmp\"])"
   ]
  },
  {
   "cell_type": "code",
   "execution_count": 5,
   "metadata": {},
   "outputs": [],
   "source": [
    "pickle_file(\"sedd_appendix.pickle\", sedd_appendix_constrained)"
   ]
  },
  {
   "cell_type": "code",
   "execution_count": null,
   "metadata": {},
   "outputs": [],
   "source": []
  }
 ],
 "metadata": {
  "interpreter": {
   "hash": "c566008867b8984604745a2c8b464c8cbb3b13ca4eb03c09ef659d8b6959cc99"
  },
  "kernelspec": {
   "display_name": "Python 3.8.5 64-bit ('HCUP-study-figs': conda)",
   "name": "python3"
  },
  "language_info": {
   "codemirror_mode": {
    "name": "ipython",
    "version": 3
   },
   "file_extension": ".py",
   "mimetype": "text/x-python",
   "name": "python",
   "nbconvert_exporter": "python",
   "pygments_lexer": "ipython3",
   "version": "3.8.11"
  }
 },
 "nbformat": 4,
 "nbformat_minor": 4
}
