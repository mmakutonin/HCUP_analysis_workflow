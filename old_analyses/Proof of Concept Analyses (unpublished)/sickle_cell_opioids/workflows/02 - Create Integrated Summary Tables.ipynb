{
 "cells": [
  {
   "cell_type": "code",
   "execution_count": 1,
   "metadata": {},
   "outputs": [],
   "source": [
    "import pandas as pd\n",
    "import numpy as np\n",
    "from utility_functions import load_file, pickle_file, starting_run, finished_run\n",
    "from data_reading_functions import code_lengths\n",
    "from analysis_variables import procedure_codes, data_enrichment_function, code_category_dict"
   ]
  },
  {
   "cell_type": "markdown",
   "metadata": {},
   "source": [
    "### Imports & File Loading"
   ]
  },
  {
   "cell_type": "code",
   "execution_count": 2,
   "metadata": {},
   "outputs": [],
   "source": [
    "sedd = load_file(\"sedd_core_filtered.pickle\")\n",
    "sasd = load_file(\"sasd_core_filtered.pickle\")\n",
    "sid = load_file(\"sid_core_filtered.pickle\")\n",
    "sid_ed = load_file(\"sedd_appendix.pickle\")\n",
    "null_codes = {name: '                       '[:length] for name, length in code_lengths.items()}"
   ]
  },
  {
   "cell_type": "markdown",
   "metadata": {},
   "source": [
    "### Utility Functions"
   ]
  },
  {
   "cell_type": "code",
   "execution_count": 3,
   "metadata": {},
   "outputs": [],
   "source": [
    "def create_linker_table(sedd, sid_ed, sid):\n",
    "    def create_linker_table(dataset, sid_flag):\n",
    "        join_dataset = sid if sid_flag else dataset\n",
    "        dataset = dataset.reset_index().groupby(\"visit_link\")[[\"record_id\", \"year\"]].min().join(\n",
    "            join_dataset[[\"age\", \"female\", \"homeless\", \"race\", \"married\", \"median_zip_income\", \"payer\", \"discharge_quarter\"]],\n",
    "            on=\"record_id\"\n",
    "        ).rename(columns={\n",
    "            \"record_id\": \"initial_record_id\",\n",
    "            \"year\": \"initial_year\",\n",
    "            \"discharge_quarter\": \"initial_discharge_quarter\"\n",
    "        })\n",
    "        dataset[\"Admitted\"] = sid_flag\n",
    "        return dataset\n",
    "    #init linker_table with year and record_id of initial ED visit\n",
    "    linker_table = create_linker_table(sedd, False).append(\n",
    "        create_linker_table(sid_ed, True)\n",
    "    ).sort_values([\"initial_year\", \"initial_discharge_quarter\"])\\\n",
    "    .reset_index().drop_duplicates(\"visit_link\", keep=\"first\")\\\n",
    "    .set_index(\"visit_link\")\n",
    "    print(f\"Dropped {(linker_table['initial_year'] >= 2018).sum()} patients because initial_visit year = 2018\")\n",
    "    linker_table = linker_table[linker_table[\"initial_year\"] < 2018]\n",
    "    \n",
    "    #add max_year based on initial_year (assume following for 1 year)\n",
    "    linker_table[\"max_year\"] = (linker_table[\"initial_year\"] + 1)\n",
    "    \n",
    "    print(f\"Dropped {(linker_table.index <= 0).sum()} patients because index was non-positive.\")\n",
    "    return linker_table.loc[linker_table.index > 0, :]"
   ]
  },
  {
   "cell_type": "code",
   "execution_count": 4,
   "metadata": {},
   "outputs": [],
   "source": [
    "def censor_first_6_mos(linker_table):\n",
    "    min_year = linker_table[\"initial_year\"].min()\n",
    "    censored_table = linker_table.query(\n",
    "        f\"initial_year > {min_year} or initial_discharge_quarter > 2\"\n",
    "    )\n",
    "    print(f\"Dropped {linker_table.shape[0] - censored_table.shape[0]} patients by censoring first 6 months.\")\n",
    "    return censored_table"
   ]
  },
  {
   "cell_type": "code",
   "execution_count": 5,
   "metadata": {},
   "outputs": [],
   "source": [
    "def filter_data_on_year(sedd, sasd, sid, sid_ed, linker_table):\n",
    "    return (\n",
    "        dataset.loc[dataset[[\"visit_link\", \"year\", \"discharge_quarter\"]].join(\n",
    "            linker_table[[\"initial_year\", \"max_year\", \"initial_discharge_quarter\"]], on=\"visit_link\"\n",
    "        ).query(\n",
    "            \"(initial_year == year and initial_discharge_quarter <= discharge_quarter) or (max_year == year and initial_discharge_quarter >= discharge_quarter)\"\n",
    "        ).index] for dataset in [sedd, sasd, sid, sid_ed]\n",
    "    )"
   ]
  },
  {
   "cell_type": "code",
   "execution_count": 6,
   "metadata": {},
   "outputs": [],
   "source": [
    "def count_admits(sedd, sasd, sid, sid_ed, linker_table):\n",
    "    def count_visits(dataset, col_name):\n",
    "        return dataset.join(linker_table, on=\"visit_link\", rsuffix=\"_x\")\\\n",
    "        .query('initial_record_id != record_id').groupby(\"visit_link\")\\\n",
    "        .count()[\"year\"].rename(col_name)\n",
    "    return linker_table.join(\n",
    "        count_visits(sedd, \"ED Readmissions\")\\\n",
    "        .add(count_visits(sid_ed, \"ED Readmissions\"), fill_value=0)\n",
    "    ).join(\n",
    "        count_visits(sasd, \"Surgery Visits\")).join(\n",
    "        count_visits(sid, \"Inpatient Readmissions\")).fillna(0)"
   ]
  },
  {
   "cell_type": "code",
   "execution_count": 7,
   "metadata": {},
   "outputs": [],
   "source": [
    "def create_code_lookup_table(sedd, sasd, sid, linker_table):\n",
    "    def preprocess_dataset_on_init_chart(dataset):\n",
    "        return linker_table.join(\n",
    "            dataset, on=\"initial_record_id\", how=\"inner\", rsuffix=\"_x\"\n",
    "        ).reset_index(drop=True).groupby(\"visit_link\")\n",
    "    def preprocess_dataset(dataset):\n",
    "        return dataset.join(\n",
    "            linker_table, on=\"visit_link\", how=\"inner\", rsuffix=\"_x\"\n",
    "        ).query(\"initial_record_id != record_id\").groupby(\"visit_link\")\n",
    "    def postprocess_dataset(dataset, code_type):\n",
    "        return pd.DataFrame(\n",
    "            dataset[code_type].agg(np.sum).explode()\\\n",
    "            .replace(null_codes[code_type], np.nan).dropna()\\\n",
    "            .rename(\"codes\").astype(\"str\")\n",
    "        )\n",
    "    \n",
    "    dataset_list = [\n",
    "        {\n",
    "            \"dataset\": sedd,\n",
    "            \"pcs_type\": \"cpt_codes\",\n",
    "            \"pcs_flag\": \"cpt_flag\",\n",
    "            \"ED_chart\": True\n",
    "        },\n",
    "        {\n",
    "            \"dataset\": sasd,\n",
    "            \"pcs_type\": \"cpt_codes\",\n",
    "            \"pcs_flag\": \"cpt_flag\",\n",
    "            \"ED_chart\": False\n",
    "        },\n",
    "        {\n",
    "            \"dataset\": sid.loc[sid[\"ed_admission\"] <= 0],\n",
    "            \"pcs_type\": \"ICD-10-procedures\",\n",
    "            \"pcs_flag\": \"icd_proc_flag\",\n",
    "            \"ED_chart\": False\n",
    "        },\n",
    "        {\n",
    "            \"dataset\": sid.loc[sid[\"ed_admission\"] > 0],\n",
    "            \"pcs_type\": \"ICD-10-procedures\",\n",
    "            \"pcs_flag\": \"icd_proc_flag\",\n",
    "            \"ED_chart\": True\n",
    "        },\n",
    "        \n",
    "    ]\n",
    "    data_list = []\n",
    "    for dataset in dataset_list:\n",
    "        for flag in [{\"pcs_type\":\"ICD-10\",\"pcs_flag\":\"icd_flag\"},dataset]:\n",
    "            data = postprocess_dataset(preprocess_dataset(dataset[\"dataset\"]), flag[\"pcs_type\"])\n",
    "            data[flag[\"pcs_flag\"]] = True\n",
    "            if dataset[\"ED_chart\"] == True:\n",
    "                data['ed_flag'] = True\n",
    "                #Only ED charts can be initial visits\n",
    "                data_init = postprocess_dataset(preprocess_dataset_on_init_chart(dataset[\"dataset\"]), flag[\"pcs_type\"])\n",
    "                data_init[flag[\"pcs_flag\"]] = True\n",
    "                data_init['init_chart'] = True\n",
    "                data_init['ed_flag'] = True\n",
    "                data_list.append(data_init)\n",
    "            data_list.append(data)\n",
    "    return pd.concat(data_list).fillna(False)"
   ]
  },
  {
   "cell_type": "code",
   "execution_count": 8,
   "metadata": {},
   "outputs": [],
   "source": [
    "def enrich_comorbidities(codes):\n",
    "    category_list = []\n",
    "    visit_codes = codes.reset_index().\\\n",
    "        groupby(\"visit_link\")[\"codes\"].unique().apply(lambda x: [st.strip() for st in x])\n",
    "    for key, values in code_category_dict.items():\n",
    "        category_list.append(visit_codes.transform(\n",
    "            lambda x: any([any([code.startswith(value) for value in values]) for code in x])\n",
    "        ).rename(key))\n",
    "    comorbidities = pd.DataFrame(category_list).astype(\"int\").T\n",
    "    comorbidities.index = comorbidities.index\n",
    "    return comorbidities"
   ]
  },
  {
   "cell_type": "code",
   "execution_count": 9,
   "metadata": {},
   "outputs": [],
   "source": [
    "def calculate_cci_score(linker_table, comorbidities): # based on https://www.mdcalc.com/charlson-comorbidity-index-cci#evidence\n",
    "    cci = comorbidities.agg(\n",
    "        lambda x: 1 if x[\"Myocardial Infarction History\"] else 0 + \\\n",
    "            1 if x['Heart Failure'] else 0 + \\\n",
    "            1 if x['Peripheral Vascular Disease'] else 0 + \\\n",
    "            2 if x['Hemiplegia'] else 1 if x['CVA/TIA'] else 0 + \\\n",
    "            1 if x['Dementia'] else 0 + \\\n",
    "            1 if x['COPD'] else 0 + \\\n",
    "            1 if x['Rheumatic Disease'] else 0 + \\\n",
    "            1 if x['Peptic Ulcer Disease'] else 0 + \\\n",
    "            3 if x['Severe Liver Disease'] else 1 if x['Mild Liver Disease'] else 0 + \\\n",
    "            2 if x['Complicated Diabetes'] else 1 if x['Uncomplicated Diabetes'] else 0 + \\\n",
    "            3 if x['Severe Renal Disease'] else 1 if x['Uncomplicated Renal Disease'] else 0 + \\\n",
    "            6 if x['Metastatic Tumor'] else 0 if x['Invalid Malignancy'] else 1 if x['Malignancy'] else 0 + \\\n",
    "            6 if x['HIV'] and x['AIDS Opportunistic Infection'] else 3 if x['HIV'] else 0\n",
    "        , axis=1)\n",
    "    linker_table['CMDF CCI'] = cci\n",
    "    return linker_table"
   ]
  },
  {
   "cell_type": "code",
   "execution_count": 10,
   "metadata": {},
   "outputs": [],
   "source": [
    "def calc_charges(sedd, sid, linker_table):\n",
    "    def charges_for_dataset(dataset):\n",
    "        return dataset.set_index(\"visit_link\")[\"total_charges\"].reset_index().groupby(\"visit_link\")[\"total_charges\"].sum()\n",
    "    linker_table = linker_table.join(\n",
    "        charges_for_dataset(sedd).rename(\"SEDD Charges\"), how=\"left\").join(\n",
    "        charges_for_dataset(sid).rename(\"SID Charges\"), how=\"left\")\n",
    "    linker_table[\"SEDD Charges\"].fillna(0, inplace=True)\n",
    "    linker_table[\"SID Charges\"].fillna(0, inplace=True)\n",
    "    return linker_table"
   ]
  },
  {
   "cell_type": "code",
   "execution_count": 11,
   "metadata": {},
   "outputs": [],
   "source": [
    "def calc_LOS(linker_table, sedd, sid, sasd):\n",
    "    def calc_dataset_los(dataset):\n",
    "        return dataset.query(\"length_of_stay >= 0\").groupby(\"visit_link\")[\"length_of_stay\"].sum()\n",
    "    linker_table = linker_table.join(\n",
    "        calc_dataset_los(sedd).rename(\"ED LOS\"), how=\"left\")\\\n",
    "        .join(calc_dataset_los(sid).rename(\"Inpatient LOS\"), how=\"left\")\\\n",
    "        .join(calc_dataset_los(sasd).rename(\"Outpatient LOS\"), how=\"left\")\n",
    "    linker_table[\"LOS\"] = linker_table[\"ED LOS\"].fillna(0) \\\n",
    "    + linker_table[\"Inpatient LOS\"].fillna(0) + linker_table[\"Outpatient LOS\"].fillna(0)\n",
    "    return linker_table"
   ]
  },
  {
   "cell_type": "markdown",
   "metadata": {},
   "source": [
    "### Main Code"
   ]
  },
  {
   "cell_type": "code",
   "execution_count": 12,
   "metadata": {
    "scrolled": true
   },
   "outputs": [
    {
     "name": "stdout",
     "output_type": "stream",
     "text": [
      "Starting process full datasets 22:06:14.623236\n",
      "Dropped 10229 patients because initial_visit year = 2018\n",
      "Dropped 1 patients because index was non-positive.\n",
      "Dropped 5197 patients by censoring first 6 months.\n",
      "Complicated      8776\n",
      "Uncomplicated    7040\n",
      "Name: Biliary Colic Type, dtype: int64\n",
      "Starting store datasets 22:07:01.386790\n",
      "Finished  22:07:02.172696\n"
     ]
    }
   ],
   "source": [
    "starting_run(\"process full datasets\")\n",
    "linker_table = create_linker_table(sedd, sid_ed, sid)\n",
    "linker_table = censor_first_6_mos(linker_table)\n",
    "sedd, sasd, sid, sid_ed = filter_data_on_year(sedd, sasd, sid, sid_ed, linker_table)\n",
    "linker_table = count_admits(sedd, sasd, sid, sid_ed, linker_table)\n",
    "codes = create_code_lookup_table(sedd, sasd, sid, linker_table)\n",
    "comorbidities = enrich_comorbidities(codes)\n",
    "linker_table = calculate_cci_score(linker_table, comorbidities)\n",
    "linker_table = calc_charges(sedd, sid, linker_table)\n",
    "linker_table = calc_LOS(linker_table, sedd, sid, sasd)\n",
    "linker_table = data_enrichment_function(sedd, sasd, sid, sid_ed, codes, linker_table)\n",
    "starting_run(\"store datasets\")\n",
    "pickle_file(\"filtered_dataset.pickle\", linker_table)\n",
    "pickle_file(\"filtered_dataset_codes.pickle\", codes)\n",
    "pickle_file(\"filtered_sid_data.pickle\", sid)\n",
    "pickle_file(\"filtered_sedd_data.pickle\", sedd)\n",
    "pickle_file(\"filtered_sid_ed_data.pickle\", sid_ed)\n",
    "pickle_file(\"filtered_sasd_data.pickle\", sasd)\n",
    "pickle_file(\"comorbidities.pickle\", comorbidities)\n",
    "finished_run()"
   ]
  }
 ],
 "metadata": {
  "interpreter": {
   "hash": "c566008867b8984604745a2c8b464c8cbb3b13ca4eb03c09ef659d8b6959cc99"
  },
  "kernelspec": {
   "display_name": "Python 3 (ipykernel)",
   "language": "python",
   "name": "python3"
  },
  "language_info": {
   "codemirror_mode": {
    "name": "ipython",
    "version": 3
   },
   "file_extension": ".py",
   "mimetype": "text/x-python",
   "name": "python",
   "nbconvert_exporter": "python",
   "pygments_lexer": "ipython3",
   "version": "3.8.11"
  }
 },
 "nbformat": 4,
 "nbformat_minor": 4
}
