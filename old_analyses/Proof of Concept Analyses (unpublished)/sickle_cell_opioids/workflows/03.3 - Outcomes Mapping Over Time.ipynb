{
 "cells": [
  {
   "cell_type": "code",
   "execution_count": 1,
   "metadata": {},
   "outputs": [],
   "source": [
    "import pandas as pd\n",
    "import numpy as np\n",
    "import os\n",
    "import matplotlib.pyplot as plt\n",
    "from utility_functions import load_file, pickle_file, starting_run, finished_run\n",
    "from analysis_variables import logreg_targets, outcome_cols, chart_plotting\n",
    "from scipy.stats import f_oneway, norm\n",
    "from statsmodels.regression.linear_model import OLS"
   ]
  },
  {
   "cell_type": "code",
   "execution_count": 2,
   "metadata": {},
   "outputs": [],
   "source": [
    "plt.rc('font', size=18)          # controls default text sizes\n",
    "plt.rc('axes', titlesize=22)     # fontsize of the axes title\n",
    "plt.rc('axes', labelsize=22)    # fontsize of the x and y labels\n",
    "plt.rc('xtick', labelsize=18)    # fontsize of the tick labels\n",
    "plt.rc('ytick', labelsize=18)    # fontsize of the tick labels\n",
    "plt.rc('legend', fontsize=18)    # legend fontsize\n",
    "plt.rc('axes', titlesize=28)  # fontsize of the figure title"
   ]
  },
  {
   "cell_type": "code",
   "execution_count": 3,
   "metadata": {},
   "outputs": [],
   "source": [
    "outcomes = load_file(\"outcomes_by_quarter.pickle\")\n",
    "filtered_data = load_file(\"summary_costs_enhanced.pickle\")\n",
    "category_status = load_file(\"comorbidities.pickle\")\n",
    "if not os.path.isdir(f\"../figures\"):\n",
    "    os.mkdir(f\"../figures\")\n",
    "if not os.path.isdir(f\"../figures/comparison plots\"):\n",
    "    os.mkdir(f\"../figures/comparison plots\")"
   ]
  },
  {
   "cell_type": "code",
   "execution_count": 4,
   "metadata": {},
   "outputs": [],
   "source": [
    "#Create Outcomes by Quarter Dataset\n",
    "summary_table = filtered_data.join(category_status, how=\"left\")\n",
    "empty_outcomes = pd.DataFrame({\n",
    "        'visit_link': np.repeat(summary_table.index, 5),\n",
    "        'quarters_from_init': np.tile([0,1,2,3,4], summary_table.index.size),\n",
    "        \"Cost\": np.zeros(5*summary_table.index.size),\n",
    "        \"Inpatient Readmissions\": np.zeros(5*summary_table.index.size),\n",
    "        \"ED Readmissions\": np.zeros(5*summary_table.index.size)\n",
    "    }).set_index(['visit_link','quarters_from_init'])\n",
    "empty_outcomes.update(\n",
    "     outcomes\n",
    ")\n",
    "rolling_outcomes = empty_outcomes.reset_index().groupby('visit_link')\\\n",
    "    [['quarters_from_init', \"Cost\", \"Inpatient Readmissions\", \"ED Readmissions\"]]\\\n",
    "    .rolling(5, on='quarters_from_init', min_periods=1).sum().dropna()\\\n",
    "    .reset_index().set_index('visit_link')"
   ]
  },
  {
   "cell_type": "code",
   "execution_count": 5,
   "metadata": {},
   "outputs": [],
   "source": [
    "def plot_chart(\n",
    "    metric,\n",
    "    y_axis_label,\n",
    "    title,\n",
    "    true_label,\n",
    "    false_label,\n",
    "    logreg_key,\n",
    "    forecast_length = 10,\n",
    "    fig_size = (18, 8)\n",
    "    ):\n",
    "    def plot(axes, plot_data, line_color, is_true, label):\n",
    "        query_str = 'logreg' if is_true else 'not logreg'\n",
    "        plot_data.query(query_str).plot(\n",
    "            x='quarters_from_init',\n",
    "            y='mean',\n",
    "            ax=axes,\n",
    "            label=label,\n",
    "            color=line_color,\n",
    "            yerr='CI',\n",
    "            linewidth=3\n",
    "        )\n",
    "        first_point_y = plot_data.query(query_str + ' and quarters_from_init == 4')['mean'].iat[0]\n",
    "        slope=first_point_y - plot_data.query(query_str + ' and quarters_from_init == 3')['mean'].iat[0]\n",
    "        \n",
    "        axs.plot(\n",
    "            (4,forecast_length),\n",
    "            (first_point_y,first_point_y+slope*forecast_length),\n",
    "            linestyle='--',\n",
    "            color=line_color,\n",
    "            linewidth=3\n",
    "        )\n",
    "    data = rolling_outcomes.join(\n",
    "        logreg_targets[logreg_key](filtered_data).rename('logreg'),\n",
    "        how=\"inner\"\n",
    "    )\n",
    "    data = data.groupby(['quarters_from_init', 'logreg'])[metric].agg(['mean', 'sem']).reset_index()\n",
    "    data[\"CI\"] = [norm.interval(alpha=0.95,loc=0,scale=sem[1])[1] for sem in data['sem'].iteritems()]\n",
    "    \n",
    "    fig, axs = plt.subplots(figsize=fig_size)\n",
    "\n",
    "    plot(axs,data,'black', True, true_label)\n",
    "    plot(axs,data,'darkgrey', False, false_label)\n",
    "    \n",
    "    axs.set_xlabel('Quarters from Initial Visit')\n",
    "    axs.set_ylabel(y_axis_label)\n",
    "    axs.set_title(title)\n",
    "    fig.savefig(f\"../figures/comparison plots/{title}.jpg\", bbox_inches='tight')"
   ]
  },
  {
   "cell_type": "code",
   "execution_count": 6,
   "metadata": {},
   "outputs": [],
   "source": [
    "#Immediate cholecystectomy complicated colic charting\n",
    "for plot in chart_plotting:\n",
    "    plot_chart(**plot)\n",
    "plt.close('all')"
   ]
  }
 ],
 "metadata": {
  "interpreter": {
   "hash": "c566008867b8984604745a2c8b464c8cbb3b13ca4eb03c09ef659d8b6959cc99"
  },
  "kernelspec": {
   "display_name": "Python 3.8.11 64-bit ('HCUP-study-figs': conda)",
   "name": "python3"
  },
  "language_info": {
   "codemirror_mode": {
    "name": "ipython",
    "version": 3
   },
   "file_extension": ".py",
   "mimetype": "text/x-python",
   "name": "python",
   "nbconvert_exporter": "python",
   "pygments_lexer": "ipython3",
   "version": "3.8.11"
  },
  "orig_nbformat": 4
 },
 "nbformat": 4,
 "nbformat_minor": 2
}
