{
 "cells": [
  {
   "cell_type": "code",
   "execution_count": 1,
   "id": "46289bbe",
   "metadata": {},
   "outputs": [],
   "source": [
    "import warnings\n",
    "warnings.filterwarnings('ignore') #filters out annoying warnings in PCA output"
   ]
  },
  {
   "cell_type": "code",
   "execution_count": 2,
   "id": "dc084b22",
   "metadata": {},
   "outputs": [],
   "source": [
    "import pandas as pd\n",
    "import numpy as np\n",
    "import os\n",
    "from sklearn.preprocessing import StandardScaler, OneHotEncoder, MinMaxScaler\n",
    "from sklearn.decomposition import PCA\n",
    "from statsmodels.discrete.discrete_model import Logit\n",
    "from sklearn.metrics import accuracy_score\n",
    "from scipy.stats import ttest_ind, f_oneway, norm, sem, chisquare\n",
    "from utility_functions import load_file, pickle_file, starting_run, finished_run\n",
    "from analysis_variables import logreg_targets, de_col_keys, de_col_values, outcome_cols, code_category_dict"
   ]
  },
  {
   "cell_type": "code",
   "execution_count": 3,
   "id": "02ac332c",
   "metadata": {},
   "outputs": [],
   "source": [
    "data = load_file(\"summary_costs_enhanced.pickle\")\n",
    "category_status = load_file(\"comorbidities.pickle\")\n",
    "pca = PCA(n_components=10)\n",
    "enc = OneHotEncoder(sparse=False)\n",
    "scaler = StandardScaler()\n",
    "mScaler = MinMaxScaler()\n",
    "if not os.path.isdir(f\"../tables/logreg\"):\n",
    "    os.mkdir(f\"../tables/logreg\")\n",
    "if not os.path.isdir(f\"../tables/ttest\"):\n",
    "    os.mkdir(f\"../tables/ttest\")"
   ]
  },
  {
   "cell_type": "code",
   "execution_count": 4,
   "id": "7c780463",
   "metadata": {},
   "outputs": [],
   "source": [
    "demographic_cols = ['marital_status', 'initial_discharge_quarter', 'gender', 'race', 'payer']\n",
    "numerical_demographic_cols = ['age', 'median_zip_income', 'CMDF CCI']\n",
    "def encode_dataset(dataset):\n",
    "    encoded_dataset = pd.DataFrame(\n",
    "        enc.fit_transform(dataset), dataset.index\n",
    "    )\n",
    "    encoded_dataset.columns = enc.get_feature_names(dataset.columns)\n",
    "    return encoded_dataset\n",
    "def preprocess_dataset(dataset):\n",
    "    #encode dataset demographics\n",
    "    dem_dataset = dataset.loc[:, demographic_cols].dropna()\n",
    "    encoded_dataset = encode_dataset(dem_dataset).join(dataset[numerical_demographic_cols], how='inner')\\\n",
    "        .join(category_status.loc[:, list(code_category_dict.keys())[20:]], how=\"inner\")\n",
    "    outer_encoded_dataset = encode_dataset(dem_dataset).join(dataset[numerical_demographic_cols], how='outer')\\\n",
    "        .join(category_status.loc[:, list(code_category_dict.keys())[20:]], how=\"outer\") # only computed to find dropped row number.\n",
    "    print(f\"Dropped {outer_encoded_dataset.shape[0] - encoded_dataset.shape[0]} rows for 3.2 analysis due to missing demographics.\")\n",
    "    #scale columns\n",
    "    scaled_data = pd.DataFrame(\n",
    "        scaler.fit_transform(encoded_dataset),\n",
    "        index = encoded_dataset.index,\n",
    "        columns = encoded_dataset.columns\n",
    "    )\n",
    "    pca_data = pd.DataFrame(\n",
    "        mScaler.fit_transform(encoded_dataset),\n",
    "        index = encoded_dataset.index,\n",
    "        columns = encoded_dataset.columns\n",
    "    )\n",
    "    return scaled_data, pca_data, encoded_dataset"
   ]
  },
  {
   "cell_type": "code",
   "execution_count": 5,
   "id": "e17f8ef5",
   "metadata": {},
   "outputs": [],
   "source": [
    "def run_logreg(dataset, target, print_output_file):\n",
    "    logit_model = Logit(target, dataset).fit_regularized(maxiter=1000, disp=False)\n",
    "    accuracy = round(accuracy_score(\n",
    "        logit_model.predict(dataset).apply(round),\n",
    "        target\n",
    "    ), 2)\n",
    "    summary = logit_model.summary2().tables[1].sort_values(['P>|z|', 'Coef.'])\n",
    "    summary[\"OR\"] = summary['Coef.'].transform(np.abs).transform(np.exp)\n",
    "    summary[\"OR CI\"] = [norm.interval(alpha=0.95, loc=0, scale=item[1])[1] for item in summary['Std.Err.'].iteritems()]\n",
    "    print_output_file.write(f\"Logistic Regression Accuracy: {accuracy}\")\n",
    "    return summary"
   ]
  },
  {
   "cell_type": "code",
   "execution_count": 6,
   "id": "e741814f",
   "metadata": {},
   "outputs": [],
   "source": [
    "def run_PCA(dataset):\n",
    "    print(dataset.shape)\n",
    "    fitted_model = pca.fit(dataset)\n",
    "    return pd.DataFrame(\n",
    "        scaler.fit_transform(fitted_model.transform(dataset)), index=dataset.index\n",
    "    ), fitted_model.explained_variance_ratio_, pd.DataFrame(fitted_model.components_.T, index=dataset.columns)"
   ]
  },
  {
   "cell_type": "code",
   "execution_count": 7,
   "id": "242bac53",
   "metadata": {},
   "outputs": [],
   "source": [
    "def ttest(target):\n",
    "    def ci(col, is_true, dataset):\n",
    "        if col[\"type\"] == \"string\":\n",
    "            dataset[col[\"name\"]] = dataset[col[\"name\"]].map({col[\"positive_class\"]: 1}).fillna(0)\n",
    "        mean, sem = dataset.loc[dataset[\"target\"] == is_true][col[\"name\"]].agg([\"mean\", \"sem\"])\n",
    "        return f\"{round(mean, 4)} ± {round(norm.interval(alpha=0.95,loc=0,scale=sem)[1], 4)}\"\n",
    "    dataset = data.join(target.rename(\"target\"), how=\"inner\")\n",
    "    stats = pd.DataFrame({\n",
    "        'Metric': [col[\"name\"] for col in outcome_cols],\n",
    "        'Mean True': [ci(col, True, dataset) for col in outcome_cols],\n",
    "        'Mean False': [ci(col, False, dataset) for col in outcome_cols],\n",
    "        'P value': [\n",
    "            ttest_ind(\n",
    "                dataset.loc[dataset[\"target\"] == True][col[\"name\"]],\n",
    "                dataset.loc[dataset[\"target\"] == False][col[\"name\"]],\n",
    "                equal_var=False\n",
    "            ).pvalue*2 for col in outcome_cols\n",
    "        ]\n",
    "    })\n",
    "    return stats"
   ]
  },
  {
   "cell_type": "code",
   "execution_count": null,
   "id": "27894e1f",
   "metadata": {
    "scrolled": true
   },
   "outputs": [],
   "source": [
    "starting_run(\"LogReg\")\n",
    "scaled_data, pca_data, encoded_dataset = preprocess_dataset(data)\n",
    "pca_dataset, component_importance, component_eigenvalues = run_PCA(pca_data)\n",
    "data = data.loc[scaled_data.index]\n",
    "for target_name, target_function in logreg_targets.items():\n",
    "    starting_run(target_name)\n",
    "    with open(f\"../tables/ttest/{target_name}.txt\", 'w') as f:\n",
    "        target_data = target_function(data)\n",
    "        f.write(target_name)\n",
    "        f.write(\"\\n\")\n",
    "        f.write(target_data.value_counts().to_string())\n",
    "        f.write(\"\\n\")\n",
    "        f.write(\"Logreg Results:\")\n",
    "        run_logreg(scaled_data.loc[target_data.index], target_data, f).to_csv(f\"../tables/logreg/{target_name} Feature Scores.csv\")\n",
    "        f.write(\"\\n\")\n",
    "        f.write(\"PCA Results:\")\n",
    "        run_logreg(pca_dataset.loc[target_data.index], target_data, f).to_csv(f\"../tables/logreg/{target_name} PCA Component Scores.csv\")\n",
    "        f.write(\"\\n\")\n",
    "        f.write(ttest(target_data).to_string())\n",
    "component_eigenvalues.to_csv(f\"../tables/logreg/PCA eigenvalues.csv\")\n",
    "pd.DataFrame(component_importance).to_csv(f\"../tables/logreg/PCA explained variance.csv\")"
   ]
  },
  {
   "cell_type": "code",
   "execution_count": null,
   "id": "807080a5",
   "metadata": {},
   "outputs": [],
   "source": [
    "# for val in de_col_values[de_col_keys[1]]:\n",
    "#     full_data = data.join(category_status).query(f\"`{de_col_keys[1]}` == '{val}'\")\n",
    "#     print(val, chisquare(\n",
    "#         full_data.groupby(['Obesity', 'Mood Disorders'])['initial_record_id'].count(),\n",
    "#         list(full_data.groupby('Obesity')['initial_record_id'].count()/2)*2\n",
    "#     )[1])"
   ]
  }
 ],
 "metadata": {
  "interpreter": {
   "hash": "c566008867b8984604745a2c8b464c8cbb3b13ca4eb03c09ef659d8b6959cc99"
  },
  "kernelspec": {
   "display_name": "Python 3.8.11 64-bit ('HCUP-study-figs': conda)",
   "name": "python3"
  },
  "language_info": {
   "codemirror_mode": {
    "name": "ipython",
    "version": 3
   },
   "file_extension": ".py",
   "mimetype": "text/x-python",
   "name": "python",
   "nbconvert_exporter": "python",
   "pygments_lexer": "ipython3",
   "version": "3.8.11"
  }
 },
 "nbformat": 4,
 "nbformat_minor": 5
}
