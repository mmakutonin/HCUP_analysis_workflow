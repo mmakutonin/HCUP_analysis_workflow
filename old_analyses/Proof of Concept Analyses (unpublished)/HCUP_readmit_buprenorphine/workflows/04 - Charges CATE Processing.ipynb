{
 "cells": [
  {
   "cell_type": "markdown",
   "metadata": {},
   "source": [
    "This notebook uses conditional average treatment effect (CATE) to estimate effects of different surgeries on total charges for different subpopulations using the [econml](https://econml.azurewebsites.net/spec/api.html#api-of-conditional-average-treatment-effect-package) library"
   ]
  },
  {
   "cell_type": "code",
   "execution_count": 1,
   "metadata": {},
   "outputs": [],
   "source": [
    "import warnings\n",
    "warnings.filterwarnings('ignore') #done due to number of warnings from the econML API"
   ]
  },
  {
   "cell_type": "code",
   "execution_count": 2,
   "metadata": {
    "scrolled": true
   },
   "outputs": [
    {
     "name": "stderr",
     "output_type": "stream",
     "text": [
      "\n",
      "Bad key \"text.kerning_factor\" on line 4 in\n",
      "C:\\Users\\Michael\\anaconda3\\envs\\HCUP-study\\lib\\site-packages\\matplotlib\\mpl-data\\stylelib\\_classic_test_patch.mplstyle.\n",
      "You probably need to get an updated matplotlibrc file from\n",
      "https://github.com/matplotlib/matplotlib/blob/v3.1.2/matplotlibrc.template\n",
      "or from the matplotlib source distribution\n"
     ]
    }
   ],
   "source": [
    "import pandas as pd\n",
    "import matplotlib.pyplot as plt\n",
    "from econml.drlearner import DRLearner, LinearDRLearner, ForestDRLearner\n",
    "from econml.dml import ForestDML\n",
    "from econml.cate_interpreter import SingleTreeCateInterpreter\n",
    "from sklearn.preprocessing import OneHotEncoder, LabelEncoder\n",
    "from sklearn.linear_model import LassoCV, MultiTaskLassoCV\n",
    "from utility_functions import load_file, pickle_file, starting_run, finished_run\n",
    "from analysis_variables import de_col_name, de_col_values"
   ]
  },
  {
   "cell_type": "code",
   "execution_count": 3,
   "metadata": {},
   "outputs": [
    {
     "name": "stdout",
     "output_type": "stream",
     "text": [
      "Starting  21:01:08.352085\n"
     ]
    }
   ],
   "source": [
    "starting_run()\n",
    "dataset = load_file(\"summary_costs_enhanced.pickle\")\n",
    "category_status = load_file(\"category_status_filtered.pickle\")"
   ]
  },
  {
   "cell_type": "markdown",
   "metadata": {},
   "source": [
    "### Filter Dataset Columns and Convert Features"
   ]
  },
  {
   "cell_type": "code",
   "execution_count": 4,
   "metadata": {
    "scrolled": true
   },
   "outputs": [
    {
     "name": "stdout",
     "output_type": "stream",
     "text": [
      "Number of Null Rows: 0\n"
     ]
    }
   ],
   "source": [
    "demographic_cols = ['marital_status', 'initial_discharge_quarter', 'gender', 'race', 'payer']\n",
    "demographic_dataset = dataset.loc[:, demographic_cols].fillna(\"-1\")\n",
    "enc = OneHotEncoder(sparse=False).fit(demographic_dataset)\n",
    "features = pd.DataFrame(\n",
    "    enc.transform(demographic_dataset),\n",
    "    index = demographic_dataset.index,\n",
    "    columns = enc.get_feature_names(demographic_dataset.columns)\n",
    ").join(dataset[\"age\"], how='outer').join(category_status, how=\"outer\")\n",
    "print(f\"Number of Null Rows: {features.isna().any(axis=1).sum()}\")\n",
    "features.dropna(inplace=True)\n",
    "treatments = dataset.loc[features.index, de_col_name].eq(de_col_values[0])\n",
    "outcomes = dataset.loc[features.index, [\"ED_revisits\", \"Cost\"]]"
   ]
  },
  {
   "cell_type": "markdown",
   "metadata": {},
   "source": [
    "### Model Methods:"
   ]
  },
  {
   "cell_type": "code",
   "execution_count": 5,
   "metadata": {},
   "outputs": [],
   "source": [
    "intrp = SingleTreeCateInterpreter(include_model_uncertainty=True, max_depth=3, min_samples_leaf=10)\n",
    "def plot_interpreter_fig(estimator, analysis_name):\n",
    "    intrp.interpret(estimator, X=features)\n",
    "    # Plot the tree\n",
    "    plt.figure(figsize=(70, 30))\n",
    "    intrp.plot(feature_names=features.columns ,fontsize=12)\n",
    "    plt.savefig(f\"../figures/{analysis_name}_CATE_interpretation.png\")"
   ]
  },
  {
   "cell_type": "code",
   "execution_count": 6,
   "metadata": {},
   "outputs": [],
   "source": [
    "def run_model(outcome_var):\n",
    "    est = ForestDML(model_y = LassoCV(), model_t=LassoCV(), random_state=42)\n",
    "    est.fit(\n",
    "        Y = outcomes[outcome_var],\n",
    "        T = treatments,\n",
    "        X = features\n",
    "    )\n",
    "    plot_interpreter_fig(est, outcome_var)\n",
    "    effect = est.effect(features)\n",
    "    lower_CI, upper_CI = est.effect_interval(features, alpha=0.05)\n",
    "    return pd.DataFrame({\n",
    "        \"effect\": effect,\n",
    "        \"lower_conf_interval\": lower_CI,\n",
    "        \"upper_conf_interval\": upper_CI,\n",
    "    }, index = features.index)"
   ]
  },
  {
   "cell_type": "markdown",
   "metadata": {},
   "source": [
    "### Model Running:"
   ]
  },
  {
   "cell_type": "code",
   "execution_count": 7,
   "metadata": {
    "scrolled": true
   },
   "outputs": [
    {
     "name": "stdout",
     "output_type": "stream",
     "text": [
      "Starting Cost 19:36:38.462450\n",
      "Starting ED_revisits 19:36:46.987911\n",
      "Finished  19:36:55.991571\n"
     ]
    }
   ],
   "source": [
    "for outcome in [\"Cost\", \"ED_revisits\"]:\n",
    "    starting_run(outcome)\n",
    "    run_model(outcome).to_csv(f\"../pickled_data/{outcome} CATE Effect\")\n",
    "finished_run()"
   ]
  },
  {
   "cell_type": "code",
   "execution_count": 5,
   "metadata": {},
   "outputs": [
    {
     "data": {
      "text/html": [
       "<div>\n",
       "<style scoped>\n",
       "    .dataframe tbody tr th:only-of-type {\n",
       "        vertical-align: middle;\n",
       "    }\n",
       "\n",
       "    .dataframe tbody tr th {\n",
       "        vertical-align: top;\n",
       "    }\n",
       "\n",
       "    .dataframe thead th {\n",
       "        text-align: right;\n",
       "    }\n",
       "</style>\n",
       "<table border=\"1\" class=\"dataframe\">\n",
       "  <thead>\n",
       "    <tr style=\"text-align: right;\">\n",
       "      <th></th>\n",
       "      <th></th>\n",
       "      <th>Cost</th>\n",
       "    </tr>\n",
       "    <tr>\n",
       "      <th>has biliary colic with inflammation</th>\n",
       "      <th>surgery_type</th>\n",
       "      <th></th>\n",
       "    </tr>\n",
       "  </thead>\n",
       "  <tbody>\n",
       "    <tr>\n",
       "      <th rowspan=\"2\" valign=\"top\">0</th>\n",
       "      <th>False</th>\n",
       "      <td>6013.168402</td>\n",
       "    </tr>\n",
       "    <tr>\n",
       "      <th>True</th>\n",
       "      <td>11982.029717</td>\n",
       "    </tr>\n",
       "    <tr>\n",
       "      <th rowspan=\"2\" valign=\"top\">1</th>\n",
       "      <th>False</th>\n",
       "      <td>9244.339371</td>\n",
       "    </tr>\n",
       "    <tr>\n",
       "      <th>True</th>\n",
       "      <td>11010.043108</td>\n",
       "    </tr>\n",
       "  </tbody>\n",
       "</table>\n",
       "</div>"
      ],
      "text/plain": [
       "                                                          Cost\n",
       "has biliary colic with inflammation surgery_type              \n",
       "0                                   False          6013.168402\n",
       "                                    True          11982.029717\n",
       "1                                   False          9244.339371\n",
       "                                    True          11010.043108"
      ]
     },
     "execution_count": 5,
     "metadata": {},
     "output_type": "execute_result"
    }
   ],
   "source": [
    "features[[\"has biliary colic with inflammation\"]].join(treatments).join(outcomes[\"Cost\"]).groupby([\n",
    "    \"has biliary colic with inflammation\", \"surgery_type\"\n",
    "]).mean()"
   ]
  },
  {
   "cell_type": "code",
   "execution_count": 6,
   "metadata": {},
   "outputs": [
    {
     "data": {
      "text/html": [
       "<div>\n",
       "<style scoped>\n",
       "    .dataframe tbody tr th:only-of-type {\n",
       "        vertical-align: middle;\n",
       "    }\n",
       "\n",
       "    .dataframe tbody tr th {\n",
       "        vertical-align: top;\n",
       "    }\n",
       "\n",
       "    .dataframe thead th {\n",
       "        text-align: right;\n",
       "    }\n",
       "</style>\n",
       "<table border=\"1\" class=\"dataframe\">\n",
       "  <thead>\n",
       "    <tr style=\"text-align: right;\">\n",
       "      <th></th>\n",
       "      <th>has biliary colic with inflammation</th>\n",
       "      <th>Cost</th>\n",
       "    </tr>\n",
       "    <tr>\n",
       "      <th>surgery_type</th>\n",
       "      <th></th>\n",
       "      <th></th>\n",
       "    </tr>\n",
       "  </thead>\n",
       "  <tbody>\n",
       "    <tr>\n",
       "      <th>False</th>\n",
       "      <td>0.440828</td>\n",
       "      <td>7437.560338</td>\n",
       "    </tr>\n",
       "    <tr>\n",
       "      <th>True</th>\n",
       "      <td>0.946844</td>\n",
       "      <td>11061.710170</td>\n",
       "    </tr>\n",
       "  </tbody>\n",
       "</table>\n",
       "</div>"
      ],
      "text/plain": [
       "              has biliary colic with inflammation          Cost\n",
       "surgery_type                                                   \n",
       "False                                    0.440828   7437.560338\n",
       "True                                     0.946844  11061.710170"
      ]
     },
     "execution_count": 6,
     "metadata": {},
     "output_type": "execute_result"
    }
   ],
   "source": [
    "features[[\"has biliary colic with inflammation\"]].join(treatments).join(outcomes[\"Cost\"]).groupby([\n",
    "    \"surgery_type\"\n",
    "]).mean()"
   ]
  },
  {
   "cell_type": "code",
   "execution_count": null,
   "metadata": {},
   "outputs": [],
   "source": []
  }
 ],
 "metadata": {
  "kernelspec": {
   "display_name": "Python 3",
   "language": "python",
   "name": "python3"
  },
  "language_info": {
   "codemirror_mode": {
    "name": "ipython",
    "version": 3
   },
   "file_extension": ".py",
   "mimetype": "text/x-python",
   "name": "python",
   "nbconvert_exporter": "python",
   "pygments_lexer": "ipython3",
   "version": "3.8.3"
  }
 },
 "nbformat": 4,
 "nbformat_minor": 4
}
