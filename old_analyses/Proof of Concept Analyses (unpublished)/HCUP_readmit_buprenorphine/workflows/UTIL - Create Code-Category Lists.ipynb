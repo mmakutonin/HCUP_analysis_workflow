{
 "cells": [
  {
   "cell_type": "markdown",
   "metadata": {},
   "source": [
    "### These lists are used in step 3+"
   ]
  },
  {
   "cell_type": "code",
   "execution_count": 1,
   "metadata": {},
   "outputs": [],
   "source": [
    "from utility_functions import pickle_file"
   ]
  },
  {
   "cell_type": "code",
   "execution_count": 2,
   "metadata": {},
   "outputs": [],
   "source": [
    "pickle_file(\"code-category-dict.pickle\", {\r\n",
    "    \"systemic hypertension\":[\"I10\", \"I11\", \"I12\", \"I13\", \"I14\", \"I15\", \"I16\", \"O10\", \"O11\", \"O13\", \"O14\", \"O15\", \"O16\"],\r\n",
    "    \"obesity\": [\"O9921\", \"O66\", \"Z683\", \"Z684\"],\r\n",
    "    \"aspirin\": [\"Z7982\"],\r\n",
    "    \"nicotine dependence\": [\"F17\", \"T652\", \"Z87891\", \"Z720\"],\r\n",
    "    \"hyperlipidemia\": [\"E780\", \"E781\", \"E782\", \"E783\", \"E784\", \"E785\"],\r\n",
    "    \"diabetes mellitus\": [\"E08\", \"E09\", \"E10\", \"E11\", \"E13\", \"O24\", \"Z8632\"],\r\n",
    "    \"ischemic heart disease\": [\"I20\", \"I21\", \"I22\", \"I23\", \"I24\", \"I25\"],\r\n",
    "    \"alcohol-related disorders\": [\"F10\"],\r\n",
    "    \"mood disorders\": [\"F2\", \"F3\", \"F4\"]\r\n",
    "})"
   ]
  },
  {
   "cell_type": "code",
   "execution_count": null,
   "metadata": {},
   "outputs": [],
   "source": []
  }
 ],
 "metadata": {
  "interpreter": {
   "hash": "6d4cbe4fe6a33e4d72c9a2990f07f1aeb20aae8182e4dceeb23ed7c7096de238"
  },
  "kernelspec": {
   "display_name": "Python 3.8.3 64-bit ('base': conda)",
   "name": "python3"
  },
  "language_info": {
   "codemirror_mode": {
    "name": "ipython",
    "version": 3
   },
   "file_extension": ".py",
   "mimetype": "text/x-python",
   "name": "python",
   "nbconvert_exporter": "python",
   "pygments_lexer": "ipython3",
   "version": "3.8.5"
  }
 },
 "nbformat": 4,
 "nbformat_minor": 5
}