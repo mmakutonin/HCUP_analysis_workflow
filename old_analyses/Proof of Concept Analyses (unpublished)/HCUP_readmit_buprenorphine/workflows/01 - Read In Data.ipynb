{
 "cells": [
  {
   "cell_type": "code",
   "execution_count": 1,
   "metadata": {},
   "outputs": [],
   "source": [
    "import pandas as pd\n",
    "from data_reading_functions import data_dir, read_data, core_reference, code_lengths\n",
    "from analysis_variables import procedure_codes, diagnosis_codes, dataset_filtering_function\n",
    "from utility_functions import pickle_file, starting_run, finished_run"
   ]
  },
  {
   "cell_type": "markdown",
   "metadata": {},
   "source": [
    "### Data Reading"
   ]
  },
  {
   "cell_type": "code",
   "execution_count": 2,
   "metadata": {},
   "outputs": [],
   "source": [
    "split_codes = lambda val, col_name: [val[i:i+code_lengths[col_name]] for i in range(0, len(val), code_lengths[col_name])]\n",
    "\n",
    "def process_dataset(dataset, proc_code_type):\n",
    "    starting_run(f\"{dataset} construction\")\n",
    "    dataset_core = read_data(core_reference[dataset][\"2018\"], f\"MD_{dataset.upper()}_2018_CORE.asc\").append(\n",
    "        read_data(core_reference[dataset][\"2017\"], f\"MD_{dataset.upper()}_2017_CORE.asc\")\n",
    "    ).append(\n",
    "        read_data(core_reference[dataset][\"2016\"], f\"MD_{dataset.upper()}_2016_CORE.asc\"), ignore_index=True\n",
    "    ).set_index(\"record_id\")\n",
    "    \n",
    "    starting_run(f\"{dataset} filtering\")\n",
    "    dataset_core = dataset_filtering_function(dataset, dataset_core, proc_code_type)\n",
    "    starting_run(f\"{dataset} code splitting\")\n",
    "    dataset_core[\"ICD-10\"] = dataset_core[\"ICD-10\"].transform(split_codes, col_name=\"ICD-10\")\n",
    "    dataset_core[proc_code_type] = dataset_core[proc_code_type].transform(split_codes, col_name=proc_code_type)\n",
    "    \n",
    "    starting_run(f\"{dataset} storage\")\n",
    "    pickle_file(f\"{dataset}_core_filtered.pickle\", dataset_core)\n",
    "    \n",
    "    del dataset_core\n",
    "    finished_run(f\"{dataset} creation\")"
   ]
  },
  {
   "cell_type": "code",
   "execution_count": 3,
   "metadata": {},
   "outputs": [
    {
     "name": "stdout",
     "output_type": "stream",
     "text": [
      "Starting sedd construction 13:36:30.937353\n",
      "Starting sedd filtering 13:59:27.430128\n",
      "Starting sedd code splitting 14:06:12.038371\n",
      "Starting sedd storage 14:06:22.745426\n",
      "Finished sedd creation 14:06:27.354267\n",
      "Starting sasd construction 14:06:27.359251\n",
      "Starting sasd filtering 14:29:21.413159\n",
      "Starting sasd code splitting 14:35:16.428422\n",
      "Starting sasd storage 14:35:29.561531\n",
      "Finished sasd creation 14:35:36.835101\n",
      "Starting sid construction 14:35:36.838907\n",
      "Starting sid filtering 14:36:24.492628\n",
      "Starting sid code splitting 14:36:36.431703\n",
      "Starting sid storage 14:36:38.681687\n",
      "Finished sid creation 14:36:41.993523\n"
     ]
    }
   ],
   "source": [
    "process_dataset(\"sedd\", \"cpt_codes\")\n",
    "process_dataset(\"sasd\", \"cpt_codes\")\n",
    "process_dataset(\"sid\", \"ICD-10-procedures\")"
   ]
  }
 ],
 "metadata": {
  "interpreter": {
   "hash": "6d4cbe4fe6a33e4d72c9a2990f07f1aeb20aae8182e4dceeb23ed7c7096de238"
  },
  "kernelspec": {
   "display_name": "Python 3.8.3 64-bit ('base': conda)",
   "name": "python3"
  },
  "language_info": {
   "name": "python",
   "version": ""
  }
 },
 "nbformat": 4,
 "nbformat_minor": 4
}