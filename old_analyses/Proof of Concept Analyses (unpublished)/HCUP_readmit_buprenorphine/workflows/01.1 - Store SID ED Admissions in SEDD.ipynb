{
 "cells": [
  {
   "cell_type": "code",
   "execution_count": 1,
   "metadata": {},
   "outputs": [],
   "source": [
    "import pandas as pd\n",
    "from utility_functions import load_file, pickle_file, starting_run, finished_run"
   ]
  },
  {
   "cell_type": "code",
   "execution_count": 2,
   "metadata": {},
   "outputs": [],
   "source": [
    "sid_core_filtered = load_file(\"sid_core_filtered.pickle\")"
   ]
  },
  {
   "cell_type": "code",
   "execution_count": 3,
   "metadata": {},
   "outputs": [],
   "source": [
    "sedd_appendix = sid_core_filtered.loc[sid_core_filtered[\"ed_admission\"].astype(\"int\") > 0]"
   ]
  },
  {
   "cell_type": "code",
   "execution_count": 4,
   "metadata": {},
   "outputs": [],
   "source": [
    "sedd_appendix_constrained = sedd_appendix.loc[:,[\n",
    "    'visit_link',\n",
    "    'payer',\n",
    "    'year',\n",
    "    'age',\n",
    "    'married',\n",
    "    'race',\n",
    "    'median_zip_income',\n",
    "    'discharge_quarter',\n",
    "    'female',\n",
    "    'homeless'\n",
    "]]\n",
    "sedd_appendix_constrained['total_charges'] = 0\n",
    "sedd_appendix_constrained['ICD-10'] = sedd_appendix['ICD-10'].transform(lambda x: [f\"{x[0][0:3]}-tmp\"])"
   ]
  },
  {
   "cell_type": "code",
   "execution_count": 5,
   "metadata": {},
   "outputs": [],
   "source": [
    "pickle_file(\"sedd_appendix.pickle\", sedd_appendix_constrained)"
   ]
  },
  {
   "cell_type": "code",
   "execution_count": null,
   "metadata": {},
   "outputs": [],
   "source": []
  }
 ],
 "metadata": {
  "interpreter": {
   "hash": "6d4cbe4fe6a33e4d72c9a2990f07f1aeb20aae8182e4dceeb23ed7c7096de238"
  },
  "kernelspec": {
   "display_name": "Python 3.8.3 64-bit ('base': conda)",
   "name": "python3"
  },
  "language_info": {
   "name": "python",
   "version": ""
  }
 },
 "nbformat": 4,
 "nbformat_minor": 4
}