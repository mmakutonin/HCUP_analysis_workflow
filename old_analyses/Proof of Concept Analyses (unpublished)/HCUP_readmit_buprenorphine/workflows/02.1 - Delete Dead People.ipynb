{
 "cells": [
  {
   "cell_type": "code",
   "execution_count": 15,
   "metadata": {},
   "outputs": [],
   "source": [
    "from utility_functions import load_file, pickle_file, starting_run, finished_run\n",
    "from data_reading_functions import data_dir, read_data, died_reference\n",
    "import pandas as pd\n",
    "import numpy as np"
   ]
  },
  {
   "cell_type": "code",
   "execution_count": 16,
   "metadata": {},
   "outputs": [],
   "source": [
    "summary_table = load_file(\"filtered_dataset.pickle\")\n",
    "codes_table = load_file(\"filtered_dataset_codes.pickle\")\n",
    "index = summary_table[\"max_year\"].astype(\"int\")\n",
    "death_records = []"
   ]
  },
  {
   "cell_type": "code",
   "execution_count": 17,
   "metadata": {
    "scrolled": false
   },
   "outputs": [
    {
     "name": "stdout",
     "output_type": "stream",
     "text": [
      "Starting sedd2016 10:50:07.053331\n",
      "Starting sedd2017 10:50:36.932835\n",
      "Starting sedd2018 10:51:05.076345\n",
      "Starting sid2016 10:51:40.285776\n",
      "Starting sid2017 10:51:49.461719\n",
      "Starting sid2018 10:51:58.728745\n",
      "Starting sasd2016 10:52:10.784327\n",
      "Starting sasd2017 10:52:58.800131\n",
      "Starting sasd2018 10:53:41.162785\n"
     ]
    }
   ],
   "source": [
    "for dataset in [\"sedd\", \"sid\", \"sasd\"]:\r\n",
    "    for year in [\"2016\", \"2017\", \"2018\"]:\r\n",
    "        starting_run(dataset + year)\r\n",
    "        data_file = read_data(died_reference[dataset][year], f\"MD_{dataset.upper()}_{year}_CORE.asc\")\r\n",
    "        deaths = data_file.astype({\"Died\": \"int\"}).join(index, how=\"inner\", on=\"visit_link\").query(f\"max_year >={year} and Died == 1\")\r\n",
    "        death_records.append(deaths)\r\n",
    "        del data_file\r\n",
    "        del deaths"
   ]
  },
  {
   "cell_type": "code",
   "execution_count": 18,
   "metadata": {},
   "outputs": [],
   "source": [
    "#Dropping duplicates due to some HCUP data vagaries\r\n",
    "deaths = pd.concat(death_records).sort_values(\"record_id\", ascending=False).drop_duplicates('visit_link').set_index('visit_link')"
   ]
  },
  {
   "cell_type": "code",
   "execution_count": 19,
   "metadata": {},
   "outputs": [
    {
     "data": {
      "text/html": [
       "<div>\n",
       "<style scoped>\n",
       "    .dataframe tbody tr th:only-of-type {\n",
       "        vertical-align: middle;\n",
       "    }\n",
       "\n",
       "    .dataframe tbody tr th {\n",
       "        vertical-align: top;\n",
       "    }\n",
       "\n",
       "    .dataframe thead th {\n",
       "        text-align: right;\n",
       "    }\n",
       "</style>\n",
       "<table border=\"1\" class=\"dataframe\">\n",
       "  <thead>\n",
       "    <tr style=\"text-align: right;\">\n",
       "      <th></th>\n",
       "      <th>Died</th>\n",
       "      <th>record_id</th>\n",
       "      <th>max_year</th>\n",
       "    </tr>\n",
       "    <tr>\n",
       "      <th>visit_link</th>\n",
       "      <th></th>\n",
       "      <th></th>\n",
       "      <th></th>\n",
       "    </tr>\n",
       "  </thead>\n",
       "  <tbody>\n",
       "    <tr>\n",
       "      <th>2214480</th>\n",
       "      <td>1</td>\n",
       "      <td>242018405120635</td>\n",
       "      <td>2018</td>\n",
       "    </tr>\n",
       "    <tr>\n",
       "      <th>4456081</th>\n",
       "      <td>1</td>\n",
       "      <td>242018405077698</td>\n",
       "      <td>2018</td>\n",
       "    </tr>\n",
       "    <tr>\n",
       "      <th>2167455</th>\n",
       "      <td>1</td>\n",
       "      <td>242018404758217</td>\n",
       "      <td>2018</td>\n",
       "    </tr>\n",
       "    <tr>\n",
       "      <th>12443747</th>\n",
       "      <td>1</td>\n",
       "      <td>242018404694236</td>\n",
       "      <td>2018</td>\n",
       "    </tr>\n",
       "    <tr>\n",
       "      <th>3422623</th>\n",
       "      <td>1</td>\n",
       "      <td>242018404563721</td>\n",
       "      <td>2018</td>\n",
       "    </tr>\n",
       "    <tr>\n",
       "      <th>...</th>\n",
       "      <td>...</td>\n",
       "      <td>...</td>\n",
       "      <td>...</td>\n",
       "    </tr>\n",
       "    <tr>\n",
       "      <th>3965560</th>\n",
       "      <td>1</td>\n",
       "      <td>242017100025667</td>\n",
       "      <td>2018</td>\n",
       "    </tr>\n",
       "    <tr>\n",
       "      <th>3562996</th>\n",
       "      <td>1</td>\n",
       "      <td>242017100021089</td>\n",
       "      <td>2018</td>\n",
       "    </tr>\n",
       "    <tr>\n",
       "      <th>4436678</th>\n",
       "      <td>1</td>\n",
       "      <td>242017100017419</td>\n",
       "      <td>2018</td>\n",
       "    </tr>\n",
       "    <tr>\n",
       "      <th>3172582</th>\n",
       "      <td>1</td>\n",
       "      <td>242017100013564</td>\n",
       "      <td>2018</td>\n",
       "    </tr>\n",
       "    <tr>\n",
       "      <th>1824987</th>\n",
       "      <td>1</td>\n",
       "      <td>242017100009988</td>\n",
       "      <td>2018</td>\n",
       "    </tr>\n",
       "  </tbody>\n",
       "</table>\n",
       "<p>511 rows × 3 columns</p>\n",
       "</div>"
      ],
      "text/plain": [
       "            Died        record_id  max_year\n",
       "visit_link                                 \n",
       "  2214480      1  242018405120635      2018\n",
       "  4456081      1  242018405077698      2018\n",
       "  2167455      1  242018404758217      2018\n",
       " 12443747      1  242018404694236      2018\n",
       "  3422623      1  242018404563721      2018\n",
       "...          ...              ...       ...\n",
       "  3965560      1  242017100025667      2018\n",
       "  3562996      1  242017100021089      2018\n",
       "  4436678      1  242017100017419      2018\n",
       "  3172582      1  242017100013564      2018\n",
       "  1824987      1  242017100009988      2018\n",
       "\n",
       "[511 rows x 3 columns]"
      ]
     },
     "execution_count": 19,
     "metadata": {},
     "output_type": "execute_result"
    }
   ],
   "source": [
    "deaths"
   ]
  },
  {
   "cell_type": "code",
   "execution_count": 20,
   "metadata": {},
   "outputs": [
    {
     "name": "stdout",
     "output_type": "stream",
     "text": [
      "dropped 143 invalid patients due to death on initial record.\n"
     ]
    }
   ],
   "source": [
    "invalid_deaths = deaths.join(summary_table, how=\"right\", lsuffix=\"_died\").query(\"Died == 1 and record_id == initial_record_id\")\r\n",
    "fully_filtered_summary = summary_table.join(deaths[\"Died\"], how=\"left\").drop(index=invalid_deaths.index)\r\n",
    "fully_filtered_summary[\"Died\"] = fully_filtered_summary[\"Died\"].fillna(0)\r\n",
    "print(f\"dropped {invalid_deaths.shape[0]} invalid patients due to death on initial record.\")"
   ]
  },
  {
   "cell_type": "code",
   "execution_count": 21,
   "metadata": {},
   "outputs": [
    {
     "data": {
      "text/plain": [
       "0.0    15648\n",
       "1.0      368\n",
       "Name: Died, dtype: int64"
      ]
     },
     "execution_count": 21,
     "metadata": {},
     "output_type": "execute_result"
    }
   ],
   "source": [
    "fully_filtered_summary[\"Died\"].value_counts()"
   ]
  },
  {
   "cell_type": "code",
   "execution_count": 22,
   "metadata": {
    "scrolled": true
   },
   "outputs": [],
   "source": [
    "pickle_file(\"fully_filtered_summary.pickle\", fully_filtered_summary)\n",
    "pickle_file(\"fully_filtered_codes.pickle\", codes_table.loc[fully_filtered_summary.index])"
   ]
  }
 ],
 "metadata": {
  "interpreter": {
   "hash": "c001ceb0b6bdb90771fdf7c6882c9b8ef43b808aa9be868856e3623272fba94e"
  },
  "kernelspec": {
   "display_name": "Python 3.8.5 64-bit ('HCUP-study-figs': conda)",
   "name": "python3"
  },
  "language_info": {
   "codemirror_mode": {
    "name": "ipython",
    "version": 3
   },
   "file_extension": ".py",
   "mimetype": "text/x-python",
   "name": "python",
   "nbconvert_exporter": "python",
   "pygments_lexer": "ipython3",
   "version": "3.8.5"
  }
 },
 "nbformat": 4,
 "nbformat_minor": 5
}