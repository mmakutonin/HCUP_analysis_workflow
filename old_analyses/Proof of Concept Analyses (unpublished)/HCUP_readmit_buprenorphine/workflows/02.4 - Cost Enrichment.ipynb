{
 "cells": [
  {
   "cell_type": "code",
   "execution_count": 1,
   "metadata": {},
   "outputs": [],
   "source": [
    "import pandas as pd\n",
    "import numpy as np\n",
    "from utility_functions import load_file, pickle_file, starting_run, finished_run"
   ]
  },
  {
   "cell_type": "code",
   "execution_count": 2,
   "metadata": {},
   "outputs": [],
   "source": [
    "codes = load_file(\"fully_filtered_codes.pickle\")\n",
    "summary_enhanced = load_file(\"summary_enhanced.pickle\")\n",
    "sid_costs = load_file(\"sid_costs.pickle\")"
   ]
  },
  {
   "cell_type": "code",
   "execution_count": 3,
   "metadata": {},
   "outputs": [],
   "source": [
    "rvu_lookup = pd.read_csv(\n",
    "    \"../../raw_data/PPRRVU18_OCT.csv\", skiprows=9, index_col=0\n",
    ")\n",
    "conv_factor=rvu_lookup.at[\"47563\", \"FACTOR\"]\n",
    "rvu_lookup = rvu_lookup[[\"DESCRIPTION\", \"TOTAL.1\"]].dropna()\n",
    "summary_enhanced[\"CPT Costs\"] = codes.query(\"cpt_flag == True\")\\\n",
    ".join(rvu_lookup, on=\"codes\", how=\"left\")[\"TOTAL.1\"].reset_index()\\\n",
    ".groupby(\"visit_link\").sum().mul(conv_factor)\n",
    "summary_enhanced[\"CPT Costs\"].fillna(0, inplace=True)"
   ]
  },
  {
   "cell_type": "code",
   "execution_count": 4,
   "metadata": {},
   "outputs": [],
   "source": [
    "summary_enhanced.index = summary_enhanced.index.astype('int')\n",
    "summary_enhanced[\"SID_costs\"] = sid_costs.groupby('visit_link').sum()\n",
    "summary_enhanced[\"SID_costs\"].fillna(0, inplace=True)\n",
    "summary_enhanced[\"Cost\"] = summary_enhanced[\"SID_costs\"].add(summary_enhanced[\"CPT Costs\"])"
   ]
  },
  {
   "cell_type": "code",
   "execution_count": 5,
   "metadata": {},
   "outputs": [
    {
     "name": "stdout",
     "output_type": "stream",
     "text": [
      "Number of rows dropped: 93\n"
     ]
    }
   ],
   "source": [
    "# Get rows that don't have an associated cost\n",
    "missing_costs = sid_costs.set_index('visit_link')[sid_costs.set_index('visit_link')['SID_costs'].isna()].index\n",
    "# Get rows that have a zero cost\n",
    "zero_cost = summary_enhanced.query('Cost == 0').index\n",
    "# If both conditions met, drop from summary table since it's a false zero\n",
    "drop_rows = [index for index in missing_costs if index in zero_cost]\n",
    "print(f\"Number of rows dropped: {len(drop_rows)}\")\n",
    "summary_enhanced.drop(drop_rows, inplace=True)"
   ]
  },
  {
   "cell_type": "code",
   "execution_count": 6,
   "metadata": {},
   "outputs": [],
   "source": [
    "pickle_file(\"summary_costs_enhanced.pickle\", summary_enhanced)"
   ]
  }
 ],
 "metadata": {
  "interpreter": {
   "hash": "6d4cbe4fe6a33e4d72c9a2990f07f1aeb20aae8182e4dceeb23ed7c7096de238"
  },
  "kernelspec": {
   "display_name": "Python 3.8.3 64-bit ('base': conda)",
   "name": "python3"
  },
  "language_info": {
   "name": "python",
   "version": ""
  }
 },
 "nbformat": 4,
 "nbformat_minor": 5
}