{
 "cells": [
  {
   "cell_type": "code",
   "execution_count": 1,
   "metadata": {},
   "outputs": [],
   "source": [
    "# This notebook is the only one that doesn't rely on analysis_variables for codes and data enrichment vars\n",
    "# because the kinds of statistical tests/questions we want will be specific to the results of each analysis"
   ]
  },
  {
   "cell_type": "code",
   "execution_count": 4,
   "metadata": {},
   "outputs": [],
   "source": [
    "import pandas as pd\n",
    "from scipy.stats import ttest_ind, f_oneway\n",
    "from utility_functions import load_file, starting_run, finished_run\n",
    "from analysis_variables import logreg_targets, de_col_keys, de_col_values"
   ]
  },
  {
   "cell_type": "code",
   "execution_count": 3,
   "metadata": {},
   "outputs": [],
   "source": [
    "dataset = load_file(\"summary_costs_enhanced.pickle\").join(load_file(\"category_status_filtered.pickle\"))\n",
    "# logreg_targets = load_file(\"Full_logreg_targets.pickle\")"
   ]
  },
  {
   "cell_type": "code",
   "execution_count": 7,
   "metadata": {},
   "outputs": [],
   "source": [
    "def test(data, col_name_index, col_value_index):\n",
    "    print(ttest_ind(\n",
    "        data[data[de_col_keys[col_name_index]] == de_col_value[de_col_keys[col_name_index]][col_value_index]][\"Cost\"],\n",
    "        data[data[de_col_keys[col_name_index]] != de_col_value[de_col_keys[col_name_index]][col_value_index]][\"Cost\"],\n",
    "        equal_var = False,\n",
    "#         alternative = \"greater\"\n",
    "    ))"
   ]
  },
  {
   "cell_type": "code",
   "execution_count": 8,
   "metadata": {
    "scrolled": true
   },
   "outputs": [
    {
     "data": {
      "text/plain": [
       "['Admission Status', 'Biliary Colic Type', 'Cholecystectomy Type']"
      ]
     },
     "execution_count": 8,
     "metadata": {},
     "output_type": "execute_result"
    }
   ],
   "source": [
    "de_col_keys"
   ]
  },
  {
   "cell_type": "code",
   "execution_count": 5,
   "metadata": {},
   "outputs": [
    {
     "name": "stdout",
     "output_type": "stream",
     "text": [
      "Ttest_indResult(statistic=13.336646639661922, pvalue=7.939789679811304e-40)\n"
     ]
    }
   ],
   "source": [
    "test(\n",
    "    dataset\n",
    ")"
   ]
  },
  {
   "cell_type": "code",
   "execution_count": 12,
   "metadata": {},
   "outputs": [
    {
     "data": {
      "text/html": [
       "<div>\n",
       "<style scoped>\n",
       "    .dataframe tbody tr th:only-of-type {\n",
       "        vertical-align: middle;\n",
       "    }\n",
       "\n",
       "    .dataframe tbody tr th {\n",
       "        vertical-align: top;\n",
       "    }\n",
       "\n",
       "    .dataframe thead tr th {\n",
       "        text-align: left;\n",
       "    }\n",
       "\n",
       "    .dataframe thead tr:last-of-type th {\n",
       "        text-align: right;\n",
       "    }\n",
       "</style>\n",
       "<table border=\"1\" class=\"dataframe\">\n",
       "  <thead>\n",
       "    <tr>\n",
       "      <th></th>\n",
       "      <th></th>\n",
       "      <th></th>\n",
       "      <th colspan=\"2\" halign=\"left\">Cost</th>\n",
       "      <th colspan=\"2\" halign=\"left\">ED Readmissions</th>\n",
       "    </tr>\n",
       "    <tr>\n",
       "      <th></th>\n",
       "      <th></th>\n",
       "      <th></th>\n",
       "      <th>mean</th>\n",
       "      <th>count</th>\n",
       "      <th>mean</th>\n",
       "      <th>count</th>\n",
       "    </tr>\n",
       "    <tr>\n",
       "      <th>Biliary Colic Type</th>\n",
       "      <th>Admission Status</th>\n",
       "      <th>Cholecystectomy Type</th>\n",
       "      <th></th>\n",
       "      <th></th>\n",
       "      <th></th>\n",
       "      <th></th>\n",
       "    </tr>\n",
       "  </thead>\n",
       "  <tbody>\n",
       "    <tr>\n",
       "      <th rowspan=\"7\" valign=\"top\">Complicated</th>\n",
       "      <th rowspan=\"4\" valign=\"top\">Admitted</th>\n",
       "      <th>Delayed</th>\n",
       "      <td>11029.254941</td>\n",
       "      <td>166</td>\n",
       "      <td>0.030120</td>\n",
       "      <td>166</td>\n",
       "    </tr>\n",
       "    <tr>\n",
       "      <th>Immediate</th>\n",
       "      <td>10754.346624</td>\n",
       "      <td>3607</td>\n",
       "      <td>0.011644</td>\n",
       "      <td>3607</td>\n",
       "    </tr>\n",
       "    <tr>\n",
       "      <th>No Surgery</th>\n",
       "      <td>9362.261106</td>\n",
       "      <td>876</td>\n",
       "      <td>0.035388</td>\n",
       "      <td>876</td>\n",
       "    </tr>\n",
       "    <tr>\n",
       "      <th>Return Emergency</th>\n",
       "      <td>23305.676826</td>\n",
       "      <td>26</td>\n",
       "      <td>1.038462</td>\n",
       "      <td>26</td>\n",
       "    </tr>\n",
       "    <tr>\n",
       "      <th rowspan=\"3\" valign=\"top\">Not Admitted</th>\n",
       "      <th>Delayed</th>\n",
       "      <td>4662.323950</td>\n",
       "      <td>32</td>\n",
       "      <td>0.031250</td>\n",
       "      <td>32</td>\n",
       "    </tr>\n",
       "    <tr>\n",
       "      <th>No Surgery</th>\n",
       "      <td>1308.014732</td>\n",
       "      <td>127</td>\n",
       "      <td>0.047244</td>\n",
       "      <td>127</td>\n",
       "    </tr>\n",
       "    <tr>\n",
       "      <th>Return Emergency</th>\n",
       "      <td>7763.618819</td>\n",
       "      <td>12</td>\n",
       "      <td>1.000000</td>\n",
       "      <td>12</td>\n",
       "    </tr>\n",
       "    <tr>\n",
       "      <th rowspan=\"7\" valign=\"top\">Uncomplicated</th>\n",
       "      <th rowspan=\"4\" valign=\"top\">Admitted</th>\n",
       "      <th>Delayed</th>\n",
       "      <td>10767.530688</td>\n",
       "      <td>56</td>\n",
       "      <td>0.053571</td>\n",
       "      <td>56</td>\n",
       "    </tr>\n",
       "    <tr>\n",
       "      <th>Immediate</th>\n",
       "      <td>11834.135527</td>\n",
       "      <td>119</td>\n",
       "      <td>0.000000</td>\n",
       "      <td>119</td>\n",
       "    </tr>\n",
       "    <tr>\n",
       "      <th>No Surgery</th>\n",
       "      <td>8876.249622</td>\n",
       "      <td>340</td>\n",
       "      <td>0.029412</td>\n",
       "      <td>340</td>\n",
       "    </tr>\n",
       "    <tr>\n",
       "      <th>Return Emergency</th>\n",
       "      <td>17779.966747</td>\n",
       "      <td>7</td>\n",
       "      <td>1.000000</td>\n",
       "      <td>7</td>\n",
       "    </tr>\n",
       "    <tr>\n",
       "      <th rowspan=\"3\" valign=\"top\">Not Admitted</th>\n",
       "      <th>Delayed</th>\n",
       "      <td>1854.780297</td>\n",
       "      <td>59</td>\n",
       "      <td>0.084746</td>\n",
       "      <td>59</td>\n",
       "    </tr>\n",
       "    <tr>\n",
       "      <th>No Surgery</th>\n",
       "      <td>911.159282</td>\n",
       "      <td>234</td>\n",
       "      <td>0.029915</td>\n",
       "      <td>234</td>\n",
       "    </tr>\n",
       "    <tr>\n",
       "      <th>Return Emergency</th>\n",
       "      <td>7402.488399</td>\n",
       "      <td>11</td>\n",
       "      <td>1.000000</td>\n",
       "      <td>11</td>\n",
       "    </tr>\n",
       "  </tbody>\n",
       "</table>\n",
       "</div>"
      ],
      "text/plain": [
       "                                                                  Cost        \\\n",
       "                                                                  mean count   \n",
       "Biliary Colic Type Admission Status Cholecystectomy Type                       \n",
       "Complicated        Admitted         Delayed               11029.254941   166   \n",
       "                                    Immediate             10754.346624  3607   \n",
       "                                    No Surgery             9362.261106   876   \n",
       "                                    Return Emergency      23305.676826    26   \n",
       "                   Not Admitted     Delayed                4662.323950    32   \n",
       "                                    No Surgery             1308.014732   127   \n",
       "                                    Return Emergency       7763.618819    12   \n",
       "Uncomplicated      Admitted         Delayed               10767.530688    56   \n",
       "                                    Immediate             11834.135527   119   \n",
       "                                    No Surgery             8876.249622   340   \n",
       "                                    Return Emergency      17779.966747     7   \n",
       "                   Not Admitted     Delayed                1854.780297    59   \n",
       "                                    No Surgery              911.159282   234   \n",
       "                                    Return Emergency       7402.488399    11   \n",
       "\n",
       "                                                         ED Readmissions        \n",
       "                                                                    mean count  \n",
       "Biliary Colic Type Admission Status Cholecystectomy Type                        \n",
       "Complicated        Admitted         Delayed                     0.030120   166  \n",
       "                                    Immediate                   0.011644  3607  \n",
       "                                    No Surgery                  0.035388   876  \n",
       "                                    Return Emergency            1.038462    26  \n",
       "                   Not Admitted     Delayed                     0.031250    32  \n",
       "                                    No Surgery                  0.047244   127  \n",
       "                                    Return Emergency            1.000000    12  \n",
       "Uncomplicated      Admitted         Delayed                     0.053571    56  \n",
       "                                    Immediate                   0.000000   119  \n",
       "                                    No Surgery                  0.029412   340  \n",
       "                                    Return Emergency            1.000000     7  \n",
       "                   Not Admitted     Delayed                     0.084746    59  \n",
       "                                    No Surgery                  0.029915   234  \n",
       "                                    Return Emergency            1.000000    11  "
      ]
     },
     "execution_count": 12,
     "metadata": {},
     "output_type": "execute_result"
    }
   ],
   "source": [
    "dataset.groupby(['Biliary Colic Type', 'Admission Status', 'Cholecystectomy Type'])[['Cost', 'ED Readmissions']].agg(['mean','count'])"
   ]
  },
  {
   "cell_type": "code",
   "execution_count": 6,
   "metadata": {},
   "outputs": [
    {
     "data": {
      "text/plain": [
       "Ttest_indResult(statistic=-6.123143831957243, pvalue=5.757754126114558e-10)"
      ]
     },
     "execution_count": 6,
     "metadata": {},
     "output_type": "execute_result"
    }
   ],
   "source": [
    "ttest_ind(\n",
    "    dataset.loc[dataset[\"surgery_type\"] == \"Emergency Surgery\"][\"ED Readmissions\"],\n",
    "    dataset.loc[dataset[\"surgery_type\"] != \"Emergency Surgery\"][\"ED Readmissions\"],\n",
    "    equal_var = False,\n",
    "    alternative = \"less\"\n",
    ")"
   ]
  },
  {
   "cell_type": "code",
   "execution_count": 7,
   "metadata": {
    "scrolled": true
   },
   "outputs": [
    {
     "data": {
      "text/html": [
       "<div>\n",
       "<style scoped>\n",
       "    .dataframe tbody tr th:only-of-type {\n",
       "        vertical-align: middle;\n",
       "    }\n",
       "\n",
       "    .dataframe tbody tr th {\n",
       "        vertical-align: top;\n",
       "    }\n",
       "\n",
       "    .dataframe thead th {\n",
       "        text-align: right;\n",
       "    }\n",
       "</style>\n",
       "<table border=\"1\" class=\"dataframe\">\n",
       "  <thead>\n",
       "    <tr style=\"text-align: right;\">\n",
       "      <th></th>\n",
       "      <th>sum</th>\n",
       "      <th>count</th>\n",
       "      <th>mean</th>\n",
       "    </tr>\n",
       "    <tr>\n",
       "      <th>surgery_type</th>\n",
       "      <th></th>\n",
       "      <th></th>\n",
       "      <th></th>\n",
       "    </tr>\n",
       "  </thead>\n",
       "  <tbody>\n",
       "    <tr>\n",
       "      <th>Delayed Surgery</th>\n",
       "      <td>10.0</td>\n",
       "      <td>229</td>\n",
       "      <td>0.043668</td>\n",
       "    </tr>\n",
       "    <tr>\n",
       "      <th>ED Readmit Surgery</th>\n",
       "      <td>27.0</td>\n",
       "      <td>27</td>\n",
       "      <td>1.000000</td>\n",
       "    </tr>\n",
       "    <tr>\n",
       "      <th>Emergency Surgery</th>\n",
       "      <td>27.0</td>\n",
       "      <td>2709</td>\n",
       "      <td>0.009967</td>\n",
       "    </tr>\n",
       "    <tr>\n",
       "      <th>No Surgery</th>\n",
       "      <td>31.0</td>\n",
       "      <td>1096</td>\n",
       "      <td>0.028285</td>\n",
       "    </tr>\n",
       "  </tbody>\n",
       "</table>\n",
       "</div>"
      ],
      "text/plain": [
       "                     sum  count      mean\n",
       "surgery_type                             \n",
       "Delayed Surgery     10.0    229  0.043668\n",
       "ED Readmit Surgery  27.0     27  1.000000\n",
       "Emergency Surgery   27.0   2709  0.009967\n",
       "No Surgery          31.0   1096  0.028285"
      ]
     },
     "execution_count": 7,
     "metadata": {},
     "output_type": "execute_result"
    }
   ],
   "source": [
    "dataset.groupby(\"surgery_type\")[\"ED Readmissions\"].agg([\"sum\", \"count\", \"mean\"])"
   ]
  },
  {
   "cell_type": "code",
   "execution_count": 8,
   "metadata": {},
   "outputs": [],
   "source": [
    "def compare_cost(target):\n",
    "    data = dataset.join(\n",
    "        logreg_targets[target](dataset).rename('comp'),\n",
    "        how=\"inner\"\n",
    "    )\n",
    "    p = ttest_ind(\n",
    "        data[data[\"comp\"] == False][\"Cost\"],\n",
    "        data[data[\"comp\"] == True][\"Cost\"],\n",
    "        equal_var = False\n",
    "    )\n",
    "    print (f\"p = {p[1]}\")\n",
    "    return (\n",
    "        data.groupby('comp')['Cost'].mean()\n",
    "    )\n",
    "    "
   ]
  },
  {
   "cell_type": "code",
   "execution_count": 9,
   "metadata": {
    "scrolled": true
   },
   "outputs": [
    {
     "name": "stdout",
     "output_type": "stream",
     "text": [
      "p = 0.0\n"
     ]
    },
    {
     "data": {
      "text/plain": [
       "comp\n",
       "False     1434.876420\n",
       "True     10737.786787\n",
       "Name: Cost, dtype: float64"
      ]
     },
     "execution_count": 9,
     "metadata": {},
     "output_type": "execute_result"
    }
   ],
   "source": [
    "compare_cost(\"Admission vs Discharge\")"
   ]
  },
  {
   "cell_type": "code",
   "execution_count": 10,
   "metadata": {
    "scrolled": false
   },
   "outputs": [
    {
     "name": "stdout",
     "output_type": "stream",
     "text": [
      "p = 0.0009684376664753035\n"
     ]
    },
    {
     "data": {
      "text/plain": [
       "comp\n",
       "False    7046.435888\n",
       "True     9139.202212\n",
       "Name: Cost, dtype: float64"
      ]
     },
     "execution_count": 10,
     "metadata": {},
     "output_type": "execute_result"
    }
   ],
   "source": [
    "compare_cost('Delayed + Delayed Emergency vs No Surgery')"
   ]
  },
  {
   "cell_type": "code",
   "execution_count": 11,
   "metadata": {},
   "outputs": [
    {
     "name": "stdout",
     "output_type": "stream",
     "text": [
      "p = 3.993031089877197e-05\n"
     ]
    },
    {
     "data": {
      "text/plain": [
       "comp\n",
       "False     9817.308391\n",
       "True     11067.038749\n",
       "Name: Cost, dtype: float64"
      ]
     },
     "execution_count": 11,
     "metadata": {},
     "output_type": "execute_result"
    }
   ],
   "source": [
    "compare_cost('Given Admission - Immediate Surgery vs non-Surgical Management')"
   ]
  },
  {
   "cell_type": "code",
   "execution_count": 12,
   "metadata": {
    "scrolled": false
   },
   "outputs": [
    {
     "data": {
      "text/html": [
       "<div>\n",
       "<style scoped>\n",
       "    .dataframe tbody tr th:only-of-type {\n",
       "        vertical-align: middle;\n",
       "    }\n",
       "\n",
       "    .dataframe tbody tr th {\n",
       "        vertical-align: top;\n",
       "    }\n",
       "\n",
       "    .dataframe thead th {\n",
       "        text-align: right;\n",
       "    }\n",
       "</style>\n",
       "<table border=\"1\" class=\"dataframe\">\n",
       "  <thead>\n",
       "    <tr style=\"text-align: right;\">\n",
       "      <th></th>\n",
       "      <th>mean</th>\n",
       "      <th>sem</th>\n",
       "      <th>count</th>\n",
       "    </tr>\n",
       "    <tr>\n",
       "      <th>surgery_type</th>\n",
       "      <th></th>\n",
       "      <th></th>\n",
       "      <th></th>\n",
       "    </tr>\n",
       "  </thead>\n",
       "  <tbody>\n",
       "    <tr>\n",
       "      <th>Delayed Surgery</th>\n",
       "      <td>8083.023816</td>\n",
       "      <td>489.415886</td>\n",
       "      <td>229</td>\n",
       "    </tr>\n",
       "    <tr>\n",
       "      <th>ED Readmit Surgery</th>\n",
       "      <td>18097.159722</td>\n",
       "      <td>3354.748917</td>\n",
       "      <td>27</td>\n",
       "    </tr>\n",
       "    <tr>\n",
       "      <th>Emergency Surgery</th>\n",
       "      <td>11067.038749</td>\n",
       "      <td>176.443120</td>\n",
       "      <td>2709</td>\n",
       "    </tr>\n",
       "    <tr>\n",
       "      <th>No Surgery</th>\n",
       "      <td>7046.435888</td>\n",
       "      <td>212.695959</td>\n",
       "      <td>1096</td>\n",
       "    </tr>\n",
       "  </tbody>\n",
       "</table>\n",
       "</div>"
      ],
      "text/plain": [
       "                            mean          sem  count\n",
       "surgery_type                                        \n",
       "Delayed Surgery      8083.023816   489.415886    229\n",
       "ED Readmit Surgery  18097.159722  3354.748917     27\n",
       "Emergency Surgery   11067.038749   176.443120   2709\n",
       "No Surgery           7046.435888   212.695959   1096"
      ]
     },
     "execution_count": 12,
     "metadata": {},
     "output_type": "execute_result"
    }
   ],
   "source": [
    "dataset.groupby(\"surgery_type\")[\"Cost\"].agg([\"mean\", \"sem\", \"count\"])"
   ]
  },
  {
   "cell_type": "code",
   "execution_count": 13,
   "metadata": {
    "scrolled": true
   },
   "outputs": [
    {
     "data": {
      "text/plain": [
       "Index(['died', 'initial_record_id', 'initial_year', 'age', 'homeless', 'race',\n",
       "       'median_zip_income', 'payer', 'initial_discharge_quarter', 'admitted',\n",
       "       'max_year', 'ED Readmissions', 'Surgery Visits',\n",
       "       'Inpatient Readmissions', 'surgery_type', 'gender', 'marital_status',\n",
       "       'age_groups', 'CPT Costs', 'SID_costs', 'Cost', 'systemic hypertension',\n",
       "       'obesity', 'aspirin', 'nicotine dependence', 'hyperlipidemia',\n",
       "       'diabetes mellitus', 'ischemic heart disease',\n",
       "       'alcohol-related disorders', 'biliary colic with inflammation',\n",
       "       'mood disorders'],\n",
       "      dtype='object')"
      ]
     },
     "execution_count": 13,
     "metadata": {},
     "output_type": "execute_result"
    }
   ],
   "source": [
    "dataset.columns"
   ]
  },
  {
   "cell_type": "code",
   "execution_count": 15,
   "metadata": {
    "scrolled": true
   },
   "outputs": [
    {
     "data": {
      "text/html": [
       "<div>\n",
       "<style scoped>\n",
       "    .dataframe tbody tr th:only-of-type {\n",
       "        vertical-align: middle;\n",
       "    }\n",
       "\n",
       "    .dataframe tbody tr th {\n",
       "        vertical-align: top;\n",
       "    }\n",
       "\n",
       "    .dataframe thead th {\n",
       "        text-align: right;\n",
       "    }\n",
       "</style>\n",
       "<table border=\"1\" class=\"dataframe\">\n",
       "  <thead>\n",
       "    <tr style=\"text-align: right;\">\n",
       "      <th></th>\n",
       "      <th></th>\n",
       "      <th></th>\n",
       "      <th>mean</th>\n",
       "      <th>sem</th>\n",
       "      <th>count</th>\n",
       "    </tr>\n",
       "    <tr>\n",
       "      <th>surgery_type</th>\n",
       "      <th>ED Readmissions</th>\n",
       "      <th>Inpatient Readmissions</th>\n",
       "      <th></th>\n",
       "      <th></th>\n",
       "      <th></th>\n",
       "    </tr>\n",
       "  </thead>\n",
       "  <tbody>\n",
       "    <tr>\n",
       "      <th rowspan=\"7\" valign=\"top\">Delayed Surgery</th>\n",
       "      <th rowspan=\"3\" valign=\"top\">0.0</th>\n",
       "      <th>0.0</th>\n",
       "      <td>6269.188844</td>\n",
       "      <td>347.878255</td>\n",
       "      <td>195</td>\n",
       "    </tr>\n",
       "    <tr>\n",
       "      <th>1.0</th>\n",
       "      <td>19898.439747</td>\n",
       "      <td>1802.993906</td>\n",
       "      <td>24</td>\n",
       "    </tr>\n",
       "    <tr>\n",
       "      <th>2.0</th>\n",
       "      <td>42868.666025</td>\n",
       "      <td>NaN</td>\n",
       "      <td>1</td>\n",
       "    </tr>\n",
       "    <tr>\n",
       "      <th rowspan=\"3\" valign=\"top\">1.0</th>\n",
       "      <th>0.0</th>\n",
       "      <td>1641.581760</td>\n",
       "      <td>181.077988</td>\n",
       "      <td>2</td>\n",
       "    </tr>\n",
       "    <tr>\n",
       "      <th>1.0</th>\n",
       "      <td>14415.819707</td>\n",
       "      <td>3520.274472</td>\n",
       "      <td>5</td>\n",
       "    </tr>\n",
       "    <tr>\n",
       "      <th>2.0</th>\n",
       "      <td>27830.844584</td>\n",
       "      <td>NaN</td>\n",
       "      <td>1</td>\n",
       "    </tr>\n",
       "    <tr>\n",
       "      <th>2.0</th>\n",
       "      <th>1.0</th>\n",
       "      <td>4896.302720</td>\n",
       "      <td>NaN</td>\n",
       "      <td>1</td>\n",
       "    </tr>\n",
       "    <tr>\n",
       "      <th rowspan=\"2\" valign=\"top\">ED Readmit Surgery</th>\n",
       "      <th rowspan=\"2\" valign=\"top\">1.0</th>\n",
       "      <th>0.0</th>\n",
       "      <td>3109.285452</td>\n",
       "      <td>732.745867</td>\n",
       "      <td>3</td>\n",
       "    </tr>\n",
       "    <tr>\n",
       "      <th>1.0</th>\n",
       "      <td>19970.644006</td>\n",
       "      <td>3596.288753</td>\n",
       "      <td>24</td>\n",
       "    </tr>\n",
       "    <tr>\n",
       "      <th rowspan=\"4\" valign=\"top\">Emergency Surgery</th>\n",
       "      <th rowspan=\"2\" valign=\"top\">0.0</th>\n",
       "      <th>0.0</th>\n",
       "      <td>10996.872343</td>\n",
       "      <td>176.139901</td>\n",
       "      <td>2680</td>\n",
       "    </tr>\n",
       "    <tr>\n",
       "      <th>1.0</th>\n",
       "      <td>24232.414644</td>\n",
       "      <td>11812.974180</td>\n",
       "      <td>2</td>\n",
       "    </tr>\n",
       "    <tr>\n",
       "      <th rowspan=\"2\" valign=\"top\">1.0</th>\n",
       "      <th>0.0</th>\n",
       "      <td>4338.221797</td>\n",
       "      <td>1261.226239</td>\n",
       "      <td>4</td>\n",
       "    </tr>\n",
       "    <tr>\n",
       "      <th>1.0</th>\n",
       "      <td>19268.364147</td>\n",
       "      <td>2532.746348</td>\n",
       "      <td>23</td>\n",
       "    </tr>\n",
       "    <tr>\n",
       "      <th rowspan=\"6\" valign=\"top\">No Surgery</th>\n",
       "      <th rowspan=\"2\" valign=\"top\">0.0</th>\n",
       "      <th>0.0</th>\n",
       "      <td>6651.490095</td>\n",
       "      <td>202.033614</td>\n",
       "      <td>1051</td>\n",
       "    </tr>\n",
       "    <tr>\n",
       "      <th>1.0</th>\n",
       "      <td>14879.614294</td>\n",
       "      <td>2159.957756</td>\n",
       "      <td>17</td>\n",
       "    </tr>\n",
       "    <tr>\n",
       "      <th rowspan=\"3\" valign=\"top\">1.0</th>\n",
       "      <th>0.0</th>\n",
       "      <td>774.711392</td>\n",
       "      <td>11.879868</td>\n",
       "      <td>2</td>\n",
       "    </tr>\n",
       "    <tr>\n",
       "      <th>1.0</th>\n",
       "      <td>17431.597273</td>\n",
       "      <td>2513.091787</td>\n",
       "      <td>21</td>\n",
       "    </tr>\n",
       "    <tr>\n",
       "      <th>2.0</th>\n",
       "      <td>13475.436574</td>\n",
       "      <td>1255.631059</td>\n",
       "      <td>2</td>\n",
       "    </tr>\n",
       "    <tr>\n",
       "      <th>2.0</th>\n",
       "      <th>2.0</th>\n",
       "      <td>28220.120812</td>\n",
       "      <td>7590.941008</td>\n",
       "      <td>3</td>\n",
       "    </tr>\n",
       "  </tbody>\n",
       "</table>\n",
       "</div>"
      ],
      "text/plain": [
       "                                                                   mean  \\\n",
       "surgery_type       ED Readmissions Inpatient Readmissions                 \n",
       "Delayed Surgery    0.0             0.0                      6269.188844   \n",
       "                                   1.0                     19898.439747   \n",
       "                                   2.0                     42868.666025   \n",
       "                   1.0             0.0                      1641.581760   \n",
       "                                   1.0                     14415.819707   \n",
       "                                   2.0                     27830.844584   \n",
       "                   2.0             1.0                      4896.302720   \n",
       "ED Readmit Surgery 1.0             0.0                      3109.285452   \n",
       "                                   1.0                     19970.644006   \n",
       "Emergency Surgery  0.0             0.0                     10996.872343   \n",
       "                                   1.0                     24232.414644   \n",
       "                   1.0             0.0                      4338.221797   \n",
       "                                   1.0                     19268.364147   \n",
       "No Surgery         0.0             0.0                      6651.490095   \n",
       "                                   1.0                     14879.614294   \n",
       "                   1.0             0.0                       774.711392   \n",
       "                                   1.0                     17431.597273   \n",
       "                                   2.0                     13475.436574   \n",
       "                   2.0             2.0                     28220.120812   \n",
       "\n",
       "                                                                    sem  count  \n",
       "surgery_type       ED Readmissions Inpatient Readmissions                       \n",
       "Delayed Surgery    0.0             0.0                       347.878255    195  \n",
       "                                   1.0                      1802.993906     24  \n",
       "                                   2.0                              NaN      1  \n",
       "                   1.0             0.0                       181.077988      2  \n",
       "                                   1.0                      3520.274472      5  \n",
       "                                   2.0                              NaN      1  \n",
       "                   2.0             1.0                              NaN      1  \n",
       "ED Readmit Surgery 1.0             0.0                       732.745867      3  \n",
       "                                   1.0                      3596.288753     24  \n",
       "Emergency Surgery  0.0             0.0                       176.139901   2680  \n",
       "                                   1.0                     11812.974180      2  \n",
       "                   1.0             0.0                      1261.226239      4  \n",
       "                                   1.0                      2532.746348     23  \n",
       "No Surgery         0.0             0.0                       202.033614   1051  \n",
       "                                   1.0                      2159.957756     17  \n",
       "                   1.0             0.0                        11.879868      2  \n",
       "                                   1.0                      2513.091787     21  \n",
       "                                   2.0                      1255.631059      2  \n",
       "                   2.0             2.0                      7590.941008      3  "
      ]
     },
     "execution_count": 15,
     "metadata": {},
     "output_type": "execute_result"
    }
   ],
   "source": [
    "dataset.groupby([\"surgery_type\", \"ED Readmissions\", \"Inpatient Readmissions\"])[\"Cost\"].agg([\"mean\", \"sem\", \"count\"])"
   ]
  },
  {
   "cell_type": "code",
   "execution_count": 17,
   "metadata": {},
   "outputs": [],
   "source": [
    "filtered_dataset_codes = load_file(\"fully_filtered_codes.pickle\")"
   ]
  },
  {
   "cell_type": "code",
   "execution_count": 20,
   "metadata": {},
   "outputs": [
    {
     "data": {
      "text/plain": [
       "False    86106\n",
       "True        16\n",
       "Name: codes, dtype: int64"
      ]
     },
     "execution_count": 20,
     "metadata": {},
     "output_type": "execute_result"
    }
   ],
   "source": [
    "filtered_dataset_codes[\"codes\"].str.contains(\"K81\").value_counts()"
   ]
  },
  {
   "cell_type": "code",
   "execution_count": null,
   "metadata": {},
   "outputs": [],
   "source": []
  }
 ],
 "metadata": {
  "kernelspec": {
   "display_name": "Python 3",
   "language": "python",
   "name": "python3"
  },
  "language_info": {
   "codemirror_mode": {
    "name": "ipython",
    "version": 3
   },
   "file_extension": ".py",
   "mimetype": "text/x-python",
   "name": "python",
   "nbconvert_exporter": "python",
   "pygments_lexer": "ipython3",
   "version": "3.8.3"
  }
 },
 "nbformat": 4,
 "nbformat_minor": 5
}
