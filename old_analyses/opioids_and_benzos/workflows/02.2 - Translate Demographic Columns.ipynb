{
 "cells": [
  {
   "cell_type": "code",
   "execution_count": 1,
   "metadata": {},
   "outputs": [],
   "source": [
    "import pandas as pd\n",
    "from utility_functions import load_file, pickle_file, starting_run, finished_run"
   ]
  },
  {
   "cell_type": "code",
   "execution_count": 2,
   "metadata": {},
   "outputs": [],
   "source": [
    "data_conversion_dict = {\n",
    "    \"initial_year\": [lambda col: col.astype(\"int\")],\n",
    "    \"female\": [lambda col: col.map({0: \"Male\", 1:\"Female\"}), \"gender\"],\n",
    "    \"homeless\": [lambda col: col.map({0: \"Not Homeless\", 1:\"Homeless\"})],\n",
    "    \"married\": [lambda col: col.map({\n",
    "        \"I\": \"Single\",\n",
    "        \"M\": \"Married\",\n",
    "        \"A\": \"Common Law\",\n",
    "        \"B\": \"Registered Domestic Partner\",\n",
    "        \"S\": \"Separated\",\n",
    "        \"X\": \"Legally Separated\",\n",
    "        \"D\": \"Divorced\",\n",
    "        \"W\": \"Widowed\",\n",
    "        \"U\": \"Unmarried\"\n",
    "    }), \"marital_status\"],\n",
    "    \"payer\": [lambda col: col.map({\n",
    "        1: \"Medicare\",\n",
    "        2: \"Medicaid\",\n",
    "        3: \"Private insurance\",\n",
    "        4: \"Self-pay\",\n",
    "        5: \"No charge\",\n",
    "        6: \"Other\"\n",
    "    })],\n",
    "    \"race\": [lambda col: col.map({\n",
    "        1: \"White\",\n",
    "        2: \"African-American\",\n",
    "        3: \"Hispanic\",\n",
    "        4: \"Asian\",\n",
    "        5: \"Native American\",\n",
    "        6: \"Other\"\n",
    "    })],\n",
    "    \"median_zip_income\": [lambda col: col.replace(-99, None)]\n",
    "}\n",
    "\n",
    "additional_columns_dict = {\n",
    "    #Age Groups\n",
    "    \"Pediatric\": lambda dataset: dataset[\"age\"] <18,\n",
    "    \"Adult\": lambda dataset: (dataset[\"age\"] >=18) & (dataset[\"age\"] < 65),\n",
    "    \"Geriatric\": lambda dataset: dataset[\"age\"] >=65,\n",
    "    \"age_groups\": lambda dataset: pd.cut(dataset[\"age\"], [0,30,40,60,80,200], labels=[\"30-\", \"30-40\", \"40-60\", \"60-80\", \"80+\"])\n",
    "}"
   ]
  },
  {
   "cell_type": "code",
   "execution_count": 3,
   "metadata": {},
   "outputs": [],
   "source": [
    "dataset = load_file(\"fully_filtered_summary.pickle\")\n",
    "for key, func in data_conversion_dict.items():\n",
    "    store_key = key if len(func) == 1 else func[1]\n",
    "    func = func[0]\n",
    "    dataset[store_key] = func(dataset[key])\n",
    "    if key != store_key:\n",
    "        del dataset[key]\n",
    "for key, func in additional_columns_dict.items():\n",
    "    dataset[key] = func(dataset)\n",
    "pickle_file(f\"summary_enhanced.pickle\", dataset)"
   ]
  },
  {
   "cell_type": "code",
   "execution_count": null,
   "metadata": {},
   "outputs": [],
   "source": []
  }
 ],
 "metadata": {
  "interpreter": {
   "hash": "c566008867b8984604745a2c8b464c8cbb3b13ca4eb03c09ef659d8b6959cc99"
  },
  "kernelspec": {
   "display_name": "Python 3 (ipykernel)",
   "language": "python",
   "name": "python3"
  },
  "language_info": {
   "codemirror_mode": {
    "name": "ipython",
    "version": 3
   },
   "file_extension": ".py",
   "mimetype": "text/x-python",
   "name": "python",
   "nbconvert_exporter": "python",
   "pygments_lexer": "ipython3",
   "version": "3.8.11"
  }
 },
 "nbformat": 4,
 "nbformat_minor": 4
}
