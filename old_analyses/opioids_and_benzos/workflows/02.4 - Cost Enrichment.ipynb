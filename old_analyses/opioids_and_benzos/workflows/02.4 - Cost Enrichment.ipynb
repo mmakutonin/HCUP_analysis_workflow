{
 "cells": [
  {
   "cell_type": "code",
   "execution_count": 1,
   "id": "3070d814",
   "metadata": {},
   "outputs": [],
   "source": [
    "import pandas as pd\n",
    "import numpy as np\n",
    "from utility_functions import load_file, pickle_file, print_to_drop"
   ]
  },
  {
   "cell_type": "code",
   "execution_count": 2,
   "id": "8f02daa4",
   "metadata": {},
   "outputs": [],
   "source": [
    "codes = load_file(\"fully_filtered_codes.pickle\")\n",
    "summary_enhanced = load_file(\"summary_enhanced.pickle\")\n",
    "sid_costs = load_file(\"sid_costs.pickle\")\n",
    "sedd = load_file(\"filtered_sedd_data.pickle\")\n",
    "sid_ed = load_file(\"filtered_sid_ed_data.pickle\")\n",
    "sasd = load_file(\"filtered_sasd_data.pickle\")\n",
    "rvu_lookup = pd.read_csv(\n",
    "    \"../../raw_data/PPRRVU18_OCT.csv\", skiprows=9, index_col=0\n",
    ")"
   ]
  },
  {
   "cell_type": "code",
   "execution_count": 3,
   "id": "eebf900a",
   "metadata": {},
   "outputs": [],
   "source": [
    "conv_factor=rvu_lookup.at[\"47563\", \"FACTOR\"]\n",
    "rvu_lookup = rvu_lookup[[\"DESCRIPTION\", \"TOTAL.1\"]].dropna()"
   ]
  },
  {
   "cell_type": "code",
   "execution_count": 4,
   "id": "d9bbb9b9",
   "metadata": {},
   "outputs": [],
   "source": [
    "summary_enhanced[\"CPT Costs\"] = codes.query(\"cpt_flag == True\")\\\n",
    ".join(rvu_lookup, on=\"codes\", how=\"left\")[\"TOTAL.1\"].reset_index()\\\n",
    ".groupby(\"visit_link\").sum().mul(conv_factor)\n",
    "summary_enhanced[\"CPT Costs\"].fillna(0, inplace=True)\n",
    "summary_enhanced[\"SID Costs\"] = sid_costs.groupby('visit_link').sum().loc[:,'SID_costs']\n",
    "summary_enhanced[\"SID Costs\"].fillna(0, inplace=True)\n",
    "summary_enhanced[\"Cost\"] = summary_enhanced[\"SID Costs\"].add(summary_enhanced[\"CPT Costs\"])"
   ]
  },
  {
   "cell_type": "code",
   "execution_count": 5,
   "id": "6941a9d6",
   "metadata": {},
   "outputs": [
    {
     "name": "stderr",
     "output_type": "stream",
     "text": [
      "C:\\Users\\Michael\\anaconda3\\envs\\HCUP-study-figs\\lib\\site-packages\\pandas\\core\\indexes\\multi.py:3554: RuntimeWarning: The values in the array are unorderable. Pass `sort=False` to suppress this warning.\n",
      "  result = lib.fast_unique_multiple([self._values, rvals], sort=sort)\n"
     ]
    }
   ],
   "source": [
    "sedd_sasd_costs = sedd[[\"discharge_quarter\", \"visit_link\", \"cpt_codes\", \"year\"]]\\\n",
    "    .append(sasd[[\"discharge_quarter\", \"visit_link\", \"cpt_codes\", \"year\"]])\\\n",
    "    .explode(column='cpt_codes').join(rvu_lookup, on='cpt_codes', how=\"left\")\\\n",
    "    .groupby(['year', 'discharge_quarter', 'visit_link']).sum().mul(conv_factor)\n",
    "costs_by_quarter = sedd_sasd_costs.join(\n",
    "    sid_costs.groupby(['year', 'discharge_quarter', 'visit_link']).sum(),\n",
    "    how=\"outer\"\n",
    ").fillna(0).sum(axis=1)\n",
    "inpatient_admits_by_quarter = sid_costs.fillna(0).groupby(['year', 'discharge_quarter', 'visit_link']).count().iloc[:, 0]\n",
    "ed_visits_by_quarter = pd.concat([\n",
    "    sedd[[\"discharge_quarter\", \"visit_link\", \"year\", \"age\"]],\n",
    "    sid_ed[[\"discharge_quarter\", \"visit_link\", \"year\", \"age\"]]\n",
    "]).groupby(['year', 'discharge_quarter', 'visit_link']).count().iloc[:, 0]"
   ]
  },
  {
   "cell_type": "code",
   "execution_count": 6,
   "id": "5804c6b7",
   "metadata": {},
   "outputs": [],
   "source": [
    "outcomes_by_quarter = pd.DataFrame({\n",
    "    \"Cost\": costs_by_quarter,\n",
    "    \"Inpatient Readmissions\": inpatient_admits_by_quarter,\n",
    "    \"ED Readmissions\": ed_visits_by_quarter\n",
    "    }).fillna(0).reset_index().astype(\"float\").groupby(['year', 'discharge_quarter', 'visit_link']).sum()\\\n",
    "    .reset_index().join(summary_enhanced[[\"Admitted\", \"initial_discharge_quarter\", \"initial_year\"]], how='inner', on='visit_link')\n",
    "outcomes_by_quarter[\"quarters_from_init\"] = outcomes_by_quarter.aggregate(\n",
    "    lambda row: (row['year']-row['initial_year'])*4+(row['discharge_quarter']-row['initial_discharge_quarter']),\n",
    "    axis=1\n",
    ")"
   ]
  },
  {
   "cell_type": "code",
   "execution_count": null,
   "id": "fa584e97",
   "metadata": {},
   "outputs": [],
   "source": [
    "#Correct for initial ED visit\n",
    "outcomes_by_quarter[\"ED Readmissions\"].update(\n",
    "    outcomes_by_quarter.loc[\n",
    "        outcomes_by_quarter['quarters_from_init'] == 0\n",
    "    ][\"ED Readmissions\"]-1\n",
    ")\n",
    "#Correct for initial admission if admitted\n",
    "outcomes_by_quarter[\"Inpatient Readmissions\"].update(\n",
    "    outcomes_by_quarter.loc[\n",
    "        (outcomes_by_quarter['quarters_from_init'] == 0) &\n",
    "        (outcomes_by_quarter['Admitted'])\n",
    "    ][\"Inpatient Readmissions\"]-1\n",
    ")"
   ]
  },
  {
   "cell_type": "code",
   "execution_count": 7,
   "id": "7520dc70",
   "metadata": {},
   "outputs": [
    {
     "name": "stdout",
     "output_type": "stream",
     "text": [
      "Number of rows dropped: 11\n"
     ]
    },
    {
     "name": "stderr",
     "output_type": "stream",
     "text": [
      "C:\\Users\\Michael\\AppData\\Local\\Temp/ipykernel_6912/2053639716.py:11: FutureWarning: Indexing with multiple keys (implicitly converted to a tuple of keys) will be deprecated, use a list instead.\n",
      "  outcomes_by_quarter = outcomes_by_quarter.join(summary_enhanced, how=\"inner\", on=\"visit_link\", rsuffix=\"_x\")\\\n"
     ]
    }
   ],
   "source": [
    "# Get rows that don't have an associated cost\n",
    "missing_costs = sid_costs.set_index('visit_link')[sid_costs.set_index('visit_link')['SID_costs'].isna()].index\n",
    "# Get rows that have a zero cost\n",
    "zero_cost = summary_enhanced.query('Cost == 0').index\n",
    "# If both conditions met, drop from summary table since it's a false zero\n",
    "drop_rows = [index for index in missing_costs if index in zero_cost]\n",
    "print_to_drop(f\"{len(drop_rows)} records dropped due to zero SID and SEDD costs.\")\n",
    "summary_enhanced.drop(drop_rows, inplace=True)\n",
    "\n",
    "#filter outcomes_by_quarter and restrict columns\n",
    "outcomes_by_quarter = outcomes_by_quarter.join(summary_enhanced, how=\"inner\", on=\"visit_link\", rsuffix=\"_x\")\\\n",
    "    .groupby([\"visit_link\", \"quarters_from_init\"])[[\"Cost\", \"Inpatient Readmissions\", \"ED Readmissions\"]].sum()"
   ]
  },
  {
   "cell_type": "code",
   "execution_count": 8,
   "id": "237d0836",
   "metadata": {},
   "outputs": [],
   "source": [
    "pickle_file(\"summary_costs_enhanced.pickle\", summary_enhanced)\n",
    "pickle_file(\"outcomes_by_quarter.pickle\", outcomes_by_quarter)"
   ]
  }
 ],
 "metadata": {
  "interpreter": {
   "hash": "c566008867b8984604745a2c8b464c8cbb3b13ca4eb03c09ef659d8b6959cc99"
  },
  "kernelspec": {
   "display_name": "Python 3 (ipykernel)",
   "language": "python",
   "name": "python3"
  },
  "language_info": {
   "codemirror_mode": {
    "name": "ipython",
    "version": 3
   },
   "file_extension": ".py",
   "mimetype": "text/x-python",
   "name": "python",
   "nbconvert_exporter": "python",
   "pygments_lexer": "ipython3",
   "version": "3.8.11"
  }
 },
 "nbformat": 4,
 "nbformat_minor": 5
}
