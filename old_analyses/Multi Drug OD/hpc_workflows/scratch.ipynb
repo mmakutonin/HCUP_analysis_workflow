{
 "cells": [
  {
   "cell_type": "code",
   "execution_count": 1,
   "metadata": {},
   "outputs": [],
   "source": [
    "# %% [markdown]\n",
    "# ### Imports\n",
    "\n",
    "# %%\n",
    "import pandas as pd\n",
    "import numpy as np\n",
    "from utility_functions import load_file, pickle_file, starting_run, finished_run\n",
    "from analysis_variables import de_col_keys, de_col_values, demographic_tables, code_category_dict\n",
    "from scipy.stats import f_oneway, ttest_ind, sem, norm, t\n",
    "from statsmodels.stats.api import DescrStatsW, CompareMeans\n",
    "\n",
    "full_dataset = load_file(\"summary_costs_enhanced.pickle\")\n",
    "filtered_dataset_codes = load_file(\"fully_filtered_codes.pickle\")\n",
    "comorbidities = load_file('comorbidities.pickle')\n",
    "\n",
    "# %% [markdown]\n",
    "# ### Demographic Column Classification\n",
    "\n",
    "# %%\n",
    "full_dataset[\"Married\"] = full_dataset[\"marital_status\"].eq('Married')\n",
    "full_dataset[\"Uninsured\"] = full_dataset[\"payer\"].isin(['No charge', 'Self-pay'])\n",
    "full_dataset[\"Medicare\"] = full_dataset[\"payer\"].eq('Medicare')\n",
    "full_dataset[\"Medicaid\"] = full_dataset[\"payer\"].eq('Medicaid')\n",
    "full_dataset[\"Private Insurance\"] = full_dataset[\"payer\"].eq('Private insurance')\n",
    "full_dataset[\"White\"] = full_dataset[\"race\"].eq(\"White\")\n",
    "full_dataset[\"African American or Hispanic\"] = full_dataset[\"race\"].isin(['African-American', \"Hispanic\"])\n",
    "full_dataset[\"Female\"] = full_dataset[\"gender\"].eq(\"Female\")\n",
    "full_dataset[\"Died\"] = full_dataset[\"Died\"].eq(1)\n",
    "\n",
    "#rename some columns for cosmetic reasons:\n",
    "full_dataset[\"Zip Code Income (mean quartile)\"] = full_dataset[\"median_zip_income\"]\n",
    "full_dataset[\"Age (mean years)\"] = full_dataset[\"age\"]\n",
    "full_dataset[\"Recurrent ED Visits (# / 1000 patients)\"] = full_dataset[\"ED Readmissions\"].mul(1000)\n",
    "full_dataset[\"Repeat Hospitalizations (# / 1000 patients)\"] = full_dataset[\"Inpatient Readmissions\"].mul(1000)\n",
    "full_dataset[\"Cost (USD)\"] = full_dataset[\"Cost\"]\n",
    "full_dataset[\"Pediatric (<18)\"] = full_dataset[\"Pediatric\"]\n",
    "full_dataset[\"Geriatric (>65)\"] = full_dataset[\"Geriatric\"]\n",
    "full_dataset[\"Charleston Comorbidity Index (mean)\"] = full_dataset[\"CMDF CCI\"]\n",
    "full_dataset[\"Length of Stay (mean days)\"] = full_dataset[\"LOS\"]\n",
    "full_dataset[\"Deaths (%)\"] = full_dataset[\"Died\"]\n",
    "\n",
    "# del full_dataset[\"Admitted\"] #step needed in this analysis due to \"Admitted\" column in de_col_values\n",
    "for key in de_col_keys:\n",
    "    full_dataset = full_dataset.join([full_dataset[key].eq(val).rename(val).loc[full_dataset.index] for val in de_col_values[key]])\n",
    "# full_dataset = full_dataset.join([full_dataset[de_col_name].eq(val).rename(val) for val in de_col_values])\n",
    "\n",
    "dem_dataset = full_dataset[[\n",
    "    'Zip Code Income (mean quartile)', \n",
    "    'Age (mean years)',\n",
    "    \"Pediatric (<18)\",\n",
    "    \"Geriatric (>65)\",\n",
    "    'Cost (USD)',\n",
    "    \"Admitted\",\n",
    "    \"Married\",\n",
    "    \"Uninsured\", \n",
    "    \"Medicare\",\n",
    "    \"Medicaid\",\n",
    "    \"Private Insurance\",\n",
    "    \"White\",\n",
    "    \"African American or Hispanic\",\n",
    "    \"Female\",\n",
    "    'Recurrent ED Visits (# / 1000 patients)',\n",
    "    'Repeat Hospitalizations (# / 1000 patients)',\n",
    "    'Deaths (%)',\n",
    "    'Charleston Comorbidity Index (mean)',\n",
    "    'Length of Stay (mean days)',\n",
    "    *pd.core.common.flatten(de_col_values.values())\n",
    "]].copy()\n",
    "\n",
    "category_dict = {\n",
    "    'Totals': 'Demographic',\n",
    "    'Age (mean years)': 'Demographic',\n",
    "    \"Pediatric (<18)\": 'Demographic',\n",
    "    \"Geriatric (>65)\": 'Demographic',\n",
    "    'White': 'Demographic',\n",
    "    'African American or Hispanic': 'Demographic',\n",
    "    'Female': 'Demographic',\n",
    "    'Married': 'Demographic',\n",
    "    'Medicaid': 'Insurance Status',\n",
    "    'Medicare': 'Insurance Status',\n",
    "    'Private Insurance': 'Insurance Status',\n",
    "    'Uninsured': 'Insurance Status',\n",
    "    'Zip Code Income (mean quartile)': 'Demographic',\n",
    "    'Charleston Comorbidity Index (mean)': 'Comorbidity',\n",
    "    **{key: 'Comorbidity' for key in pd.core.common.flatten(list(code_category_dict.keys())[20:])}, #first 20 used to calculate CCI\n",
    "    'Recurrent ED Visits (# / 1000 patients)': 'Outcome',\n",
    "    'Repeat Hospitalizations (# / 1000 patients)': 'Outcome',\n",
    "    'Cost (USD)': 'Outcome',\n",
    "    'Deaths (%)': 'Outcome',\n",
    "    'Length of Stay (mean days)': 'Outcome',\n",
    "    'Admitted': 'Clinical Pathway',\n",
    "    **{value: 'Clinical Pathway' for value in pd.core.common.flatten(de_col_values.values())}\n",
    "}\n",
    "\n",
    "summary_table_sum_cols = [ #these are the columns that are not aggregates of proportions of patients\n",
    "    \"Cost (USD)\", \"Charleston Comorbidity Index (mean)\", \"Age (mean years)\",\n",
    "    \"Zip Code Income (mean quartile)\",'Length of Stay (mean days)',\n",
    "    \"Recurrent ED Visits (# / 1000 patients)\",\n",
    "    \"Repeat Hospitalizations (# / 1000 patients)\"\n",
    "]\n",
    "\n",
    "# %%\n",
    "def create_outcome_crosscomparison_table(num_full_dataset, outcome_variable, groupby_row):\n",
    "    table_data = {}\n",
    "    if len(groupby_row) == 1: #This probably represents a demographic variable.\n",
    "        groupby_row.append(f\"Not {groupby_row[0]}\")\n",
    "        demographic_row = True\n",
    "    else:\n",
    "        demographic_row = False\n",
    "    for name, dataset in num_full_dataset:\n",
    "        if demographic_row:\n",
    "            dataset[f\"Not {groupby_row[0]}\"] = (~(dataset[groupby_row[0]].astype(\"bool\"))).astype(int) #need type conversions because NOT operation does not work on int series.\n",
    "        dataset = dataset[[*groupby_row, outcome_variable]]\n",
    "        table_data[f\"{name} (%, 95% CI, N)\"] = [dataset[dataset[row] == 1][outcome_variable] for row in groupby_row]\n",
    "    dataset_df = pd.DataFrame(table_data, index=groupby_row)\n",
    "    return_df = dataset_df.applymap(\n",
    "        lambda cell: DescrStatsW(cell)\n",
    "    ).applymap(\n",
    "        lambda desc_stats: \"{} ({} - {}), {}\".format(\n",
    "            round(desc_stats.mean,1),\n",
    "            round(desc_stats.tconfint_mean(0.05)[0],1),\n",
    "            round(desc_stats.tconfint_mean(0.05)[0],1),\n",
    "            round(desc_stats.nobs,0)\n",
    "        ) if desc_stats.nobs > 0 else \" \"\n",
    "    )\n",
    "    # doing statistics for both axes:\n",
    "    for i in range(2):\n",
    "        # Very similar logic to latter half of create_summary\n",
    "        if len(dataset_df.columns) == 2:\n",
    "            return_df[\"P-value (Welch's T-test)\"] = dataset_df.agg(\n",
    "                lambda row: round(ttest_ind(row[0], row[1], equal_var=False).pvalue, 5) \\\n",
    "                    if row[0].shape[0]*row[1].shape[0] > 0 else ' '\n",
    "                , axis=\"columns\" \n",
    "            ).apply(lambda p: \"< 0.00001\" if p == 0.0 else p)\n",
    "        elif len(dataset_df.columns) > 2:\n",
    "            return_df[\"P-value (ANOVA)\"] = dataset_df.applymap(\n",
    "                lambda cell: np.nan if len(cell) == 0 else cell\n",
    "            ).agg(\n",
    "                lambda row: round(f_oneway(*row.dropna()).pvalue, 5), axis=\"columns\" \n",
    "            ).apply(lambda p: \"< 0.00001\" if p == 0.0 else p)\n",
    "        dataset_df = dataset_df.T\n",
    "        return_df = return_df.T\n",
    "    return return_df.replace(np.nan, \" \")\n",
    "\n",
    "# %%\n",
    "def create_summary(groupby_col, save_filepath, tb, filter_criteria=\"`Cost (USD)` >= 0\"): #cost should always be positive, making this a universal filter\n",
    "    #Dependencies for both cross-comparison and summary tables\n",
    "    num_full_dataset = dem_dataset.query(filter_criteria).join(comorbidities, how=\"left\")\\\n",
    "        .fillna(0).astype(\"int\").join(full_dataset[groupby_col], rsuffix=\"r_\").groupby(groupby_col)\n",
    "    total_patients = num_full_dataset.count().T.iloc[0].sum()\n",
    "    col_totals = num_full_dataset.count().T.iloc[0].apply(\n",
    "        lambda total: f\"{total} ({round(total/total_patients*100,1)}%)\"\n",
    "    )\n",
    "    #Create summary tables\n",
    "    agg_table = num_full_dataset.apply(lambda x: pd.Series(\n",
    "        [DescrStatsW(x[column]) for column in x.columns],\n",
    "        index=x.columns)).T.drop(groupby_col)\n",
    "    summary_table = agg_table.transform(\n",
    "        lambda row: [f\"{round(val.mean, 1)} ({round(val.tconfint_mean(0.05)[0],1)}, {round(val.tconfint_mean(0.05)[1],1)})\" for val in row] \\\n",
    "                    if row.name in summary_table_sum_cols else \\\n",
    "                    [f\"{round(val.mean*100,1)}% ({round(val.tconfint_mean(0.05)[0]*100,1)}, {round(val.tconfint_mean(0.05)[1]*100,1)}), {round(val.sum, 1)}\" for val in row],\n",
    "        axis=1\n",
    "    )\n",
    "    summary_table.columns = [f\"{col} (%, 95% CI, N)\" for col in summary_table.columns]\n",
    "    if(len(summary_table.columns) == 2):\n",
    "        summary_table[\"Difference (95% CI)\"] = agg_table.agg(\n",
    "            lambda row: (\"{} ({}, {})\" if row.name in summary_table_sum_cols else \"{}% ({}%, {}%)\").format(\n",
    "                *[\n",
    "                    round(val * (1 if row.name in summary_table_sum_cols else 100), 1)\\\n",
    "                    for val in [row[0].mean-row[1].mean, *CompareMeans(row[0], row[1]).tconfint_diff(0.05, usevar='unequal')]\n",
    "                ]\n",
    "            ),\n",
    "            axis=1\n",
    "        )\n",
    "        summary_table[\"P-value (Welch's T-test)\"] = [\n",
    "            round(ttest_ind(*[x for _, x in num_full_dataset[col]], equal_var=False).pvalue, 5) for col in agg_table.index\n",
    "        ]\n",
    "        summary_table[\"P-value (Welch's T-test)\"] = summary_table[\"P-value (Welch's T-test)\"].apply(\n",
    "            lambda cell: \"< 0.00001\" if cell == 0.0 else cell\n",
    "        )\n",
    "        summary_table.loc[\"Totals\"] = [*col_totals, ' ', ' ']\n",
    "    elif len(summary_table.columns) > 2:\n",
    "        summary_table[\"P-value (ANOVA)\"] = [round(f_oneway(*[x for _, x in num_full_dataset[col]]).pvalue,5) for col in agg_table.index]\n",
    "        summary_table[\"P-value (ANOVA)\"] = summary_table[\"P-value (ANOVA)\"].apply(\n",
    "            lambda cell: \"< 0.00001\" if cell == 0.0 else cell\n",
    "        )\n",
    "        summary_table.loc[\"Totals\"] = [*col_totals, ' ']\n",
    "    else:\n",
    "        summary_table.loc[\"Totals\"] = col_totals\n",
    "    summary_table.reindex(category_dict.keys()).to_csv(save_filepath)\n",
    "    #Create cross-comparison tables\n",
    "    if tb[\"has_outcome_crosscomparison\"]:\n",
    "        for table in tb[\"outcome_crosscomparison\"]:\n",
    "            create_outcome_crosscomparison_table(\n",
    "                num_full_dataset,\n",
    "                table[\"outcome_variable\"],\n",
    "                table[\"groupby_row\"]\n",
    "            ).to_csv(table[\"save_filepath\"])"
   ]
  },
  {
   "cell_type": "code",
   "execution_count": 51,
   "metadata": {},
   "outputs": [
    {
     "data": {
      "text/plain": [
       "<AxesSubplot:ylabel='Proportion of ED Visits'>"
      ]
     },
     "execution_count": 51,
     "metadata": {},
     "output_type": "execute_result"
    },
    {
     "data": {
      "image/png": "[encoded data removed]",
      "text/plain": [
       "<Figure size 640x480 with 1 Axes>"
      ]
     },
     "metadata": {},
     "output_type": "display_data"
    }
   ],
   "source": [
    "plot_data = full_dataset.loc[full_dataset[\"Concurrent Opioid Intoxication\"]].loc[:, [\n",
    "    \"Cost (USD)\", 'Length of Stay (mean days)',\n",
    "    \"Recurrent ED Visits (# / 1000 patients)\",\n",
    "    \"Repeat Hospitalizations (# / 1000 patients)\"\n",
    "]][\"Recurrent ED Visits (# / 1000 patients)\"].div(1000).value_counts().reset_index()\n",
    "plot_data[\"Proportion of ED Visits\"] = plot_data[\"Recurrent ED Visits (# / 1000 patients)\"].mul(plot_data[\"index\"].add(1))\n",
    "plot_data[\"Extra ED visits\"] = plot_data[\"Recurrent ED Visits (# / 1000 patients)\"].mul(plot_data[\"index\"])\n",
    "plot_data.set_index([\"index\"])[\"Proportion of ED Visits\"].plot(kind=\"pie\")"
   ]
  },
  {
   "cell_type": "code",
   "execution_count": 52,
   "metadata": {},
   "outputs": [
    {
     "data": {
      "text/html": [
       "<div>\n",
       "<style scoped>\n",
       "    .dataframe tbody tr th:only-of-type {\n",
       "        vertical-align: middle;\n",
       "    }\n",
       "\n",
       "    .dataframe tbody tr th {\n",
       "        vertical-align: top;\n",
       "    }\n",
       "\n",
       "    .dataframe thead th {\n",
       "        text-align: right;\n",
       "    }\n",
       "</style>\n",
       "<table border=\"1\" class=\"dataframe\">\n",
       "  <thead>\n",
       "    <tr style=\"text-align: right;\">\n",
       "      <th></th>\n",
       "      <th>index</th>\n",
       "      <th>Recurrent ED Visits (# / 1000 patients)</th>\n",
       "      <th>Proportion of ED Visits</th>\n",
       "      <th>Extra ED visits</th>\n",
       "    </tr>\n",
       "  </thead>\n",
       "  <tbody>\n",
       "    <tr>\n",
       "      <th>0</th>\n",
       "      <td>0.0</td>\n",
       "      <td>9024</td>\n",
       "      <td>9024.0</td>\n",
       "      <td>0.0</td>\n",
       "    </tr>\n",
       "    <tr>\n",
       "      <th>1</th>\n",
       "      <td>1.0</td>\n",
       "      <td>1383</td>\n",
       "      <td>2766.0</td>\n",
       "      <td>1383.0</td>\n",
       "    </tr>\n",
       "    <tr>\n",
       "      <th>2</th>\n",
       "      <td>2.0</td>\n",
       "      <td>356</td>\n",
       "      <td>1068.0</td>\n",
       "      <td>712.0</td>\n",
       "    </tr>\n",
       "    <tr>\n",
       "      <th>3</th>\n",
       "      <td>3.0</td>\n",
       "      <td>120</td>\n",
       "      <td>480.0</td>\n",
       "      <td>360.0</td>\n",
       "    </tr>\n",
       "    <tr>\n",
       "      <th>4</th>\n",
       "      <td>4.0</td>\n",
       "      <td>36</td>\n",
       "      <td>180.0</td>\n",
       "      <td>144.0</td>\n",
       "    </tr>\n",
       "    <tr>\n",
       "      <th>5</th>\n",
       "      <td>5.0</td>\n",
       "      <td>25</td>\n",
       "      <td>150.0</td>\n",
       "      <td>125.0</td>\n",
       "    </tr>\n",
       "    <tr>\n",
       "      <th>6</th>\n",
       "      <td>6.0</td>\n",
       "      <td>6</td>\n",
       "      <td>42.0</td>\n",
       "      <td>36.0</td>\n",
       "    </tr>\n",
       "    <tr>\n",
       "      <th>7</th>\n",
       "      <td>7.0</td>\n",
       "      <td>4</td>\n",
       "      <td>32.0</td>\n",
       "      <td>28.0</td>\n",
       "    </tr>\n",
       "    <tr>\n",
       "      <th>8</th>\n",
       "      <td>8.0</td>\n",
       "      <td>4</td>\n",
       "      <td>36.0</td>\n",
       "      <td>32.0</td>\n",
       "    </tr>\n",
       "    <tr>\n",
       "      <th>9</th>\n",
       "      <td>9.0</td>\n",
       "      <td>2</td>\n",
       "      <td>20.0</td>\n",
       "      <td>18.0</td>\n",
       "    </tr>\n",
       "    <tr>\n",
       "      <th>10</th>\n",
       "      <td>13.0</td>\n",
       "      <td>2</td>\n",
       "      <td>28.0</td>\n",
       "      <td>26.0</td>\n",
       "    </tr>\n",
       "    <tr>\n",
       "      <th>11</th>\n",
       "      <td>11.0</td>\n",
       "      <td>1</td>\n",
       "      <td>12.0</td>\n",
       "      <td>11.0</td>\n",
       "    </tr>\n",
       "    <tr>\n",
       "      <th>12</th>\n",
       "      <td>22.0</td>\n",
       "      <td>1</td>\n",
       "      <td>23.0</td>\n",
       "      <td>22.0</td>\n",
       "    </tr>\n",
       "  </tbody>\n",
       "</table>\n",
       "</div>"
      ],
      "text/plain": [
       "    index  Recurrent ED Visits (# / 1000 patients)  Proportion of ED Visits  \\\n",
       "0     0.0                                     9024                   9024.0   \n",
       "1     1.0                                     1383                   2766.0   \n",
       "2     2.0                                      356                   1068.0   \n",
       "3     3.0                                      120                    480.0   \n",
       "4     4.0                                       36                    180.0   \n",
       "5     5.0                                       25                    150.0   \n",
       "6     6.0                                        6                     42.0   \n",
       "7     7.0                                        4                     32.0   \n",
       "8     8.0                                        4                     36.0   \n",
       "9     9.0                                        2                     20.0   \n",
       "10   13.0                                        2                     28.0   \n",
       "11   11.0                                        1                     12.0   \n",
       "12   22.0                                        1                     23.0   \n",
       "\n",
       "    Extra ED visits  \n",
       "0               0.0  \n",
       "1            1383.0  \n",
       "2             712.0  \n",
       "3             360.0  \n",
       "4             144.0  \n",
       "5             125.0  \n",
       "6              36.0  \n",
       "7              28.0  \n",
       "8              32.0  \n",
       "9              18.0  \n",
       "10             26.0  \n",
       "11             11.0  \n",
       "12             22.0  "
      ]
     },
     "execution_count": 52,
     "metadata": {},
     "output_type": "execute_result"
    }
   ],
   "source": [
    "plot_data"
   ]
  },
  {
   "cell_type": "code",
   "execution_count": 53,
   "metadata": {},
   "outputs": [
    {
     "data": {
      "text/plain": [
       "0.24301652545927355"
      ]
     },
     "execution_count": 53,
     "metadata": {},
     "output_type": "execute_result"
    }
   ],
   "source": [
    "plot_data[\"Extra ED visits\"].agg(\"sum\") / (9024 + plot_data[\"Extra ED visits\"].agg(\"sum\"))"
   ]
  },
  {
   "cell_type": "code",
   "execution_count": 39,
   "metadata": {},
   "outputs": [
    {
     "data": {
      "text/plain": [
       "<AxesSubplot:ylabel='sum'>"
      ]
     },
     "execution_count": 39,
     "metadata": {},
     "output_type": "execute_result"
    },
    {
     "data": {
      "image/png": "[encoded data removed]",
      "text/plain": [
       "<Figure size 640x480 with 1 Axes>"
      ]
     },
     "metadata": {},
     "output_type": "display_data"
    }
   ],
   "source": [
    "plot_data = full_dataset.loc[full_dataset[\"Concurrent Opioid Intoxication\"]].loc[:, [\n",
    "    \"Cost (USD)\", 'Length of Stay (mean days)',\n",
    "    \"Recurrent ED Visits (# / 1000 patients)\",\n",
    "    \"Repeat Hospitalizations (# / 1000 patients)\"\n",
    "]].groupby([\"Recurrent ED Visits (# / 1000 patients)\"])[\"Cost (USD)\"].agg([\"sum\", \"count\", \"mean\"]).reset_index()\n",
    "plot_data[\"Recurrent ED Visits (# / 1000 patients)\"] = plot_data[\"Recurrent ED Visits (# / 1000 patients)\"].div(1000)\n",
    "plot_data.set_index(\"Recurrent ED Visits (# / 1000 patients)\")[\"sum\"].plot(kind=\"pie\")"
   ]
  },
  {
   "cell_type": "code",
   "execution_count": 40,
   "metadata": {},
   "outputs": [],
   "source": [
    "cost_data = (plot_data.set_index(\"Recurrent ED Visits (# / 1000 patients)\")[\"sum\"].iloc[0])\n",
    "cost_data_revisits = (plot_data.set_index(\"Recurrent ED Visits (# / 1000 patients)\")[\"sum\"].iloc[1:].agg(sum))"
   ]
  },
  {
   "cell_type": "code",
   "execution_count": 41,
   "metadata": {},
   "outputs": [
    {
     "data": {
      "text/plain": [
       "0.28435083793666555"
      ]
     },
     "execution_count": 41,
     "metadata": {},
     "output_type": "execute_result"
    }
   ],
   "source": [
    "cost_data_revisits/(cost_data_revisits + cost_data)"
   ]
  },
  {
   "cell_type": "code",
   "execution_count": 43,
   "metadata": {},
   "outputs": [
    {
     "data": {
      "text/plain": [
       "2236.700076763736"
      ]
     },
     "execution_count": 43,
     "metadata": {},
     "output_type": "execute_result"
    }
   ],
   "source": [
    "plot_data.set_index(\"Recurrent ED Visits (# / 1000 patients)\")[\"mean\"].iloc[0]"
   ]
  },
  {
   "cell_type": "code",
   "execution_count": 46,
   "metadata": {},
   "outputs": [
    {
     "data": {
      "text/plain": [
       "8904.603870688015"
      ]
     },
     "execution_count": 46,
     "metadata": {},
     "output_type": "execute_result"
    }
   ],
   "source": [
    "(plot_data.set_index(\"Recurrent ED Visits (# / 1000 patients)\")[\"mean\"].iloc[1:].agg(\"mean\"))"
   ]
  },
  {
   "cell_type": "code",
   "execution_count": null,
   "metadata": {},
   "outputs": [],
   "source": []
  }
 ],
 "metadata": {
  "kernelspec": {
   "display_name": "Python 3.10.8 ('ed-triage')",
   "language": "python",
   "name": "python3"
  },
  "language_info": {
   "codemirror_mode": {
    "name": "ipython",
    "version": 3
   },
   "file_extension": ".py",
   "mimetype": "text/x-python",
   "name": "python",
   "nbconvert_exporter": "python",
   "pygments_lexer": "ipython3",
   "version": "3.10.8"
  },
  "orig_nbformat": 4,
  "vscode": {
   "interpreter": {
    "hash": "4a50a68a15aa581c036bddc6bfd90028e63554f70f4e8974789a9412f7bffbd9"
   }
  }
 },
 "nbformat": 4,
 "nbformat_minor": 2
}
