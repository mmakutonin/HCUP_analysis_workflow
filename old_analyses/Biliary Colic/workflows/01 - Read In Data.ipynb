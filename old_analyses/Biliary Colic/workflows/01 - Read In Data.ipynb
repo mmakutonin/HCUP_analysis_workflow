{
 "cells": [
  {
   "cell_type": "code",
   "execution_count": 1,
   "metadata": {},
   "outputs": [],
   "source": [
    "import pandas as pd\n",
    "import numpy as np\n",
    "from data_reading_functions import data_dir, read_data, core_reference, code_lengths\n",
    "from analysis_variables import procedure_codes, diagnosis_codes, dataset_filtering_function\n",
    "from utility_functions import pickle_file, starting_run, finished_run"
   ]
  },
  {
   "cell_type": "markdown",
   "metadata": {},
   "source": [
    "### Data Reading"
   ]
  },
  {
   "cell_type": "code",
   "execution_count": 2,
   "metadata": {},
   "outputs": [],
   "source": [
    "split_codes = lambda val, col_name: [val[i:i+code_lengths[col_name]] for i in range(0, len(val), code_lengths[col_name])]\n",
    "\n",
    "def process_dataset(dataset, proc_code_type):\n",
    "    dataset_core = read_data(core_reference[dataset][\"2018\"], f\"MD_{dataset.upper()}_2018_CORE.asc\").append(\n",
    "        read_data(core_reference[dataset][\"2017\"], f\"MD_{dataset.upper()}_2017_CORE.asc\")\n",
    "    ).append(\n",
    "        read_data(core_reference[dataset][\"2016\"], f\"MD_{dataset.upper()}_2016_CORE.asc\"), ignore_index=True\n",
    "    )\n",
    "    \n",
    "    dataset_core = dataset_filtering_function(dataset, dataset_core, proc_code_type)\n",
    "    dataset_core = dataset_core.astype(core_reference[dataset][\"dtypes\"]).set_index(\"record_id\")\n",
    "    dataset_core[\"ICD-10\"] = dataset_core[\"ICD-10\"].transform(split_codes, col_name=\"ICD-10\")\n",
    "    dataset_core[proc_code_type] = dataset_core[proc_code_type].transform(split_codes, col_name=proc_code_type)\n",
    "    pickle_file(f\"{dataset}_core_filtered.pickle\", dataset_core)\n",
    "    del dataset_core\n"
   ]
  },
  {
   "cell_type": "code",
   "execution_count": null,
   "metadata": {},
   "outputs": [],
   "source": [
    "process_dataset(\"sedd\", \"cpt_codes\")\n",
    "process_dataset(\"sasd\", \"cpt_codes\")\n",
    "process_dataset(\"sid\", \"ICD-10-procedures\")"
   ]
  }
 ],
 "metadata": {
  "kernelspec": {
   "display_name": "Python 3 (ipykernel)",
   "language": "python",
   "name": "python3"
  },
  "language_info": {
   "codemirror_mode": {
    "name": "ipython",
    "version": 3
   },
   "file_extension": ".py",
   "mimetype": "text/x-python",
   "name": "python",
   "nbconvert_exporter": "python",
   "pygments_lexer": "ipython3",
   "version": "3.8.11"
  }
 },
 "nbformat": 4,
 "nbformat_minor": 4
}
